{
 "cells": [
  {
   "cell_type": "code",
   "execution_count": null,
   "metadata": {
    "ExecuteTime": {
     "end_time": "2021-05-28T00:43:44.984994Z",
     "start_time": "2021-05-28T00:43:44.757029Z"
    }
   },
   "outputs": [],
   "source": [
    "%matplotlib inline"
   ]
  },
  {
   "cell_type": "code",
   "execution_count": null,
   "metadata": {
    "ExecuteTime": {
     "end_time": "2021-05-28T00:43:45.586066Z",
     "start_time": "2021-05-28T00:43:44.986037Z"
    },
    "scrolled": true
   },
   "outputs": [],
   "source": [
    "import matplotlib.pyplot as plt\n",
    "import seaborn as sn\n",
    "sn.set_context(\"poster\")\n",
    "\n",
    "import torch\n",
    "from torch import nn as nn\n",
    "ttype = torch.cuda.FloatTensor if torch.cuda.is_available() else torch.FloatTensor\n",
    "ctype = torch.cuda.LongTensor if torch.cuda.is_available() else torch.LongTensor\n",
    "print(ttype)\n",
    "import torch.nn.functional as F\n",
    "from matplotlib import gridspec\n",
    "from sithcon import SITHCon_Layer, _SITHCon_Core, iSITH\n",
    "\n",
    "from tqdm.notebook import tqdm\n",
    "\n",
    "import itertools\n",
    "from csv import DictWriter\n",
    "import os \n",
    "from os.path import join\n",
    "import glob\n",
    "\n",
    "import numpy as np\n",
    "import pandas as pd\n",
    "import pickle\n",
    "from math import factorial\n",
    "import random"
   ]
  },
  {
   "cell_type": "code",
   "execution_count": null,
   "metadata": {
    "ExecuteTime": {
     "end_time": "2021-05-28T00:43:45.589536Z",
     "start_time": "2021-05-28T00:43:45.587325Z"
    }
   },
   "outputs": [],
   "source": [
    "start_path =\"/media/root/easystore/experiments/audiomnist/{:05.2f}/AudioMNIST/data/data_{:02}_{:.2f}.npy\"\n",
    "print(\"/media/root/easystore/experiments/audiomnist/{:05.2f}/AudioMNIST/data/data_{:02}_{:.2f}.npy\".format(1.0, \n",
    "                                                                                                          1, \n",
    "                                                                                                          1.0))"
   ]
  },
  {
   "cell_type": "code",
   "execution_count": null,
   "metadata": {
    "ExecuteTime": {
     "end_time": "2021-05-28T00:43:45.615452Z",
     "start_time": "2021-05-28T00:43:45.590410Z"
    }
   },
   "outputs": [],
   "source": [
    "all_files = pd.read_csv(join('data','files_info.csv'))\n",
    "\n",
    "tr_info = all_files[(all_files.rec_split<9)&(all_files.subjid!=60)].reset_index()\n",
    "del tr_info['index']\n",
    "tr_info['train_scale'] = [1.0]*tr_info.shape[0]\n",
    "\n",
    "print(tr_info.head())"
   ]
  },
  {
   "cell_type": "code",
   "execution_count": null,
   "metadata": {
    "ExecuteTime": {
     "end_time": "2021-05-28T00:43:45.624126Z",
     "start_time": "2021-05-28T00:43:45.616594Z"
    }
   },
   "outputs": [],
   "source": [
    "scales = [.1,.4,1.0,2.5,10.]\n",
    "nps = int(tr_info[(tr_info.digit==0)].count()[0]/len(scales))\n",
    "num_per_scale = [nps]*len(scales)\n",
    "print(tr_info[(tr_info.digit==0)].count()[0])\n",
    "num_per_scale[-1] = num_per_scale[-1] + tr_info[(tr_info.digit==0)].count()[0] - nps*len(scales)\n",
    "print(num_per_scale)"
   ]
  },
  {
   "cell_type": "code",
   "execution_count": null,
   "metadata": {
    "ExecuteTime": {
     "end_time": "2021-05-28T00:43:49.019698Z",
     "start_time": "2021-05-28T00:43:45.975767Z"
    }
   },
   "outputs": [],
   "source": [
    "with open(join('data', 'trainX_sawtooth.dill'), \"rb\") as f:\n",
    "    trainX = pickle.load(f)\n",
    "with open(join('data', 'trainY_sawtooth.dill'), \"rb\") as f:\n",
    "    trainY = pickle.load(f)\n",
    "\n",
    "    \n",
    "    "
   ]
  },
  {
   "cell_type": "markdown",
   "metadata": {},
   "source": [
    "# Classes "
   ]
  },
  {
   "cell_type": "code",
   "execution_count": null,
   "metadata": {
    "ExecuteTime": {
     "end_time": "2021-05-28T00:43:49.031007Z",
     "start_time": "2021-05-28T00:43:49.020779Z"
    }
   },
   "outputs": [],
   "source": [
    "import torch\n",
    "import torch.nn as nn\n",
    "from torch.nn.utils import weight_norm\n",
    "\n",
    "\n",
    "class Chomp1d(nn.Module):\n",
    "    def __init__(self, chomp_size):\n",
    "        super(Chomp1d, self).__init__()\n",
    "        self.chomp_size = chomp_size\n",
    "\n",
    "    def forward(self, x):\n",
    "        return x[:, :, :-self.chomp_size].contiguous()\n",
    "\n",
    "\n",
    "class TemporalBlock(nn.Module):\n",
    "    def __init__(self, n_inputs, n_outputs, kernel_size, stride, dilation, padding, dropout=0.2):\n",
    "        super(TemporalBlock, self).__init__()\n",
    "        self.conv1 = weight_norm(nn.Conv1d(n_inputs, n_outputs, kernel_size,\n",
    "                                           stride=stride, padding=padding, dilation=dilation))\n",
    "        self.chomp1 = Chomp1d(padding)\n",
    "        self.relu1 = nn.ReLU()\n",
    "        self.dropout1 = nn.Dropout(dropout)\n",
    "\n",
    "        self.conv2 = weight_norm(nn.Conv1d(n_outputs, n_outputs, kernel_size,\n",
    "                                           stride=stride, padding=padding, dilation=dilation))\n",
    "        self.chomp2 = Chomp1d(padding)\n",
    "        self.relu2 = nn.ReLU()\n",
    "        self.dropout2 = nn.Dropout(dropout)\n",
    "\n",
    "        self.net = nn.Sequential(self.conv1, self.chomp1, self.relu1, self.dropout1,\n",
    "                                 self.conv2, self.chomp2, self.relu2, self.dropout2)\n",
    "        self.downsample = nn.Conv1d(n_inputs, n_outputs, 1) if n_inputs != n_outputs else None\n",
    "        self.relu = nn.ReLU()\n",
    "        self.init_weights()\n",
    "\n",
    "    def init_weights(self):\n",
    "        self.conv1.weight.data.normal_(0, 0.01)\n",
    "        self.conv2.weight.data.normal_(0, 0.01)\n",
    "        if self.downsample is not None:\n",
    "            self.downsample.weight.data.normal_(0, 0.01)\n",
    "\n",
    "    def forward(self, x):\n",
    "        out = self.net(x)\n",
    "        res = x if self.downsample is None else self.downsample(x)\n",
    "        return self.relu(out + res)\n",
    "\n",
    "\n",
    "class TemporalConvNet(nn.Module):\n",
    "    def __init__(self, num_inputs, num_channels, kernel_size=2, dropout=0.2):\n",
    "        super(TemporalConvNet, self).__init__()\n",
    "        layers = []\n",
    "        num_levels = len(num_channels)\n",
    "        for i in range(num_levels):\n",
    "            dilation_size = 2 ** i\n",
    "            in_channels = num_inputs if i == 0 else num_channels[i-1]\n",
    "            out_channels = num_channels[i]\n",
    "            layers += [TemporalBlock(in_channels, out_channels, kernel_size, stride=1, dilation=dilation_size,\n",
    "                                     padding=(kernel_size-1) * dilation_size, dropout=dropout)]\n",
    "\n",
    "        self.network = nn.Sequential(*layers)\n",
    "\n",
    "    def forward(self, x):\n",
    "        return self.network(x)\n",
    "class TCN(nn.Module):\n",
    "    def __init__(self, input_size, output_size, num_channels, kernel_size, dropout):\n",
    "        super(TCN, self).__init__()\n",
    "        self.tcn = TemporalConvNet(input_size, num_channels, kernel_size=kernel_size, dropout=dropout)\n",
    "        self.linear = nn.Linear(num_channels[-1], output_size)\n",
    "        self.init_weights()\n",
    "\n",
    "    def init_weights(self):\n",
    "        self.linear.weight.data.normal_(0, 0.01)\n",
    "\n",
    "    def forward(self, x):\n",
    "        y1 = self.tcn(x)\n",
    "        return self.linear(y1[:, :, -1])"
   ]
  },
  {
   "cell_type": "markdown",
   "metadata": {},
   "source": [
    "# Functions"
   ]
  },
  {
   "cell_type": "code",
   "execution_count": null,
   "metadata": {
    "ExecuteTime": {
     "end_time": "2021-05-28T00:43:49.739518Z",
     "start_time": "2021-05-28T00:43:49.725979Z"
    }
   },
   "outputs": [],
   "source": [
    "def gen_model(p):\n",
    "    model = TCN(50, 10, [25, 25, 25, 25, 25, 25, 25, 25], kernel_size=16, dropout=0.0).cuda()\n",
    "    return model\n",
    "\n",
    "def train(model, ttype, trainX, trainY, testX, testY, optimizer, loss_func, epoch, perf_file,\n",
    "          loss_buffer_size=100, batch_size=4, device='cuda',\n",
    "          prog_bar=None):\n",
    "    \n",
    "    perfs = []\n",
    "    losses = []\n",
    "    last_test_perf = 0\n",
    "    best_test_perf = -1\n",
    "    tot_trials = len(trainX)\n",
    "    \n",
    "    permute = np.arange(0, tot_trials)\n",
    "    np.random.shuffle(permute)\n",
    "    batches = int(np.ceil(tot_trials / batch_size))\n",
    "    for batch_idx in range(batches):\n",
    "        optimizer.zero_grad()\n",
    "        loss = 0\n",
    "        for i in range(0, int(min(len(trainX) - (batch_idx*batch_size), \n",
    "                              batch_size))\n",
    "                       ):\n",
    "            iv = trainX[permute[batch_idx*batch_size + i]]\n",
    "            iv = ttype(iv).unsqueeze(0)\n",
    "            tv = torch.cuda.LongTensor([trainY[permute[batch_idx*batch_size + i]]])\n",
    "            out = model(iv)\n",
    "            loss += loss_func(out,\n",
    "                             tv)\n",
    "            perfs.append((torch.argmax(out, dim=-1) == \n",
    "                      tv).sum().item())\n",
    "        loss = loss / min(len(trainX) - (batch_idx*batch_size), \n",
    "                              batch_size)\n",
    "        loss.backward()\n",
    "        optimizer.step()\n",
    "        \n",
    "        #perfs.append(0)\n",
    "        #perfs = perfs[int(-loss_buffer_size/batch_size):]\n",
    "        losses.append(loss.detach().cpu().numpy())\n",
    "        losses = losses[-loss_buffer_size:]\n",
    "        perfs = perfs[-loss_buffer_size:]\n",
    "        \n",
    "        if ((batch_idx*batch_size)%loss_buffer_size == 0) & (batch_idx != 0):\n",
    "            loss_track = {}\n",
    "            #last_test_perf = test_model(model, 'cuda', test_loader, \n",
    "            #                            batch_size)\n",
    "            loss_track['avg_loss'] = np.mean(losses)\n",
    "            #loss_track['last_test'] = last_test_perf\n",
    "            loss_track['training_perf'] = np.mean(perfs)\n",
    "            loss_track['epoch'] = epoch\n",
    "            loss_track['batch_idx'] = batch_idx\n",
    "            with open(perf_file, 'a+') as fp:\n",
    "                csv_writer = DictWriter(fp, fieldnames=list(loss_track.keys()))\n",
    "                if fp.tell() == 0:\n",
    "                    csv_writer.writeheader()\n",
    "                csv_writer.writerow(loss_track)\n",
    "                fp.flush()\n",
    "            if best_test_perf < last_test_perf:\n",
    "                torch.save(model.state_dict(), perf_file[:-4]+\".pt\")\n",
    "                best_test_perf = last_test_perf\n",
    "        if not (prog_bar is None):\n",
    "            # Update progress_bar\n",
    "            s = \"{}:{} Loss: {:.5f}, Tperf: {:.4f}, valid: {:.4f}\"\n",
    "            format_list = [epoch,batch_idx*batch_size, np.mean(losses), \n",
    "                           np.mean(perfs),\n",
    "                           last_test_perf]         \n",
    "            s = s.format(*format_list)\n",
    "            prog_bar.set_description(s)\n",
    "def test_model(model, device, test_loader, batch_size):\n",
    "    # Test the Model\n",
    "    perfs = []\n",
    "    tot = 0.0\n",
    "    total_num = 0.0\n",
    "    with torch.no_grad():\n",
    "        for data, target in test_loader:\n",
    "            data = data.to(device)\n",
    "            batch = data.shape[0]\n",
    "            target = target.to(device)\n",
    "            out = model(data)\n",
    "            total_num += batch\n",
    "            tot += (torch.argmax(out, \n",
    "                                 dim=-1) == target).sum().item()\n",
    "            \n",
    "    perf = tot / total_num\n",
    "    return perf\n",
    "\n",
    "def save_outcome(outcome, filename):\n",
    "    dat = pd.DataFrame(outcome)\n",
    "    dat.to_csv(join('perf',filename))"
   ]
  },
  {
   "cell_type": "markdown",
   "metadata": {},
   "source": [
    "# Go!"
   ]
  },
  {
   "cell_type": "code",
   "execution_count": null,
   "metadata": {
    "ExecuteTime": {
     "end_time": "2021-05-28T00:43:50.937215Z",
     "start_time": "2021-05-28T00:43:50.931686Z"
    }
   },
   "outputs": [],
   "source": [
    "params = [\n",
    "          [None],\n",
    "          ]\n"
   ]
  },
  {
   "cell_type": "code",
   "execution_count": null,
   "metadata": {
    "ExecuteTime": {
     "end_time": "2021-05-28T00:43:51.257029Z",
     "start_time": "2021-05-28T00:43:51.251054Z"
    }
   },
   "outputs": [],
   "source": [
    "62*16\n",
    "batch_size=16\n",
    "loss_buffer_size = 16*62"
   ]
  },
  {
   "cell_type": "code",
   "execution_count": null,
   "metadata": {
    "ExecuteTime": {
     "end_time": "2021-05-28T00:43:52.112991Z",
     "start_time": "2021-05-28T00:43:51.804354Z"
    }
   },
   "outputs": [],
   "source": [
    "model = gen_model([])\n",
    "tot_weights = 0\n",
    "for p in model.parameters():\n",
    "    tot_weights += p.numel()\n",
    "print(\"Total Weights:\", tot_weights)"
   ]
  },
  {
   "cell_type": "code",
   "execution_count": null,
   "metadata": {
    "ExecuteTime": {
     "end_time": "2021-05-27T02:12:41.112807Z",
     "start_time": "2021-05-26T13:52:02.731593Z"
    },
    "scrolled": true
   },
   "outputs": [],
   "source": [
    "runs = 5\n",
    "for r in range(1,runs):\n",
    "    for i, p in enumerate(params):\n",
    "        model = gen_model(p)\n",
    "\n",
    "        tot_weights = 0\n",
    "        for p in model.parameters():\n",
    "            tot_weights += p.numel()\n",
    "        print(\"Total Weights:\", tot_weights)\n",
    "\n",
    "        loss_func = torch.nn.CrossEntropyLoss()\n",
    "        optimizer = torch.optim.Adam(model.parameters())\n",
    "        epochs = 10\n",
    "        Trainscale = 10\n",
    "        device='cuda'\n",
    "        progress_bar = tqdm(range(int(epochs)), bar_format='{l_bar}{bar:5}{r_bar}{bar:-5b}')\n",
    "        epochperfs = []\n",
    "        times_100 = 0\n",
    "        for epoch_idx in progress_bar:\n",
    "            perfs = []\n",
    "            losses = []\n",
    "            model.train()\n",
    "            train(model, ttype, trainX, trainY, None, None,\n",
    "                  optimizer, loss_func, batch_size=batch_size, loss_buffer_size=loss_buffer_size,\n",
    "                  epoch=epoch_idx, perf_file=join('perf','TCN_audiomixed_scalable_5252021_sawtooth_{}.csv'.format(r)),\n",
    "                  prog_bar=progress_bar)"
   ]
  },
  {
   "cell_type": "code",
   "execution_count": null,
   "metadata": {
    "ExecuteTime": {
     "end_time": "2021-05-05T20:39:42.921667Z",
     "start_time": "2021-05-05T20:39:42.878629Z"
    }
   },
   "outputs": [],
   "source": [
    "# Load Best Performing\n",
    "model.load_state_dict(torch.load('perf/TCN_audiomixed_scalable_5052021_5.pt'))"
   ]
  },
  {
   "cell_type": "code",
   "execution_count": null,
   "metadata": {
    "ExecuteTime": {
     "end_time": "2021-05-27T02:46:11.852783Z",
     "start_time": "2021-05-27T02:23:43.289414Z"
    },
    "scrolled": true
   },
   "outputs": [],
   "source": [
    "for r in range(5):\n",
    "    model.load_state_dict(torch.load('perf/TCN_audiomixed_scalable_5252021_sawtooth_{}.pt'.format(r)))\n",
    "    model.eval()\n",
    "    with torch.no_grad():\n",
    "        scales = [\n",
    "                  '10.00', \n",
    "                  '05.00', \n",
    "                  '02.50',\n",
    "                  '01.25', \n",
    "                  '01.00', \n",
    "                  '00.80', \n",
    "                  '00.40', \n",
    "                  '00.20', \n",
    "                  '00.10'\n",
    "                  ]\n",
    "        scale_perf = []\n",
    "        for scale in scales:\n",
    "            test_paths = join('/media', 'root', 'easystore', 'experiments', \n",
    "                             'audiomnist', scale, 'AudioMNIST', 'data')\n",
    "            full_file = glob.glob(join(test_paths, \"*\"))\n",
    "            subj_perfs = []\n",
    "            for filename in full_file:\n",
    "                test_dat = np.load(filename)\n",
    "\n",
    "                testX = test_dat[list(all_files.loc[(all_files.rec_split==9)&\n",
    "                                                    (all_files.subjid==int(filename.split(\"_\")[-2])), 'dat_idx'])]\n",
    "                testY = np.array(all_files.loc[(all_files.rec_split==9)&\n",
    "                                               (all_files.subjid==int(filename.split(\"_\")[-2])), 'digit'])\n",
    "                dataset_test = torch.utils.data.TensorDataset(torch.Tensor(testX).cuda(), \n",
    "                                                               torch.LongTensor(testY).cuda())\n",
    "                dataset_test = torch.utils.data.DataLoader(dataset_test, batch_size=batch_size, shuffle=False)\n",
    "                last_test_perf = test_model(model, 'cuda',\n",
    "                                            dataset_test, batch_size)\n",
    "                subj_perfs.append(last_test_perf)\n",
    "            scoredict = {'perf':np.mean(subj_perfs),\n",
    "                               'scal':float(scale)}\n",
    "            print(scoredict)\n",
    "            scale_perf.append(scoredict)\n",
    "        scale_perfs = pd.DataFrame(scale_perf)\n",
    "        scale_perfs.to_pickle(join(\"perf\", \"TCN_mixed_test_5262021_sawtooth_{}.dill\".format(r)))"
   ]
  },
  {
   "cell_type": "code",
   "execution_count": null,
   "metadata": {},
   "outputs": [],
   "source": []
  }
 ],
 "metadata": {
  "kernelspec": {
   "display_name": "Python 3",
   "language": "python",
   "name": "python3"
  },
  "language_info": {
   "codemirror_mode": {
    "name": "ipython",
    "version": 3
   },
   "file_extension": ".py",
   "mimetype": "text/x-python",
   "name": "python",
   "nbconvert_exporter": "python",
   "pygments_lexer": "ipython3",
   "version": "3.6.10"
  },
  "toc": {
   "nav_menu": {},
   "number_sections": true,
   "sideBar": true,
   "skip_h1_title": false,
   "title_cell": "Table of Contents",
   "title_sidebar": "Contents",
   "toc_cell": false,
   "toc_position": {},
   "toc_section_display": true,
   "toc_window_display": false
  }
 },
 "nbformat": 4,
 "nbformat_minor": 4
}
