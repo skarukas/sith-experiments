{
 "cells": [
  {
   "cell_type": "code",
   "execution_count": null,
   "metadata": {
    "ExecuteTime": {
     "end_time": "2021-05-25T12:43:09.468274Z",
     "start_time": "2021-05-25T12:43:09.191219Z"
    }
   },
   "outputs": [],
   "source": [
    "%matplotlib inline"
   ]
  },
  {
   "cell_type": "code",
   "execution_count": null,
   "metadata": {
    "ExecuteTime": {
     "end_time": "2021-05-25T12:43:10.590348Z",
     "start_time": "2021-05-25T12:43:09.476535Z"
    }
   },
   "outputs": [],
   "source": [
    "import matplotlib.pyplot as plt\n",
    "import seaborn as sn\n",
    "sn.set_context(\"poster\")\n",
    "\n",
    "import torch\n",
    "from torch import nn as nn\n",
    "ttype = torch.cuda.FloatTensor if torch.cuda.is_available() else torch.FloatTensor\n",
    "ctype = torch.cuda.LongTensor if torch.cuda.is_available() else torch.LongTensor\n",
    "print(ttype)\n",
    "import torch.nn.functional as F\n",
    "from matplotlib import gridspec\n",
    "from sithcon import SITHCon_Layer, _SITHCon_Core, iSITH\n",
    "\n",
    "from tqdm.notebook import tqdm\n",
    "\n",
    "import itertools\n",
    "from csv import DictWriter\n",
    "import os \n",
    "from os.path import join\n",
    "import glob\n",
    "ttype=torch.cuda.FloatTensor\n",
    "import numpy as np\n",
    "import pandas as pd\n",
    "import pickle\n",
    "from math import factorial\n",
    "import random"
   ]
  },
  {
   "cell_type": "markdown",
   "metadata": {},
   "source": [
    "# Experiment 3.A"
   ]
  },
  {
   "cell_type": "code",
   "execution_count": null,
   "metadata": {
    "ExecuteTime": {
     "end_time": "2021-05-25T12:43:59.391760Z",
     "start_time": "2021-05-25T12:43:58.619424Z"
    }
   },
   "outputs": [],
   "source": [
    "with open(join('data', 'trainX_norm.dill'), \"rb\") as f:\n",
    "    trainX = pickle.load(f)\n",
    "with open(join('data', 'trainY_norm.dill'), \"rb\") as f:\n",
    "    trainY = pickle.load(f)\n"
   ]
  },
  {
   "cell_type": "code",
   "execution_count": null,
   "metadata": {
    "ExecuteTime": {
     "end_time": "2021-05-25T12:43:41.082541Z",
     "start_time": "2021-05-25T12:43:41.061342Z"
    },
    "scrolled": true
   },
   "outputs": [],
   "source": [
    "SITH_perfs = None\n",
    "for r in range(5):\n",
    "    if SITH_perfs is None:\n",
    "        SITH_perfs = pd.read_pickle(join(\"perf\", \"sithcon_hard_test_5032021_{}.dill\".format(r)))\n",
    "        SITH_perfs['run'] = [r]*SITH_perfs.shape[0]\n",
    "    else:\n",
    "        temp =  pd.read_pickle(join(\"perf\", \"sithcon_hard_test_5032021_{}.dill\".format(r)))\n",
    "        temp['run'] = [r]*temp.shape[0]\n",
    "        SITH_perfs = SITH_perfs.append(temp)\n",
    "SITH_perfs['adj_scale'] = 1./SITH_perfs.scal\n",
    "print(SITH_perfs)\n",
    "TCN_perfs = None\n",
    "for r in range(5):\n",
    "    if TCN_perfs is None:\n",
    "        TCN_perfs = pd.read_pickle(join(\"perf\", \"tcn_hard_test_{}.dill\".format(r)))\n",
    "        TCN_perfs['run'] = [r]*TCN_perfs.shape[0]\n",
    "    else:\n",
    "        temp =  pd.read_pickle(join(\"perf\", \"tcn_hard_test_{}.dill\".format(r)))\n",
    "        temp['run'] = [r]*temp.shape[0]\n",
    "        TCN_perfs = TCN_perfs.append(temp)\n",
    "TCN_perfs['adj_scale'] = 1./TCN_perfs.scal\n",
    "print(TCN_perfs)"
   ]
  },
  {
   "cell_type": "code",
   "execution_count": null,
   "metadata": {
    "ExecuteTime": {
     "end_time": "2021-05-25T12:47:52.552759Z",
     "start_time": "2021-05-25T12:47:52.071163Z"
    }
   },
   "outputs": [],
   "source": [
    "window_size = 20\n",
    "lw=10\n",
    "ms = 15\n",
    "with sn.plotting_context(\"notebook\", font_scale=3):\n",
    "    fig = plt.figure(figsize=(30,10), )\n",
    "    spec = gridspec.GridSpec(nrows=1, ncols=1, hspace=0.1, wspace=.5,\n",
    "                             figure=fig)\n",
    "    ax = fig.add_subplot(spec[0])\n",
    "    Trainscale = 5\n",
    "    ax.axvline(1.0, color='red', linestyle='--', linewidth=5)\n",
    "\n",
    "    sn.lineplot(data=SITH_perfs, x='adj_scale', y='perf', marker='o', markersize=ms, \n",
    "            linewidth=lw, ax=ax)\n",
    "    sn.lineplot(data=TCN_perfs, x='adj_scale', y='perf', marker='o', markersize=ms, \n",
    "            linewidth=lw, ax=ax)\n",
    "    ax.set_xscale('log')\n",
    "    ax.set_ylabel('Accuracy')\n",
    "    ax.set_xlabel('Scale')\n",
    "    ax.grid()\n",
    "    ax.set_ylim(-0.05,1.05)"
   ]
  },
  {
   "cell_type": "code",
   "execution_count": null,
   "metadata": {
    "ExecuteTime": {
     "end_time": "2021-05-25T12:47:19.393632Z",
     "start_time": "2021-05-25T12:47:18.909396Z"
    }
   },
   "outputs": [],
   "source": [
    "window_size = 20\n",
    "lw=5\n",
    "ms = 15\n",
    "with sn.plotting_context(\"notebook\", font_scale=3):\n",
    "    fig = plt.figure(figsize=(30,10), )\n",
    "    spec = gridspec.GridSpec(nrows=1, ncols=1, hspace=0.1, wspace=.5,\n",
    "                             figure=fig)\n",
    "    ax = fig.add_subplot(spec[0])\n",
    "    Trainscale = 5\n",
    "    ax.axvline(1.0, color='red', linestyle='--', linewidth=5)\n",
    "\n",
    "    sn.lineplot(data=SITH_perfs, x='adj_scale', y='perf', marker='o', markersize=10, \n",
    "            linewidth=5, ax=ax)\n",
    "    sn.lineplot(data=TCN_perfs, x='adj_scale', y='perf', marker='o', markersize=10, \n",
    "            linewidth=5, ax=ax)\n",
    "\n",
    "    ax.set_xscale('log')\n",
    "\n",
    "    ax.set_ylim(-0.05,1.05)\n",
    "    #plt.xticks([.1, .2, .4, .8, 1.0, 1.25, 2.5, 5.0, 10.], \n",
    "    #           [.1, .2, .4,\"\", 1.0, \"\", 2.5, 5.0, 10.])\n",
    "    ax.set_xticks([.1,.2,.4,1.0,2.5,5.,10.])\n",
    "    ax.set_xticklabels([.1,.2,.4,1.0,2.5,5.,10.], \n",
    "                      )\n",
    "    ax.set_xlabel('Scale')\n",
    "    ax.set_ylabel('Accuracy')\n",
    "    ax.grid()\n",
    "        \n",
    "    ax = fig.add_subplot(spec[:2,5:11])\n",
    "    ax.plot((sithdats.batch_idx*16+sithdats.epoch*25792)/25792, \n",
    "            sithdats.training_perf[:], linewidth=5)\n",
    "    ax.plot((tcndats.batch_idx*16+tcndats.epoch*25792)/25792, \n",
    "            tcndats.training_perf, linewidth=5)\n",
    "    ax.legend(['SITHCon', 'TCN'])\n",
    "    ax.set_ylim(.7, 1.0)\n",
    "    ax.set_ylabel(\"Training Accuracy\")\n",
    "    ax.set_xlabel(\"Epoch\")\n",
    "    ax.grid()\n",
    "    ax.set_xlim(0, 10)\n",
    "    \n",
    "    iar = [3150, 3200, 3250, 3300, 3350, 3400, 3450, 3500, 3550, 3600]\n",
    "    for x, idx in enumerate(iar):\n",
    "        ax = fig.add_subplot(spec[x%5, int(x/5)*2:int(x/5)*2+2])\n",
    "        ax.imshow(trainX[idx-3150], aspect='auto',interpolation='none')\n",
    "        ax.set_yticks([])\n",
    "        ax.set_xticks([])\n",
    "        \n",
    "        ax.set_ylabel(x)\n",
    "        if int(x/5) > 0:\n",
    "            ax.yaxis.set_label_position(\"right\")\n",
    "            ax.set_ylabel(x, rotation=0, labelpad=8, ha='left', va='center')\n",
    "        else:\n",
    "            ax.set_ylabel(x, rotation=0, labelpad=8, ha='right', va='center')\n",
    "plt.savefig(join('figs', 'AudioMNIST_1.0_full.png'), dpi=150)\n",
    "plt.savefig(join('figs', 'AudioMNIST_1.0_full.pdf'), dpi=150)\n",
    "plt.savefig(join('figs', 'AudioMNIST_1.0_full.svg'), dpi=150)"
   ]
  },
  {
   "cell_type": "markdown",
   "metadata": {},
   "source": [
    "# Experiment 4.2\n"
   ]
  },
  {
   "cell_type": "code",
   "execution_count": null,
   "metadata": {
    "ExecuteTime": {
     "end_time": "2021-05-13T18:49:31.788791Z",
     "start_time": "2021-05-13T18:49:30.553664Z"
    }
   },
   "outputs": [],
   "source": [
    "with open(join('data', 'trainX_sawtooth.dill'), \"rb\") as f:\n",
    "    trainX = pickle.load(f)\n",
    "with open(join('data', 'trainY_sawtooth.dill'), \"rb\") as f:\n",
    "    trainY = pickle.load(f)\n"
   ]
  },
  {
   "cell_type": "code",
   "execution_count": null,
   "metadata": {
    "ExecuteTime": {
     "end_time": "2021-05-13T18:49:31.870651Z",
     "start_time": "2021-05-13T18:49:31.789922Z"
    }
   },
   "outputs": [],
   "source": [
    "TCN_perfs = pd.read_pickle(join(\"perf\", \"TCN_mixed_test_5052021_sawtooth_0.dill\"))\n",
    "#SITH_perfs = pd.read_pickle(join(\"perf\", \"sith_mixed_test_5052021_all_0.dill\"))\n",
    "SITH_perfs = pd.read_pickle(join(\"perf\", \"sith_mixed_test_startsat1_5032021_sawtooth.dill\"))\n",
    "sithdats = pd.read_csv(join('..', 'AudioMedium','perf','sithcon_audiomixed_startsat1_5052021_sawtooth_0.csv'))\n",
    "tcndats = pd.read_csv(join('..', 'AudioMedium','perf','TCN_audiomixed_scalable_5052021_sawtooth_0.csv'))\n"
   ]
  },
  {
   "cell_type": "code",
   "execution_count": null,
   "metadata": {
    "ExecuteTime": {
     "end_time": "2021-05-13T18:49:38.412873Z",
     "start_time": "2021-05-13T18:49:37.476808Z"
    }
   },
   "outputs": [],
   "source": [
    "window_size = 20\n",
    "lw=5\n",
    "ms = 15\n",
    "with sn.plotting_context(\"notebook\", font_scale=3):\n",
    "    fig = plt.figure(figsize=(30,10), )\n",
    "    spec = gridspec.GridSpec(nrows=5, ncols=16, hspace=.1, wspace=.15,\n",
    "                             figure=fig)\n",
    "    ax = fig.add_subplot(spec[3:,4:10])\n",
    "    Trainscale = 5\n",
    "    ax.axvline(.1, color='red', linestyle='--', linewidth=5)\n",
    "    ax.axvline(.4, color='red', linestyle='--', linewidth=5)\n",
    "    ax.axvline(1.0, color='red', linestyle='--', linewidth=5)\n",
    "    ax.axvline(2.5, color='red', linestyle='--', linewidth=5)\n",
    "    ax.axvline(10, color='red', linestyle='--', linewidth=5)\n",
    "    ax.plot(1/SITH_perfs.scal, SITH_perfs.perf, marker='o', markersize=10, \n",
    "            linewidth=5)\n",
    "    ax.plot(1/TCN_perfs.scal, TCN_perfs.perf, marker='o', markersize=10, \n",
    "            linewidth=5)\n",
    "\n",
    "    ax.set_xscale('log')\n",
    "\n",
    "    ax.set_ylim(-0.05,1.05)\n",
    "    #plt.xticks([.1, .2, .4, .8, 1.0, 1.25, 2.5, 5.0, 10.], \n",
    "    #           [.1, .2, .4,\"\", 1.0, \"\", 2.5, 5.0, 10.])\n",
    "    ax.set_xticks([.1,.2,.4,1.0,2.5,5.,10.])\n",
    "    ax.set_xticklabels([.1,.2,.4,1.0,2.5,5.,10.], \n",
    "                      )\n",
    "    ax.set_xlabel('Scale')\n",
    "    ax.set_ylabel('Accuracy')\n",
    "    ax.grid()\n",
    "        \n",
    "    ax = fig.add_subplot(spec[:2,4:10])\n",
    "    ax.plot((sithdats.batch_idx*16+sithdats.epoch*25792)/25792, \n",
    "            sithdats.training_perf[:], linewidth=5)\n",
    "    ax.plot((tcndats.batch_idx*16+tcndats.epoch*25792)/25792, \n",
    "            tcndats.training_perf, linewidth=5)\n",
    "    ax.legend(['SITHCon', 'TCN'])\n",
    "    ax.set_ylim(.7, 1.0)\n",
    "    ax.set_ylabel(\"Training Accuracy\")\n",
    "    ax.set_xlabel(\"Epoch\")\n",
    "    ax.grid()\n",
    "    ax.set_xlim(0, 10)\n",
    "    \n",
    "    iar = [320, 7970, 11570, 16520, 26420]\n",
    "    scal = [10., 2.5, 1.0, .4, .1]\n",
    "    for x, idx in enumerate(iar):\n",
    "        ax = fig.add_subplot(spec[x:x+1, :3])\n",
    "        ax.imshow(trainX[idx], aspect='auto',interpolation='none')\n",
    "        ax.set_yticks([])\n",
    "        ax.set_xticks([])\n",
    "        ax.set_ylabel(scal[x])\n",
    "plt.savefig(join('figs', 'AudioMNIST_Mixed_full.png'), dpi=150)\n",
    "plt.savefig(join('figs', 'AudioMNIST_Mixed_full.pdf'), dpi=150)\n",
    "plt.savefig(join('figs', 'AudioMNIST_Mixed_full.svg'), dpi=150)"
   ]
  },
  {
   "cell_type": "code",
   "execution_count": null,
   "metadata": {},
   "outputs": [],
   "source": []
  }
 ],
 "metadata": {
  "kernelspec": {
   "display_name": "Python 3",
   "language": "python",
   "name": "python3"
  },
  "language_info": {
   "codemirror_mode": {
    "name": "ipython",
    "version": 3
   },
   "file_extension": ".py",
   "mimetype": "text/x-python",
   "name": "python",
   "nbconvert_exporter": "python",
   "pygments_lexer": "ipython3",
   "version": "3.6.10"
  },
  "toc": {
   "nav_menu": {},
   "number_sections": true,
   "sideBar": true,
   "skip_h1_title": false,
   "title_cell": "Table of Contents",
   "title_sidebar": "Contents",
   "toc_cell": false,
   "toc_position": {},
   "toc_section_display": true,
   "toc_window_display": false
  }
 },
 "nbformat": 4,
 "nbformat_minor": 4
}
