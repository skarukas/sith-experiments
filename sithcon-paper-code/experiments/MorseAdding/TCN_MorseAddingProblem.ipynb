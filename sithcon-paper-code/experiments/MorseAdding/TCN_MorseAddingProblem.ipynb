{
 "cells": [
  {
   "cell_type": "code",
   "execution_count": null,
   "metadata": {
    "ExecuteTime": {
     "end_time": "2021-05-27T17:20:40.864316Z",
     "start_time": "2021-05-27T17:20:40.861901Z"
    }
   },
   "outputs": [],
   "source": [
    "%matplotlib inline"
   ]
  },
  {
   "cell_type": "code",
   "execution_count": null,
   "metadata": {
    "ExecuteTime": {
     "end_time": "2021-05-27T17:20:45.073623Z",
     "start_time": "2021-05-27T17:20:44.457172Z"
    }
   },
   "outputs": [],
   "source": [
    "import matplotlib.pyplot as plt\n",
    "import seaborn as sn\n",
    "sn.set_context(\"poster\")\n",
    "\n",
    "import torch\n",
    "from torch import nn as nn\n",
    "ttype = torch.cuda.FloatTensor if torch.cuda.is_available() else torch.FloatTensor\n",
    "ctype = torch.cuda.LongTensor if torch.cuda.is_available() else torch.LongTensor\n",
    "print(ttype)\n",
    "import torch.nn.functional as F\n",
    "from matplotlib import gridspec\n",
    "from sithcon import SITHCon_Layer, _SITHCon_Core, iSITH\n",
    "\n",
    "from tqdm.notebook import tqdm\n",
    "\n",
    "import itertools\n",
    "from csv import DictWriter\n",
    "import os \n",
    "from os.path import join\n",
    "import glob\n",
    "ttype=torch.cuda.FloatTensor\n",
    "import numpy as np\n",
    "import pandas as pd\n",
    "import pickle\n",
    "from math import factorial\n",
    "import random\n",
    "from itertools import combinations_with_replacement as comb"
   ]
  },
  {
   "cell_type": "code",
   "execution_count": null,
   "metadata": {
    "ExecuteTime": {
     "end_time": "2021-05-27T17:20:51.302422Z",
     "start_time": "2021-05-27T17:20:51.299475Z"
    }
   },
   "outputs": [],
   "source": [
    "MORSE_CODE_DICT = {'1':'.----', '2':'..---', '3':'...--', \n",
    "                    '4':'....-', '5':'.....', '6':'-....', \n",
    "                    '7':'--...', '8':'---..', '9':'----.', \n",
    "                    '0':'-----', } \n",
    "\n",
    "# SHORTER\n",
    "MORSE_CODE_DICT = {'1':'.-', '2':'-...', \n",
    "                    '3':'-.-.', '4':'-..', '5':'.', \n",
    "                    '6':'..-.', '7':'--.', '8':'....', \n",
    "                    '9':'..', '0':'.---',}"
   ]
  },
  {
   "cell_type": "code",
   "execution_count": null,
   "metadata": {
    "ExecuteTime": {
     "end_time": "2021-05-27T17:20:51.527448Z",
     "start_time": "2021-05-27T17:20:51.522387Z"
    }
   },
   "outputs": [],
   "source": [
    "\n",
    "print()\n",
    "morse_code_numpy = {key:np.array([int(x) for x in MORSE_CODE_DICT[key].replace('.', '10').replace('-', '1110')] + [0, 0])\n",
    "                    for key in MORSE_CODE_DICT.keys()}\n",
    "for k in morse_code_numpy.keys():\n",
    "    print(morse_code_numpy[k], k)\n",
    "subset = list(morse_code_numpy.keys())\n"
   ]
  },
  {
   "cell_type": "code",
   "execution_count": null,
   "metadata": {
    "ExecuteTime": {
     "end_time": "2021-05-27T17:20:51.937019Z",
     "start_time": "2021-05-27T17:20:51.804187Z"
    }
   },
   "outputs": [],
   "source": [
    "def gen_item(samples=10, scale=5, target_scale=.1):\n",
    "    # We can tests 1s the same length as the items added together or 1 at the end only.\n",
    "    keys = morse_code_numpy.keys()\n",
    "    dim1 = []\n",
    "    dim2 = []\n",
    "    half = int(samples / 2)\n",
    "    added_indexes = [np.random.randint(half),  \n",
    "                     np.random.randint(half, samples)]\n",
    "    \n",
    "    answer = 0\n",
    "    for s in range(samples):\n",
    "        # Grab Random Morse Code Letter\n",
    "        k = random.sample(keys, 1)[0]\n",
    "        mcl = morse_code_numpy[k]\n",
    "        Mmcl = mcl.repeat(scale)\n",
    "        dim1.append(Mmcl[:, np.newaxis])\n",
    "        if s in added_indexes:\n",
    "            \n",
    "            # dim2.append(np.ones(Mmcl.shape[0])[:, np.newaxis])\n",
    "            temp = np.zeros(Mmcl.shape[0])[:, np.newaxis]\n",
    "            temp[-scale:] = 1.0\n",
    "            #temp[-1] = 1.0 # TRY THIS AT SOME POINT\n",
    "            dim2.append(temp)\n",
    "            answer += int(k)\n",
    "        else:\n",
    "            dim2.append(np.zeros(Mmcl.shape[0])[:, np.newaxis])\n",
    "    inp = np.concatenate([np.concatenate(dim1, axis=0),\n",
    "                          np.concatenate(dim2, axis=0)], axis=1)\n",
    "    \n",
    "    target = np.array([answer])\n",
    "    return inp, target*target_scale\n",
    "inp, tar = gen_item(5, 5, .1)\n",
    "print(inp.shape)\n",
    "plt.figure(figsize=(10,5))\n",
    "plt.imshow(inp.T,aspect='auto', interpolation='none')\n",
    "plt.title(\"Answer: {:.2f}\".format(tar[0]))\n",
    "plt.yticks([])\n",
    "plt.savefig(join('figs', 'adding_morse_example'), dpi=100)"
   ]
  },
  {
   "cell_type": "code",
   "execution_count": null,
   "metadata": {
    "ExecuteTime": {
     "end_time": "2021-05-27T17:20:53.102415Z",
     "start_time": "2021-05-27T17:20:53.091721Z"
    }
   },
   "outputs": [],
   "source": [
    "import torch\n",
    "import torch.nn as nn\n",
    "from torch.nn.utils import weight_norm\n",
    "\n",
    "\n",
    "class Chomp1d(nn.Module):\n",
    "    def __init__(self, chomp_size):\n",
    "        super(Chomp1d, self).__init__()\n",
    "        self.chomp_size = chomp_size\n",
    "\n",
    "    def forward(self, x):\n",
    "        return x[:, :, :-self.chomp_size].contiguous()\n",
    "\n",
    "\n",
    "class TemporalBlock(nn.Module):\n",
    "    def __init__(self, n_inputs, n_outputs, kernel_size, stride, dilation, padding, dropout=0.2):\n",
    "        super(TemporalBlock, self).__init__()\n",
    "        self.conv1 = weight_norm(nn.Conv1d(n_inputs, n_outputs, kernel_size,\n",
    "                                           stride=stride, padding=padding, dilation=dilation))\n",
    "        self.chomp1 = Chomp1d(padding)\n",
    "        self.relu1 = nn.ReLU()\n",
    "        self.dropout1 = nn.Dropout(dropout)\n",
    "\n",
    "        self.conv2 = weight_norm(nn.Conv1d(n_outputs, n_outputs, kernel_size,\n",
    "                                           stride=stride, padding=padding, dilation=dilation))\n",
    "        self.chomp2 = Chomp1d(padding)\n",
    "        self.relu2 = nn.ReLU()\n",
    "        self.dropout2 = nn.Dropout(dropout)\n",
    "\n",
    "        self.net = nn.Sequential(self.conv1, self.chomp1, self.relu1, self.dropout1,\n",
    "                                 self.conv2, self.chomp2, self.relu2, self.dropout2)\n",
    "        self.downsample = nn.Conv1d(n_inputs, n_outputs, 1) if n_inputs != n_outputs else None\n",
    "        self.relu = nn.ReLU()\n",
    "        self.init_weights()\n",
    "\n",
    "    def init_weights(self):\n",
    "        self.conv1.weight.data.normal_(0, 0.01)\n",
    "        self.conv2.weight.data.normal_(0, 0.01)\n",
    "        if self.downsample is not None:\n",
    "            self.downsample.weight.data.normal_(0, 0.01)\n",
    "\n",
    "    def forward(self, x):\n",
    "        out = self.net(x)\n",
    "        res = x if self.downsample is None else self.downsample(x)\n",
    "        return self.relu(out + res)\n",
    "\n",
    "\n",
    "class TemporalConvNet(nn.Module):\n",
    "    def __init__(self, num_inputs, num_channels, kernel_size=2, dropout=0.2):\n",
    "        super(TemporalConvNet, self).__init__()\n",
    "        layers = []\n",
    "        num_levels = len(num_channels)\n",
    "        for i in range(num_levels):\n",
    "            dilation_size = 2 ** i\n",
    "            in_channels = num_inputs if i == 0 else num_channels[i-1]\n",
    "            out_channels = num_channels[i]\n",
    "            layers += [TemporalBlock(in_channels, out_channels, kernel_size, stride=1, dilation=dilation_size,\n",
    "                                     padding=(kernel_size-1) * dilation_size, dropout=dropout)]\n",
    "\n",
    "        self.network = nn.Sequential(*layers)\n",
    "\n",
    "    def forward(self, x):\n",
    "        return self.network(x)\n",
    "class TCN(nn.Module):\n",
    "    def __init__(self, input_size, output_size, num_channels, kernel_size, dropout):\n",
    "        super(TCN, self).__init__()\n",
    "        self.tcn = TemporalConvNet(input_size, num_channels, kernel_size=kernel_size, dropout=dropout)\n",
    "        self.linear = nn.Linear(num_channels[-1], output_size)\n",
    "        self.init_weights()\n",
    "\n",
    "    def init_weights(self):\n",
    "        self.linear.weight.data.normal_(0, 0.01)\n",
    "\n",
    "    def forward(self, x):\n",
    "        y1 = self.tcn(x)\n",
    "        return self.linear(y1[:, :, -1])"
   ]
  },
  {
   "cell_type": "markdown",
   "metadata": {},
   "source": [
    "# 8Layers"
   ]
  },
  {
   "cell_type": "code",
   "execution_count": null,
   "metadata": {
    "ExecuteTime": {
     "end_time": "2021-05-27T17:20:54.023557Z",
     "start_time": "2021-05-27T17:20:54.017135Z"
    }
   },
   "outputs": [],
   "source": [
    "def gen_model(p):\n",
    "    model = TCN(2, 1, [25, 25, 25, 25,25,25,25,25], kernel_size=45, dropout=0.0).cuda()\n",
    "    return model\n",
    "\n",
    "def test_model(model, X, Y):\n",
    "    model.eval()\n",
    "    evald = []\n",
    "    evaldDict = {'test_perf':[],\n",
    "                 'rate':[],\n",
    "                 'tau_max':[],\n",
    "                 'ntau':[],\n",
    "                 'k':[]}\n",
    "    \n",
    "    # BIG NOTE\n",
    "    # BIG NOTE\n",
    "    # BIG NOTE\n",
    "    # Generate the test items once, use in all models at all scales. \n",
    "    model.eval()\n",
    "    evald = []\n",
    "    evaldDict = {'test_perf':[],\n",
    "                 'rate':[]}\n",
    "    for nr in range(1,20):\n",
    "        losses = []\n",
    "        for iv, tar in items:\n",
    "\n",
    "            iv = ttype(iv).unsqueeze(0).unsqueeze(0).transpose(-1,-2).unsqueeze(-1)\n",
    "            iv = iv.repeat(1,1,1,1,nr)\n",
    "            iv = iv.reshape(1,1,2,-1)\n",
    "            tv = torch.FloatTensor(tar).to(device)\n",
    "            out = model(iv)\n",
    "\n",
    "            loss = loss_func(out[:, -1, :],\n",
    "                                 tv)\n",
    "            losses.append(loss.detach().cpu().numpy())\n",
    "        print(nr, np.mean(losses))\n",
    "        evaldDict['test_perf'].append(np.mean(losses))\n",
    "        evaldDict['rate'].append(nr)\n",
    "        evaldDict['tau_max'].append(model.sithcon_layers[0].sithcon.sith.tau_max)\n",
    "        evaldDict['ntau'].append(model.sithcon_layers[0].sithcon.sith.ntau)\n",
    "        evaldDict['k'].append(model.sithcon_layers[0].sithcon.sith.k)\n",
    "    return evaldDict\n",
    "\n",
    "def save_outcome(outcome, filename):\n",
    "    dat = pd.DataFrame(outcome)\n",
    "    dat.to_csv(join('perf',filename))"
   ]
  },
  {
   "cell_type": "code",
   "execution_count": null,
   "metadata": {
    "ExecuteTime": {
     "end_time": "2021-05-27T17:20:54.471579Z",
     "start_time": "2021-05-27T17:20:54.469838Z"
    }
   },
   "outputs": [],
   "source": [
    "params = [\n",
    "           [None],]"
   ]
  },
  {
   "cell_type": "code",
   "execution_count": null,
   "metadata": {
    "ExecuteTime": {
     "end_time": "2021-05-27T17:20:57.349890Z",
     "start_time": "2021-05-27T17:20:55.095304Z"
    }
   },
   "outputs": [],
   "source": [
    "model = gen_model(params[0])\n",
    "\n",
    "\n",
    "tot_weights = 0\n",
    "for p in model.parameters():\n",
    "    tot_weights += p.numel()\n",
    "print(\"Total Weights:\", tot_weights)\n",
    "print(model)"
   ]
  },
  {
   "cell_type": "code",
   "execution_count": null,
   "metadata": {
    "ExecuteTime": {
     "end_time": "2021-05-22T04:04:38.831710Z",
     "start_time": "2021-05-20T01:19:27.718174Z"
    }
   },
   "outputs": [],
   "source": [
    "Trainscale = 5\n",
    "epochs = 30\n",
    "trials_per_epoch = 1000\n",
    "batch_size = 32\n",
    "for r in range(5):\n",
    "    model = gen_model(params[0])\n",
    "    loss_func = nn.MSELoss()\n",
    "    optimizer = torch.optim.Adam(model.parameters())\n",
    "\n",
    "\n",
    "    device='cuda'\n",
    "    progress_bar = tqdm(range(int(epochs)), bar_format='{l_bar}{bar:5}{r_bar}{bar:-5b}')\n",
    "\n",
    "    for epoch_idx in progress_bar:\n",
    "        perfs = []\n",
    "        losses = []\n",
    "        model.train()\n",
    "        for batch_idx in range(trials_per_epoch):\n",
    "            optimizer.zero_grad()\n",
    "            loss = 0\n",
    "            for i in range(batch_size):\n",
    "                iv, tar = gen_item(10, Trainscale, .1)\n",
    "                iv = ttype(iv).unsqueeze(0).transpose(-1,-2)\n",
    "                tv = ttype(tar)\n",
    "                out = model(iv)\n",
    "                loss += loss_func(out,\n",
    "                                  tv)\n",
    "            loss = loss / batch_size\n",
    "            loss.backward()\n",
    "            optimizer.step()\n",
    "\n",
    "            perfs.append(0)\n",
    "            #perfs = perfs[int(-loss_buffer_size/batch_size):]\n",
    "            losses.append(loss.detach().cpu().numpy())\n",
    "            #losses = losses[int(-loss_buffer_size/batch_size):]\n",
    "\n",
    "\n",
    "            s = \"{}:{:2} Loss: {:.4f}, Perf: {:.4f}\"\n",
    "            format_list = [epoch_idx, batch_idx, np.mean(losses), \n",
    "                           np.sum(perfs)/((len(perfs)))]\n",
    "            s = s.format(*format_list)\n",
    "            progress_bar.set_description(s)\n",
    "    torch.save(model.state_dict(), join('perf', 'TCN_morseadding_run_{}.pt'.format(r)))"
   ]
  },
  {
   "cell_type": "code",
   "execution_count": null,
   "metadata": {
    "ExecuteTime": {
     "end_time": "2021-05-12T15:51:06.449121Z",
     "start_time": "2021-05-12T15:51:06.439344Z"
    }
   },
   "outputs": [],
   "source": []
  },
  {
   "cell_type": "code",
   "execution_count": null,
   "metadata": {
    "ExecuteTime": {
     "end_time": "2021-05-27T17:21:07.998036Z",
     "start_time": "2021-05-27T17:21:07.981657Z"
    }
   },
   "outputs": [],
   "source": [
    "items = np.load('generated_adding_morse.npy', allow_pickle=True)\n",
    "loss_func = nn.MSELoss()\n"
   ]
  },
  {
   "cell_type": "code",
   "execution_count": null,
   "metadata": {
    "ExecuteTime": {
     "end_time": "2021-05-25T18:30:48.880027Z",
     "start_time": "2021-05-25T18:30:48.877935Z"
    }
   },
   "outputs": [],
   "source": [
    "loss_func = nn.MSELoss()\n"
   ]
  },
  {
   "cell_type": "code",
   "execution_count": null,
   "metadata": {
    "ExecuteTime": {
     "end_time": "2021-05-25T18:35:27.875592Z",
     "start_time": "2021-05-25T18:35:20.851166Z"
    }
   },
   "outputs": [],
   "source": [
    "losses = []\n",
    "device='cuda'\n",
    "for it, tar in items:\n",
    "    ans = torch.FloatTensor([.9]).to(device)\n",
    "    tv = torch.FloatTensor(tar).to(device)\n",
    "    loss = loss_func(ans, tv)\n",
    "    losses.append(loss.detach().cpu().numpy())\n",
    "plt.hist(losses)\n",
    "print(np.mean(losses))"
   ]
  },
  {
   "cell_type": "code",
   "execution_count": null,
   "metadata": {
    "ExecuteTime": {
     "end_time": "2021-05-27T17:27:04.385870Z",
     "start_time": "2021-05-27T17:21:16.020748Z"
    }
   },
   "outputs": [],
   "source": [
    "runs = 5\n",
    "device='cuda'\n",
    "for r in range(runs):\n",
    "    model.load_state_dict(torch.load(join('perf','TCN_morseadding_run_{}.pt'.format(r))))\n",
    "    model.eval()\n",
    "    evald = []\n",
    "    evaldDict = {'test_perf':[],\n",
    "                 'rate':[]}\n",
    "    for nr in [1,3,4,5,6,12,25,50]:\n",
    "    #for nr in range(1,40,):\n",
    "        perfs = []\n",
    "        losses = []\n",
    "        for iv, tar in items:\n",
    "            iv = ttype(iv).unsqueeze(0).transpose(-1,-2).unsqueeze(-1)\n",
    "            iv = iv.repeat(1,1,1,nr)\n",
    "            iv = iv.reshape(1,2,-1)\n",
    "            tv = torch.FloatTensor(tar).to(device)\n",
    "            out = model(iv)\n",
    "\n",
    "            loss = loss_func(out,\n",
    "                                 tv)\n",
    "            losses.append(loss.detach().cpu().numpy())\n",
    "        print(nr, np.mean(losses))\n",
    "        evaldDict['test_perf'].append(np.mean(losses))\n",
    "        evaldDict['rate'].append(nr)\n",
    "        evald.append([nr, np.mean(losses)])\n",
    "    scale_perfs = pd.DataFrame(evaldDict)\n",
    "    scale_perfs.to_pickle(join(\"perf\", \"TCN_morseadding_test_{}.dill\".format(r)))"
   ]
  },
  {
   "cell_type": "code",
   "execution_count": null,
   "metadata": {
    "ExecuteTime": {
     "end_time": "2021-05-23T15:18:17.537523Z",
     "start_time": "2021-05-23T15:18:17.521728Z"
    }
   },
   "outputs": [],
   "source": [
    "TCN_perfs = None\n",
    "for r in range(5):\n",
    "    if TCN_perfs is None:\n",
    "        TCN_perfs = pd.read_pickle(join(\"perf\", \"TCN_morseadding_test_{}.dill\".format(r)))\n",
    "        TCN_perfs['run'] = [r]*TCN_perfs.shape[0]\n",
    "    else:\n",
    "        temp =  pd.read_pickle(join(\"perf\", \"TCN_morseadding_test_{}.dill\".format(r)))\n",
    "        temp['run'] = [r]*temp.shape[0]\n",
    "        TCN_perfs = TCN_perfs.append(temp)\n",
    "TCN_perfs['adj_scale'] = TCN_perfs.rate / Trainscale\n",
    "print(TCN_perfs)"
   ]
  },
  {
   "cell_type": "code",
   "execution_count": null,
   "metadata": {
    "ExecuteTime": {
     "end_time": "2021-05-23T15:22:48.570843Z",
     "start_time": "2021-05-23T15:22:48.203574Z"
    }
   },
   "outputs": [],
   "source": [
    "\n",
    "window_size = 20\n",
    "lw=5\n",
    "ms = 15\n",
    "with sn.plotting_context(\"notebook\", font_scale=2):\n",
    "    fig = plt.figure(figsize=(20,10), )\n",
    "    sn.lineplot(data=TCN_perfs, x='adj_scale', y='test_perf', \n",
    "                markers=True, linewidth=lw, ms=ms,)\n",
    "    plt.ylim(0, 1.0)"
   ]
  },
  {
   "cell_type": "code",
   "execution_count": null,
   "metadata": {},
   "outputs": [],
   "source": []
  }
 ],
 "metadata": {
  "kernelspec": {
   "display_name": "Python 3",
   "language": "python",
   "name": "python3"
  },
  "language_info": {
   "codemirror_mode": {
    "name": "ipython",
    "version": 3
   },
   "file_extension": ".py",
   "mimetype": "text/x-python",
   "name": "python",
   "nbconvert_exporter": "python",
   "pygments_lexer": "ipython3",
   "version": "3.6.10"
  },
  "toc": {
   "nav_menu": {},
   "number_sections": true,
   "sideBar": false,
   "skip_h1_title": false,
   "title_cell": "Table of Contents",
   "title_sidebar": "Contents",
   "toc_cell": false,
   "toc_position": {
    "height": "47.7167px",
    "left": "1045.97px",
    "top": "52px",
    "width": "161.033px"
   },
   "toc_section_display": false,
   "toc_window_display": true
  }
 },
 "nbformat": 4,
 "nbformat_minor": 4
}
