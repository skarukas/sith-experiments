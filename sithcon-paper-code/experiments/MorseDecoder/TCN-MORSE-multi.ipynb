{
 "cells": [
  {
   "cell_type": "code",
   "execution_count": null,
   "metadata": {
    "ExecuteTime": {
     "end_time": "2021-08-10T15:32:15.387938Z",
     "start_time": "2021-08-10T15:32:15.382427Z"
    }
   },
   "outputs": [],
   "source": [
    "%matplotlib inline"
   ]
  },
  {
   "cell_type": "code",
   "execution_count": null,
   "metadata": {
    "ExecuteTime": {
     "end_time": "2021-08-10T15:32:15.598006Z",
     "start_time": "2021-08-10T15:32:15.580698Z"
    }
   },
   "outputs": [],
   "source": [
    "import matplotlib.pyplot as plt\n",
    "import seaborn as sn\n",
    "sn.set_context(\"poster\")\n",
    "\n",
    "import torch\n",
    "from torch import nn as nn\n",
    "ttype = torch.cuda.FloatTensor if torch.cuda.is_available() else torch.FloatTensor\n",
    "ctype = torch.cuda.LongTensor if torch.cuda.is_available() else torch.LongTensor\n",
    "print(ttype)\n",
    "import torch.nn.functional as F\n",
    "from matplotlib import gridspec\n",
    "from deepsith import DeepSITH\n",
    "\n",
    "from tqdm.notebook import tqdm\n",
    "\n",
    "import itertools\n",
    "from csv import DictWriter\n",
    "import os \n",
    "from os.path import join\n",
    "import glob\n",
    "\n",
    "import numpy as np\n",
    "import pandas as pd\n",
    "import pickle\n",
    "from math import factorial\n",
    "import random"
   ]
  },
  {
   "cell_type": "code",
   "execution_count": null,
   "metadata": {
    "ExecuteTime": {
     "end_time": "2021-08-10T15:32:15.763572Z",
     "start_time": "2021-08-10T15:32:15.749012Z"
    }
   },
   "outputs": [],
   "source": [
    "MORSE_CODE_DICT = { 'A':'.-', 'B':'-...', \n",
    "                    'C':'-.-.', 'D':'-..', 'E':'.', \n",
    "                    'F':'..-.', 'G':'--.', 'H':'....', \n",
    "                    'I':'..', 'J':'.---', 'K':'-.-', \n",
    "                    'L':'.-..', 'M':'--', 'N':'-.', \n",
    "                    'O':'---', 'P':'.--.', 'Q':'--.-', \n",
    "                    'R':'.-.', 'S':'...', 'T':'-', \n",
    "                    'U':'..-', 'V':'...-', 'W':'.--', \n",
    "                    'X':'-..-', 'Y':'-.--', 'Z':'--..', \n",
    "                    '1':'.----', '2':'..---', '3':'...--', \n",
    "                    '4':'....-', '5':'.....', '6':'-....', \n",
    "                    '7':'--...', '8':'---..', '9':'----.', \n",
    "                    '0':'-----', ', ':'--..--', '.':'.-.-.-', \n",
    "                    '?':'..--..', '/':'-..-.', '-':'-....-', \n",
    "                    '(':'-.--.', ')':'-.--.-'} "
   ]
  },
  {
   "cell_type": "code",
   "execution_count": null,
   "metadata": {
    "ExecuteTime": {
     "end_time": "2021-08-10T15:32:15.951238Z",
     "start_time": "2021-08-10T15:32:15.938007Z"
    }
   },
   "outputs": [],
   "source": [
    "print(MORSE_CODE_DICT['?'], MORSE_CODE_DICT['?'].replace('.', '10').replace('-', '1110'))\n",
    "print(len(MORSE_CODE_DICT))\n",
    "morse_code_numpy = {key:np.array([int(x) for x in MORSE_CODE_DICT[key].replace('.', '10').replace('-', '1110')] + [0, 0])\n",
    "                    for key in MORSE_CODE_DICT.keys()}\n",
    "for k in morse_code_numpy.keys():\n",
    "    #if len(morse_code_numpy[k]) == 12:\n",
    "    #    print(morse_code_numpy[k], k)\n",
    "    print(morse_code_numpy[k], k)\n",
    "print(len(morse_code_numpy))\n",
    "subset = list(morse_code_numpy.keys())\n",
    "#subset = ['3', '7', 'Y', 'Q', 'J',\n",
    "#          'M', 'R', 'U', 'H', 'D']"
   ]
  },
  {
   "cell_type": "code",
   "execution_count": null,
   "metadata": {
    "ExecuteTime": {
     "end_time": "2021-08-10T15:32:16.159287Z",
     "start_time": "2021-08-10T15:32:16.117177Z"
    }
   },
   "outputs": [],
   "source": [
    "id2key = subset\n",
    "key2id = {}\n",
    "for idx, s in enumerate(subset):\n",
    "    key2id[s] = idx\n",
    "\n",
    "X = [ttype(morse_code_numpy[k])for k in subset]\n",
    "Y = torch.LongTensor(np.arange(0,len(X)))\n",
    "print(Y.max())\n",
    "print(X, Y)"
   ]
  },
  {
   "cell_type": "code",
   "execution_count": null,
   "metadata": {
    "ExecuteTime": {
     "end_time": "2021-08-10T15:32:16.352599Z",
     "start_time": "2021-08-10T15:32:16.309797Z"
    }
   },
   "outputs": [],
   "source": [
    "import torch\n",
    "import torch.nn as nn\n",
    "from torch.nn.utils import weight_norm\n",
    "\n",
    "\n",
    "class Chomp1d(nn.Module):\n",
    "    def __init__(self, chomp_size):\n",
    "        super(Chomp1d, self).__init__()\n",
    "        self.chomp_size = chomp_size\n",
    "\n",
    "    def forward(self, x):\n",
    "        return x[:, :, :-self.chomp_size].contiguous()\n",
    "\n",
    "\n",
    "class TemporalBlock(nn.Module):\n",
    "    def __init__(self, n_inputs, n_outputs, kernel_size, stride, dilation, padding, dropout=0.2):\n",
    "        super(TemporalBlock, self).__init__()\n",
    "        self.conv1 = weight_norm(nn.Conv1d(n_inputs, n_outputs, kernel_size,\n",
    "                                           stride=stride, padding=padding, dilation=dilation))\n",
    "        self.chomp1 = Chomp1d(padding)\n",
    "        self.relu1 = nn.ReLU()\n",
    "        self.dropout1 = nn.Dropout(dropout)\n",
    "\n",
    "        self.conv2 = weight_norm(nn.Conv1d(n_outputs, n_outputs, kernel_size,\n",
    "                                           stride=stride, padding=padding, dilation=dilation))\n",
    "        self.chomp2 = Chomp1d(padding)\n",
    "        self.relu2 = nn.ReLU()\n",
    "        self.dropout2 = nn.Dropout(dropout)\n",
    "\n",
    "        self.net = nn.Sequential(self.conv1, self.chomp1, self.relu1, self.dropout1,\n",
    "                                 self.conv2, self.chomp2, self.relu2, self.dropout2)\n",
    "        self.downsample = nn.Conv1d(n_inputs, n_outputs, 1) if n_inputs != n_outputs else None\n",
    "        self.relu = nn.ReLU()\n",
    "        self.init_weights()\n",
    "\n",
    "    def init_weights(self):\n",
    "        self.conv1.weight.data.normal_(0, 0.01)\n",
    "        self.conv2.weight.data.normal_(0, 0.01)\n",
    "        if self.downsample is not None:\n",
    "            self.downsample.weight.data.normal_(0, 0.01)\n",
    "\n",
    "    def forward(self, x):\n",
    "        out = self.net(x)\n",
    "        res = x if self.downsample is None else self.downsample(x)\n",
    "        return self.relu(out + res)\n",
    "\n",
    "\n",
    "class TemporalConvNet(nn.Module):\n",
    "    def __init__(self, num_inputs, num_channels, kernel_size=2, dropout=0.2):\n",
    "        super(TemporalConvNet, self).__init__()\n",
    "        layers = []\n",
    "        num_levels = len(num_channels)\n",
    "        for i in range(num_levels):\n",
    "            dilation_size = 2 ** i\n",
    "            in_channels = num_inputs if i == 0 else num_channels[i-1]\n",
    "            out_channels = num_channels[i]\n",
    "            layers += [TemporalBlock(in_channels, out_channels, kernel_size, stride=1, dilation=dilation_size,\n",
    "                                     padding=(kernel_size-1) * dilation_size, dropout=dropout)]\n",
    "\n",
    "        self.network = nn.Sequential(*layers)\n",
    "\n",
    "    def forward(self, x):\n",
    "        return self.network(x)\n",
    "class TCN(nn.Module):\n",
    "    def __init__(self, input_size, output_size, num_channels, kernel_size, dropout):\n",
    "        super(TCN, self).__init__()\n",
    "        self.tcn = TemporalConvNet(input_size, num_channels, kernel_size=kernel_size, dropout=dropout)\n",
    "        self.linear = nn.Linear(num_channels[-1], output_size)\n",
    "        self.init_weights()\n",
    "\n",
    "    def init_weights(self):\n",
    "        self.linear.weight.data.normal_(0, 0.01)\n",
    "\n",
    "    def forward(self, x):\n",
    "        y1 = self.tcn(x)\n",
    "        return self.linear(y1[:, :, -1])"
   ]
  },
  {
   "cell_type": "code",
   "execution_count": null,
   "metadata": {
    "ExecuteTime": {
     "end_time": "2021-08-10T15:32:16.540291Z",
     "start_time": "2021-08-10T15:32:16.532935Z"
    }
   },
   "outputs": [],
   "source": [
    "permute = np.arange(0, 43)\n",
    "print(max(permute))"
   ]
  },
  {
   "cell_type": "markdown",
   "metadata": {},
   "source": [
    "# 9 Layers"
   ]
  },
  {
   "cell_type": "code",
   "execution_count": null,
   "metadata": {
    "ExecuteTime": {
     "end_time": "2021-08-10T15:32:17.338227Z",
     "start_time": "2021-08-10T15:32:17.323526Z"
    },
    "scrolled": true
   },
   "outputs": [],
   "source": [
    "model = TCN(1, 43, [25]*8, kernel_size=15, dropout=0.0).cuda()\n",
    "tot_weights = 0\n",
    "for p in model.parameters():\n",
    "    tot_weights += p.numel()\n",
    "print(\"Total Weights:\", tot_weights)\n",
    "print(model)\n",
    "\n"
   ]
  },
  {
   "cell_type": "code",
   "execution_count": null,
   "metadata": {
    "ExecuteTime": {
     "end_time": "2021-08-10T15:32:17.649851Z",
     "start_time": "2021-08-10T15:32:17.643583Z"
    }
   },
   "outputs": [],
   "source": [
    "training_lens = [1,4,10,25,100]"
   ]
  },
  {
   "cell_type": "code",
   "execution_count": null,
   "metadata": {
    "ExecuteTime": {
     "end_time": "2021-08-10T15:32:21.236064Z",
     "start_time": "2021-08-10T15:32:18.026477Z"
    }
   },
   "outputs": [],
   "source": [
    "runs = 5\n",
    "epochs = 150000\n",
    "Trainscale = 10\n",
    "device='cuda'\n",
    "\n",
    "batch_size = 10\n",
    "batches = int(np.ceil(43 / batch_size))\n",
    "for r in range(runs):\n",
    "    model = TCN(1, 43, [25,25,25,25, \n",
    "                    25,25,25,25\n",
    "                   ], \n",
    "            kernel_size=15, dropout=0.0).cuda()\n",
    "\n",
    "    loss_func = torch.nn.CrossEntropyLoss()\n",
    "    optimizer = torch.optim.Adam(model.parameters())\n",
    "    perf_file = join('perf','tcnmulti_morsedecoder_run_{}.csv'.format(r))\n",
    "    \n",
    "\n",
    "    progress_bar = tqdm(range(int(epochs)), bar_format='{l_bar}{bar:5}{r_bar}{bar:-5b}')\n",
    "    times_100 = 0\n",
    "\n",
    "    for epoch_idx in progress_bar:\n",
    "        perfs = []\n",
    "        losses = []\n",
    "        model.train()\n",
    "        for batch_idx in range(batches):\n",
    "            optimizer.zero_grad()\n",
    "            loss = 0\n",
    "            permute = np.arange(0, 43)\n",
    "            np.random.shuffle(permute)\n",
    "            for i in range(0, int(min(len(X) - (batch_idx*batch_size), \n",
    "                                  batch_size))\n",
    "                           ):\n",
    "                Trainscale = training_lens[i % len(training_lens)]\n",
    "                iv = X[permute[batch_idx*batch_size + i]]\n",
    "                iv = iv.unsqueeze(0).unsqueeze(0).unsqueeze(-1)\n",
    "                iv = iv.repeat(1,1,1,Trainscale)\n",
    "                iv = iv.reshape(1,1,-1)\n",
    "                tv = Y[permute[batch_idx*batch_size + i]].to(device)\n",
    "                out = model(iv)\n",
    "                loss += loss_func(out,\n",
    "                                  tv.unsqueeze(0))\n",
    "                perfs.append((torch.argmax(out, dim=-1) == \n",
    "                              tv).sum().item())\n",
    "\n",
    "            loss = loss / min(len(X) - (batch_idx*batch_size), \n",
    "                              batch_size)\n",
    "            loss.backward()\n",
    "            optimizer.step()\n",
    "\n",
    "\n",
    "            #perfs = perfs[int(-loss_buffer_size/batch_size):]\n",
    "            losses.append(loss.detach().cpu().numpy())\n",
    "            #losses = losses[int(-loss_buffer_size/batch_size):]\n",
    "\n",
    "\n",
    "            s = \"{}:{:2} Loss: {:.4f}, Perf: {:.4f}\"\n",
    "            format_list = [epoch_idx, batch_idx, np.mean(losses), \n",
    "                           np.sum(perfs)/((len(perfs)))]\n",
    "            s = s.format(*format_list)\n",
    "            progress_bar.set_description(s)\n",
    "        if (np.sum(perfs)/((len(perfs))) == 1.0) & (np.mean(losses) < .11):\n",
    "            times_100 += 1\n",
    "            if times_100 >= 3:\n",
    "                break\n",
    "    torch.save(model.state_dict(), perf_file[:-4]+\".pt\")"
   ]
  },
  {
   "cell_type": "code",
   "execution_count": null,
   "metadata": {
    "ExecuteTime": {
     "end_time": "2021-08-06T16:36:22.475671Z",
     "start_time": "2021-08-06T16:36:22.446604Z"
    }
   },
   "outputs": [],
   "source": [
    "torch.save(model.state_dict(), perf_file[:-4]+\".pt\")"
   ]
  },
  {
   "cell_type": "code",
   "execution_count": null,
   "metadata": {
    "ExecuteTime": {
     "end_time": "2021-08-09T02:48:37.403190Z",
     "start_time": "2021-08-09T02:48:32.262037Z"
    },
    "scrolled": true
   },
   "outputs": [],
   "source": [
    "runs = 5\n",
    "device = 'cuda'\n",
    "for r in range(runs):\n",
    "    model.load_state_dict(torch.load(join('perf','tcnmulti_morsedecoder_run_{}.pt'.format(r))))\n",
    "    model.eval()\n",
    "    with torch.no_grad():\n",
    "        evald = []\n",
    "        evaldDict = {'test_perf':[],\n",
    "                     'rate':[]}\n",
    "        for nr in [1,2,3,4,5,6,7,8,9,10,12,13,15,18,20,25,50,75,90,100,125,250,500,1000]:\n",
    "        #for nr in range(1,20):\n",
    "            perfs = []\n",
    "            for batch_idx, iv in enumerate(X):\n",
    "                iv = iv.unsqueeze(0).unsqueeze(0).unsqueeze(-1)\n",
    "                iv = iv.repeat(1,1,1,nr)\n",
    "                iv = iv.reshape(1,1,-1)\n",
    "                tv = Y[batch_idx].to(device)\n",
    "                out = model(iv)\n",
    "\n",
    "                perfs.append((torch.argmax(out, dim=-1) == \n",
    "                              tv).sum().item())\n",
    "                #print(torch.argmax(out, dim=-1), \n",
    "                #              tv)\n",
    "            evaldDict['test_perf'].append(sum(perfs)/len(perfs))\n",
    "            evaldDict['rate'].append(nr)\n",
    "            print(nr, sum(perfs)/len(perfs))\n",
    "            evald.append({'scale':nr, \n",
    "                          'perf':sum(perfs)/len(perfs)})\n",
    "        scale_perfs = pd.DataFrame(evald)\n",
    "        scale_perfs.to_pickle(join(\"perf\", \"tcnmulti_morse_ttest_{}.dill\".format(r)))"
   ]
  }
 ],
 "metadata": {
  "kernelspec": {
   "display_name": "Python 3",
   "language": "python",
   "name": "python3"
  },
  "language_info": {
   "codemirror_mode": {
    "name": "ipython",
    "version": 3
   },
   "file_extension": ".py",
   "mimetype": "text/x-python",
   "name": "python",
   "nbconvert_exporter": "python",
   "pygments_lexer": "ipython3",
   "version": "3.6.10"
  },
  "toc": {
   "nav_menu": {},
   "number_sections": true,
   "sideBar": true,
   "skip_h1_title": false,
   "title_cell": "Table of Contents",
   "title_sidebar": "Contents",
   "toc_cell": false,
   "toc_position": {},
   "toc_section_display": true,
   "toc_window_display": false
  }
 },
 "nbformat": 4,
 "nbformat_minor": 4
}
