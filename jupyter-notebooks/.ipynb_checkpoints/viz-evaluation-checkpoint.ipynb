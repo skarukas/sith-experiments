{
 "cells": [
  {
   "cell_type": "markdown",
   "metadata": {
    "id": "C3TVp8j190Gs"
   },
   "source": [
    "### Visualize and compare a set of experiments\n",
    "each experiment should be a yaml file"
   ]
  },
  {
   "cell_type": "code",
   "execution_count": 1,
   "metadata": {
    "id": "xf6tdXXl-MOP"
   },
   "outputs": [],
   "source": [
    "import yaml\n",
    "import glob\n",
    "import matplotlib.pyplot as plt\n",
    "from os.path import join"
   ]
  },
  {
   "cell_type": "code",
   "execution_count": 2,
   "metadata": {
    "id": "WIFPSQe99lgl"
   },
   "outputs": [],
   "source": [
    "# assume they're all named the same thing\n",
    "fname = \"evaluate_results.yaml\"\n",
    "# and have a shared parent dir\n",
    "parent_dir = \"../out/Deep_LP_train/mnist/full_mnist_angle_invariance/bilinear_ntau20_419564\"\n",
    "glob_str = parent_dir + \"**/**/\" + fname"
   ]
  },
  {
   "cell_type": "code",
   "execution_count": 3,
   "metadata": {
    "colab": {
     "base_uri": "https://localhost:8080/"
    },
    "id": "PfUbwTsB-ZYi",
    "outputId": "cbcda789-55e1-47be-d556-283d5a67ee98"
   },
   "outputs": [
    {
     "name": "stdout",
     "output_type": "stream",
     "text": [
      "['../out/Deep_LP_train/mnist/full_mnist_angle_invariance/bilinear_ntau20_419564/30deg_rotations_tk12_md_0/evaluate_results.yaml']\n"
     ]
    }
   ],
   "source": [
    "files = glob.glob(glob_str, recursive=True)\n",
    "print(files)\n",
    "assert len(files)"
   ]
  },
  {
   "cell_type": "code",
   "execution_count": 4,
   "metadata": {
    "id": "H73lbcHp_Uma"
   },
   "outputs": [
    {
     "ename": "TypeError",
     "evalue": "unhashable type: 'list'",
     "output_type": "error",
     "traceback": [
      "\u001b[0;31m---------------------------------------------------------------------------\u001b[0m",
      "\u001b[0;31mTypeError\u001b[0m                                 Traceback (most recent call last)",
      "\u001b[0;32m/tmp/ipykernel_161317/341288860.py\u001b[0m in \u001b[0;36m<module>\u001b[0;34m\u001b[0m\n\u001b[1;32m     17\u001b[0m             \u001b[0md\u001b[0m \u001b[0;34m=\u001b[0m \u001b[0mall_history\u001b[0m\u001b[0;34m.\u001b[0m\u001b[0mget\u001b[0m\u001b[0;34m(\u001b[0m\u001b[0mkey\u001b[0m\u001b[0;34m,\u001b[0m \u001b[0;34m{\u001b[0m\u001b[0;34m}\u001b[0m\u001b[0;34m)\u001b[0m\u001b[0;34m\u001b[0m\u001b[0;34m\u001b[0m\u001b[0m\n\u001b[1;32m     18\u001b[0m             \u001b[0mmy_dict\u001b[0m \u001b[0;34m=\u001b[0m \u001b[0md\u001b[0m\u001b[0;34m.\u001b[0m\u001b[0mget\u001b[0m\u001b[0;34m(\u001b[0m\u001b[0mid\u001b[0m\u001b[0;34m,\u001b[0m \u001b[0;34m{\u001b[0m\u001b[0;34m}\u001b[0m\u001b[0;34m)\u001b[0m\u001b[0;34m\u001b[0m\u001b[0;34m\u001b[0m\u001b[0m\n\u001b[0;32m---> 19\u001b[0;31m             \u001b[0mmy_dict\u001b[0m\u001b[0;34m[\u001b[0m\u001b[0mval\u001b[0m\u001b[0;34m]\u001b[0m \u001b[0;34m=\u001b[0m \u001b[0mtst\u001b[0m\u001b[0;34m[\u001b[0m\u001b[0;34m\"acc\"\u001b[0m\u001b[0;34m]\u001b[0m\u001b[0;34m\u001b[0m\u001b[0;34m\u001b[0m\u001b[0m\n\u001b[0m\u001b[1;32m     20\u001b[0m             \u001b[0md\u001b[0m\u001b[0;34m[\u001b[0m\u001b[0mid\u001b[0m\u001b[0;34m]\u001b[0m \u001b[0;34m=\u001b[0m \u001b[0mmy_dict\u001b[0m\u001b[0;34m\u001b[0m\u001b[0;34m\u001b[0m\u001b[0m\n\u001b[1;32m     21\u001b[0m             \u001b[0mall_history\u001b[0m\u001b[0;34m[\u001b[0m\u001b[0mkey\u001b[0m\u001b[0;34m]\u001b[0m \u001b[0;34m=\u001b[0m \u001b[0md\u001b[0m\u001b[0;34m\u001b[0m\u001b[0;34m\u001b[0m\u001b[0m\n",
      "\u001b[0;31mTypeError\u001b[0m: unhashable type: 'list'"
     ]
    }
   ],
   "source": [
    "all_history = {}\n",
    "for name in files:\n",
    "    with open(name) as f:\n",
    "        history = yaml.safe_load(f)\n",
    "        if history is None or len(history) == 0:\n",
    "            print(f\"{name} is empty.\")\n",
    "            continue\n",
    "        id = name.removeprefix(parent_dir + \"/\").rstrip(\"/\" + fname)\n",
    "        for tst in history:\n",
    "            ks = [k for k in tst[\"transform\"].keys() if k != \"out_size\"]\n",
    "            if len(ks) == 0:\n",
    "                key = \"no transformation\"\n",
    "                val = 1\n",
    "            else:\n",
    "                key = list(ks)[0]\n",
    "                val = tst[\"transform\"][key]\n",
    "            d = all_history.get(key, {})\n",
    "            my_dict = d.get(id, {})\n",
    "            my_dict[val] = tst[\"acc\"]\n",
    "            d[id] = my_dict\n",
    "            all_history[key] = d                "
   ]
  },
  {
   "cell_type": "code",
   "execution_count": null,
   "metadata": {
    "colab": {
     "base_uri": "https://localhost:8080/",
     "height": 717
    },
    "id": "AHGj8JkEEhXO",
    "outputId": "d97b03cf-d855-4493-adcb-745e19192700",
    "scrolled": false
   },
   "outputs": [],
   "source": [
    "num_keys = len(all_history.keys())\n",
    "print(num_keys)\n",
    "num_runs = len(files)\n",
    "f, ax = plt.subplots(num_keys, figsize=(5, 4))\n",
    "f.tight_layout(pad=3.0)\n",
    "if not hasattr(ax, \"__getitem__\"):\n",
    "    ax = [ax]\n",
    "for i, key in enumerate(all_history.keys()):\n",
    "  runs = all_history[key]\n",
    "  vals = runs.values()\n",
    "  mx = max(map(max, vals))\n",
    "  mn = min(map(min, vals))\n",
    "  run_names = [*runs.keys()]\n",
    "  ax[i].set_title(key)\n",
    "  ax[i].set_ylim(top=1.0, bottom=0.915)\n",
    "  bar_vals = []\n",
    "  for j, run_name in enumerate(run_names):\n",
    "    dct = runs[run_name]\n",
    "    x, y = zip(*sorted(dct.items()))\n",
    "\n",
    "    if key == \"no transformation\":\n",
    "        bar_vals.append(y[0])\n",
    "        run_names[j] = f\"{run_name} (acc={y[0] :.4})\"\n",
    "    else: \n",
    "        ax[i].scatter(x, y, label=run_name)\n",
    "        ax[i].plot(x, y, label=run_name)\n",
    "    \n",
    "  if len(bar_vals):   \n",
    "    n = len(bar_vals)\n",
    "    cmap = plt.cm.get_cmap(\"viridis\", n)\n",
    "    colors = [cmap(i) for i in range(n)]\n",
    "    handles = [plt.Rectangle((0,0),1,1, color=colors[i]) for i in range(n)]\n",
    "    ax[i].set_xticks([])\n",
    "    ax[i].bar(range(n), bar_vals, color=colors)\n",
    "    ax[i].legend(handles, run_names, loc=(1.04,0))\n",
    "  else:\n",
    "    ax[i].legend(run_names, loc=(1.04,0))\n",
    "  ax[i].set_ylabel(\"test_acc\")\n",
    "\n",
    "plt.show()"
   ]
  },
  {
   "cell_type": "code",
   "execution_count": null,
   "metadata": {
    "id": "ts07A6utF-3Y"
   },
   "outputs": [],
   "source": [
    "fig_fname = \"evaluation_plots.png\"\n",
    "f.savefig(join(parent_dir, fig_fname), bbox_inches=\"tight\", facecolor='white')"
   ]
  },
  {
   "cell_type": "code",
   "execution_count": null,
   "metadata": {},
   "outputs": [],
   "source": []
  }
 ],
 "metadata": {
  "colab": {
   "collapsed_sections": [],
   "name": "results_viz.ipynb",
   "provenance": []
  },
  "kernelspec": {
   "display_name": "Python 3 (ipykernel)",
   "language": "python",
   "name": "python3"
  },
  "language_info": {
   "codemirror_mode": {
    "name": "ipython",
    "version": 3
   },
   "file_extension": ".py",
   "mimetype": "text/x-python",
   "name": "python",
   "nbconvert_exporter": "python",
   "pygments_lexer": "ipython3",
   "version": "3.9.7"
  }
 },
 "nbformat": 4,
 "nbformat_minor": 1
}
