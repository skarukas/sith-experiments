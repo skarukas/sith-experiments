{
 "cells": [
  {
   "cell_type": "code",
   "execution_count": 1,
   "metadata": {},
   "outputs": [
    {
     "name": "stdout",
     "output_type": "stream",
     "text": [
      "Defaulting to user installation because normal site-packages is not writeable\n",
      "Requirement already satisfied: librosa in /geode2/home/u080/skarukas/Carbonate/.local/lib/python3.9/site-packages (0.8.1)\n",
      "Requirement already satisfied: numba>=0.43.0 in /geode2/soft/hps/rhel7/deeplearning/Python-3.9.6/lib/python3.9/site-packages (from librosa) (0.54.0)\n",
      "Requirement already satisfied: numpy>=1.15.0 in /geode2/soft/hps/rhel7/deeplearning/Python-3.9.6/lib/python3.9/site-packages (from librosa) (1.19.3)\n",
      "Requirement already satisfied: pooch>=1.0 in /geode2/home/u080/skarukas/Carbonate/.local/lib/python3.9/site-packages (from librosa) (1.6.0)\n",
      "Requirement already satisfied: scikit-learn!=0.19.0,>=0.14.0 in /geode2/soft/hps/rhel7/deeplearning/Python-3.9.6/lib/python3.9/site-packages (from librosa) (0.24.2)\n",
      "Requirement already satisfied: soundfile>=0.10.2 in /geode2/home/u080/skarukas/Carbonate/.local/lib/python3.9/site-packages (from librosa) (0.10.3.post1)\n",
      "Requirement already satisfied: joblib>=0.14 in /geode2/soft/hps/rhel7/deeplearning/Python-3.9.6/lib/python3.9/site-packages (from librosa) (1.0.1)\n",
      "Requirement already satisfied: packaging>=20.0 in /geode2/soft/hps/rhel7/deeplearning/Python-3.9.6/lib/python3.9/site-packages (from librosa) (21.0)\n",
      "Requirement already satisfied: decorator>=3.0.0 in /geode2/soft/hps/rhel7/deeplearning/Python-3.9.6/lib/python3.9/site-packages (from librosa) (5.0.9)\n",
      "Requirement already satisfied: scipy>=1.0.0 in /geode2/soft/hps/rhel7/deeplearning/Python-3.9.6/lib/python3.9/site-packages (from librosa) (1.7.1)\n",
      "Requirement already satisfied: resampy>=0.2.2 in /geode2/home/u080/skarukas/Carbonate/.local/lib/python3.9/site-packages (from librosa) (0.2.2)\n",
      "Requirement already satisfied: audioread>=2.0.0 in /geode2/home/u080/skarukas/Carbonate/.local/lib/python3.9/site-packages (from librosa) (2.1.9)\n",
      "Requirement already satisfied: llvmlite<0.38,>=0.37.0rc1 in /geode2/soft/hps/rhel7/deeplearning/Python-3.9.6/lib/python3.9/site-packages (from numba>=0.43.0->librosa) (0.37.0)\n",
      "Requirement already satisfied: setuptools in /geode2/soft/hps/rhel7/deeplearning/Python-3.9.6/lib/python3.9/site-packages (from numba>=0.43.0->librosa) (59.2.0)\n",
      "Requirement already satisfied: pyparsing>=2.0.2 in /geode2/soft/hps/rhel7/deeplearning/Python-3.9.6/lib/python3.9/site-packages (from packaging>=20.0->librosa) (2.4.7)\n",
      "Requirement already satisfied: requests>=2.19.0 in /geode2/soft/hps/rhel7/deeplearning/Python-3.9.6/lib/python3.9/site-packages (from pooch>=1.0->librosa) (2.26.0)\n",
      "Requirement already satisfied: appdirs>=1.3.0 in /geode2/home/u080/skarukas/Carbonate/.local/lib/python3.9/site-packages (from pooch>=1.0->librosa) (1.4.4)\n",
      "Requirement already satisfied: charset-normalizer~=2.0.0 in /geode2/soft/hps/rhel7/deeplearning/Python-3.9.6/lib/python3.9/site-packages (from requests>=2.19.0->pooch>=1.0->librosa) (2.0.4)\n",
      "Requirement already satisfied: certifi>=2017.4.17 in /geode2/soft/hps/rhel7/deeplearning/Python-3.9.6/lib/python3.9/site-packages (from requests>=2.19.0->pooch>=1.0->librosa) (2021.5.30)\n",
      "Requirement already satisfied: urllib3<1.27,>=1.21.1 in /geode2/soft/hps/rhel7/deeplearning/Python-3.9.6/lib/python3.9/site-packages (from requests>=2.19.0->pooch>=1.0->librosa) (1.26.6)\n",
      "Requirement already satisfied: idna<4,>=2.5 in /geode2/soft/hps/rhel7/deeplearning/Python-3.9.6/lib/python3.9/site-packages (from requests>=2.19.0->pooch>=1.0->librosa) (3.2)\n",
      "Requirement already satisfied: six>=1.3 in /geode2/soft/hps/rhel7/deeplearning/Python-3.9.6/lib/python3.9/site-packages (from resampy>=0.2.2->librosa) (1.15.0)\n",
      "Requirement already satisfied: threadpoolctl>=2.0.0 in /geode2/soft/hps/rhel7/deeplearning/Python-3.9.6/lib/python3.9/site-packages (from scikit-learn!=0.19.0,>=0.14.0->librosa) (2.2.0)\n",
      "Requirement already satisfied: cffi>=1.0 in /geode2/soft/hps/rhel7/deeplearning/Python-3.9.6/lib/python3.9/site-packages (from soundfile>=0.10.2->librosa) (1.14.6)\n",
      "Requirement already satisfied: pycparser in /geode2/soft/hps/rhel7/deeplearning/Python-3.9.6/lib/python3.9/site-packages (from cffi>=1.0->soundfile>=0.10.2->librosa) (2.20)\n",
      "\u001b[33mWARNING: You are using pip version 21.1.3; however, version 22.0.3 is available.\n",
      "You should consider upgrading via the '/N/soft/rhel7/deeplearning/Python-3.9.6/bin/python3.9 -m pip install --upgrade pip' command.\u001b[0m\n"
     ]
    }
   ],
   "source": [
    "!pip install librosa"
   ]
  },
  {
   "cell_type": "code",
   "execution_count": 2,
   "metadata": {
    "id": "iMa31HDeWcz9"
   },
   "outputs": [],
   "source": [
    "import torch\n",
    "from torchaudio.datasets import SPEECHCOMMANDS\n",
    "import os\n",
    "import torchaudio\n",
    "from os.path import join, exists\n",
    "import matplotlib.pyplot as plt\n",
    "from IPython.display import Audio\n",
    "import librosa\n",
    "from math import log2\n",
    "import numpy as np\n",
    "from tqdm import tqdm\n",
    "from multiprocess import Pool\n",
    "import functools\n",
    "import shutil"
   ]
  },
  {
   "cell_type": "markdown",
   "metadata": {
    "id": "I19jxK0hdkHO"
   },
   "source": [
    "## Load Data (Google Speech Commands V2)"
   ]
  },
  {
   "cell_type": "code",
   "execution_count": 3,
   "metadata": {
    "id": "n5V9vTCBWnFE"
   },
   "outputs": [],
   "source": [
    "# modified version of \n",
    "#.  https://pytorch.org/tutorials/intermediate/speech_command_classification_with_torchaudio_tutorial.html\n",
    "\n",
    "class SubsetSC(SPEECHCOMMANDS):\n",
    "    def __init__(self, subset: str = None):\n",
    "        super().__init__(\"../data/\", download=True)\n",
    "\n",
    "        def load_list(filename):\n",
    "            filepath = os.path.join(self._path, filename)\n",
    "            with open(filepath) as fileobj:\n",
    "                return [os.path.join(self._path, line.strip()) for line in fileobj]\n",
    "\n",
    "        if subset == \"validation\":\n",
    "            self._walker = load_list(\"validation_list.txt\")\n",
    "        elif subset == \"testing\":\n",
    "            self._walker = load_list(\"testing_list.txt\")\n",
    "        elif subset == \"training\":\n",
    "            excludes = load_list(\"validation_list.txt\") + load_list(\"testing_list.txt\")\n",
    "            excludes = set(map(os.path.abspath, excludes))\n",
    "            self._walker = [w for w in self._walker if os.path.abspath(w) not in excludes]\n",
    "    \n",
    "    def __getitem__(self, idx):\n",
    "      fname = self._walker[idx]\n",
    "      x = torchaudio.load(fname)[0]\n",
    "      split = fname.split(\"/\")\n",
    "      word = split[-2]\n",
    "      id = split[-1].rstrip(\".wav\")\n",
    "      return (x, word, id)"
   ]
  },
  {
   "cell_type": "code",
   "execution_count": 4,
   "metadata": {
    "colab": {
     "base_uri": "https://localhost:8080/",
     "height": 66,
     "referenced_widgets": [
      "849e2d99f5ce420f82ab49db4230a60d",
      "afe1f64ac1a642729226488f35d1aa51",
      "ee82dcdd0613499d9ac0edddd36e47f2",
      "3d5f09e1c89c49429fc510050cf7bda3",
      "98ea295eed8a49b2b4c6906e3869c6ca",
      "ad7f772313024c1b968962f64f67c7f5",
      "215cdf901d4541b29d7c69fc7b92894a",
      "cec23e5b61ff414e9de8ad15dbd4194d",
      "974ca6a90fac42ad9f463e3a478946dd",
      "48f155a5cea74be6a68b07ca9ee72864",
      "91897ed1cf3741df9b31743fdd769b2c"
     ]
    },
    "id": "SEarl48bSHwk",
    "outputId": "5da690da-f65c-4dd9-84a5-6fae4235b145"
   },
   "outputs": [
    {
     "name": "stdout",
     "output_type": "stream",
     "text": [
      "84843 9981 11005\n"
     ]
    }
   ],
   "source": [
    "train = SubsetSC(\"training\")\n",
    "val = SubsetSC(\"validation\")\n",
    "test = SubsetSC(\"testing\")\n",
    "print(len(train), len(val), len(test))"
   ]
  },
  {
   "cell_type": "code",
   "execution_count": 5,
   "metadata": {
    "colab": {
     "base_uri": "https://localhost:8080/"
    },
    "id": "4wE3KSQRSQHV",
    "outputId": "e5e41ea6-9f60-47e2-d3d0-2f23b0fee265"
   },
   "outputs": [
    {
     "name": "stdout",
     "output_type": "stream",
     "text": [
      "Num labels: 35\n",
      "dict_keys(['backward', 'bed', 'bird', 'cat', 'dog', 'down', 'eight', 'five', 'follow', 'forward', 'four', 'go', 'happy', 'house', 'learn', 'left', 'marvin', 'nine', 'no', 'off', 'on', 'one', 'right', 'seven', 'sheila', 'six', 'stop', 'three', 'tree', 'two', 'up', 'visual', 'wow', 'yes', 'zero'])\n"
     ]
    }
   ],
   "source": [
    "idx = 0\n",
    "word_index = {}\n",
    "for dat in train:\n",
    "  word = dat[1]\n",
    "  if word not in word_index:\n",
    "    word_index[word] = idx\n",
    "    idx += 1\n",
    "print(\"Num labels:\", len(word_index.keys()))\n",
    "print(word_index.keys())"
   ]
  },
  {
   "cell_type": "markdown",
   "metadata": {
    "id": "NY4ZKkXIdmrV"
   },
   "source": [
    "### Process Data"
   ]
  },
  {
   "cell_type": "code",
   "execution_count": 6,
   "metadata": {
    "colab": {
     "base_uri": "https://localhost:8080/"
    },
    "id": "gIfJ8D2CaX9W",
    "outputId": "40a3ad16-ba40-4c81-85d9-c6686a5bc802"
   },
   "outputs": [
    {
     "name": "stdout",
     "output_type": "stream",
     "text": [
      "Creating constant-q filter with 8 bins per octave\n"
     ]
    }
   ],
   "source": [
    "fmin = 100\n",
    "fmax = 6000\n",
    "bins = 50\n",
    "hop_length = 64\n",
    "bins_per_octave = int(bins / log2(fmax/fmin) + 0.5)\n",
    "print(f\"Creating constant-q filter with {bins_per_octave} bins per octave\")"
   ]
  },
  {
   "cell_type": "code",
   "execution_count": 7,
   "metadata": {
    "id": "VLCmeKxARied"
   },
   "outputs": [],
   "source": [
    "def normalize(X):\n",
    "  # min-max\n",
    "  d = X.max() - X.min()\n",
    "  eps = 1e-4\n",
    "  return (X - X.min()) / (d + eps)"
   ]
  },
  {
   "cell_type": "code",
   "execution_count": 8,
   "metadata": {
    "id": "YQPglNE3OWTv"
   },
   "outputs": [],
   "source": [
    "def transform(data):\n",
    "  x, word, id = data\n",
    "  x = x.flatten().numpy()\n",
    "  X = librosa.cqt(x, sr=16000, hop_length=hop_length, fmin=fmin, n_bins=bins, bins_per_octave=bins_per_octave)\n",
    "  X = torch.tensor(X[np.newaxis]).abs()\n",
    "  X = normalize(X)\n",
    "  return x, X, word, id"
   ]
  },
  {
   "cell_type": "code",
   "execution_count": 9,
   "metadata": {
    "colab": {
     "base_uri": "https://localhost:8080/",
     "height": 75
    },
    "id": "SBFr9o2PkwJn",
    "outputId": "5aab5186-d00c-4569-d8c2-2c1caeb2cbab"
   },
   "outputs": [
    {
     "data": {
      "text/html": [
       "\n",
       "                <audio  controls=\"controls\" >\n",
       "                    <source src=\"data:audio/wav;base64,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\" type=\"audio/wav\" />\n",
       "                    Your browser does not support the audio element.\n",
       "                </audio>\n",
       "              "
      ],
      "text/plain": [
       "<IPython.lib.display.Audio object>"
      ]
     },
     "execution_count": 9,
     "metadata": {},
     "output_type": "execute_result"
    }
   ],
   "source": [
    "idx = 8000\n",
    "x = train[idx]\n",
    "Audio(x[0][0].numpy(), rate=16000)"
   ]
  },
  {
   "cell_type": "code",
   "execution_count": 10,
   "metadata": {
    "colab": {
     "base_uri": "https://localhost:8080/",
     "height": 298
    },
    "id": "qmlh4zFajyB1",
    "outputId": "833742d7-e222-4856-8a6c-43f3350f3643"
   },
   "outputs": [
    {
     "name": "stdout",
     "output_type": "stream",
     "text": [
      "4\n"
     ]
    },
    {
     "data": {
      "image/png": "[encoded data removed]",
      "text/plain": [
       "<Figure size 432x288 with 1 Axes>"
      ]
     },
     "metadata": {
      "needs_background": "light"
     },
     "output_type": "display_data"
    }
   ],
   "source": [
    "transformed = transform(x)\n",
    "X = transformed[1][0]\n",
    "word = transformed[2]\n",
    "plt.title(word)\n",
    "plt.imshow(X, aspect=\"auto\")\n",
    "print(word_index[word])"
   ]
  },
  {
   "cell_type": "code",
   "execution_count": 11,
   "metadata": {
    "id": "EyfSxD63WD_p"
   },
   "outputs": [],
   "source": [
    "def transform_and_save(dirname, dat):\n",
    "  x, word, id = data\n",
    "  path = join(dirname, word, id + \".pt\")\n",
    "  if not exists(path): \n",
    "      x, X, word, id = transform(dat)\n",
    "      label = word_index[word]\n",
    "      item = (X, label)\n",
    "\n",
    "      torch.save(item, path)"
   ]
  },
  {
   "cell_type": "code",
   "execution_count": 12,
   "metadata": {
    "id": "eFxBQl7weg_N"
   },
   "outputs": [],
   "source": [
    "def save_data(dataset, dirname, num_workers=4):\n",
    "  #shutil.rmtree(dirname, ignore_errors=True)\n",
    "  for word in word_index.keys():\n",
    "    word_dir = join(dirname, word)\n",
    "    os.makedirs(word_dir, exist_ok=True)\n",
    "\n",
    "  pool = Pool(num_workers)\n",
    "  func = functools.partial(transform_and_save, dirname)\n",
    "  t = tqdm(\n",
    "    pool.imap_unordered(func, dataset),\n",
    "    total=len(dataset),\n",
    "    leave=False\n",
    "  )\n",
    "  count = 0\n",
    "  for _ in t:\n",
    "    count += 1"
   ]
  },
  {
   "cell_type": "code",
   "execution_count": 14,
   "metadata": {
    "colab": {
     "base_uri": "https://localhost:8080/",
     "height": 1000
    },
    "id": "q828xB00fi9F",
    "outputId": "90a94b0e-edd7-4cc7-e6fe-b331282c7d5d"
   },
   "outputs": [
    {
     "name": "stderr",
     "output_type": "stream",
     "text": [
      " 14%|█████▎                               | 1590/11005 [01:05<06:25, 24.40it/s]/N/u/skarukas/Carbonate/.local/lib/python3.9/site-packages/librosa/core/spectrum.py:222: UserWarning: n_fft=128 is too small for input signal of length=107\n",
      "  warnings.warn(\n",
      "                                                                               \r"
     ]
    },
    {
     "ename": "NameError",
     "evalue": "name 'requests' is not defined",
     "output_type": "error",
     "traceback": [
      "\u001b[0;31m---------------------------------------------------------------------------\u001b[0m",
      "\u001b[0;31mNameError\u001b[0m                                 Traceback (most recent call last)",
      "\u001b[0;32m/tmp/ipykernel_10740/3280421821.py\u001b[0m in \u001b[0;36m<module>\u001b[0;34m\u001b[0m\n\u001b[1;32m      3\u001b[0m \u001b[0msave_data\u001b[0m\u001b[0;34m(\u001b[0m\u001b[0mval\u001b[0m\u001b[0;34m,\u001b[0m \u001b[0mjoin\u001b[0m\u001b[0;34m(\u001b[0m\u001b[0mdataset_dir\u001b[0m\u001b[0;34m,\u001b[0m \u001b[0;34m\"val\"\u001b[0m\u001b[0;34m)\u001b[0m\u001b[0;34m)\u001b[0m\u001b[0;34m\u001b[0m\u001b[0;34m\u001b[0m\u001b[0m\n\u001b[1;32m      4\u001b[0m \u001b[0msave_data\u001b[0m\u001b[0;34m(\u001b[0m\u001b[0mtest\u001b[0m\u001b[0;34m,\u001b[0m \u001b[0mjoin\u001b[0m\u001b[0;34m(\u001b[0m\u001b[0mdataset_dir\u001b[0m\u001b[0;34m,\u001b[0m \u001b[0;34m\"test\"\u001b[0m\u001b[0;34m)\u001b[0m\u001b[0;34m)\u001b[0m\u001b[0;34m\u001b[0m\u001b[0;34m\u001b[0m\u001b[0m\n\u001b[0;32m----> 5\u001b[0;31m \u001b[0mrequests\u001b[0m\u001b[0;34m.\u001b[0m\u001b[0mget\u001b[0m\u001b[0;34m(\u001b[0m\u001b[0;34m'https://maker.ifttt.com/trigger/notify/with/key/fiONQ0larpXstJ2n0gWjROnCGGqgwm77WMaHsjWd7C4'\u001b[0m\u001b[0;34m)\u001b[0m\u001b[0;34m\u001b[0m\u001b[0;34m\u001b[0m\u001b[0m\n\u001b[0m",
      "\u001b[0;31mNameError\u001b[0m: name 'requests' is not defined"
     ]
    }
   ],
   "source": [
    "dataset_dir = \"../data/SpeechCommands/processed\"\n",
    "save_data(train, join(dataset_dir, \"train\"))\n",
    "save_data(val, join(dataset_dir, \"val\"))\n",
    "save_data(test, join(dataset_dir, \"test\"))"
   ]
  },
  {
   "cell_type": "code",
   "execution_count": 17,
   "metadata": {
    "id": "RsDNKJsCW-WI"
   },
   "outputs": [],
   "source": [
    "path = join(dataset_dir, \"word_indices.txt\")\n",
    "with open(path, \"w\") as f:\n",
    "  f.writelines(\" \".join(map(str, pair)) + \"\\n\" for pair in word_index.items())"
   ]
  },
  {
   "cell_type": "code",
   "execution_count": null,
   "metadata": {},
   "outputs": [],
   "source": []
  }
 ],
 "metadata": {
  "colab": {
   "collapsed_sections": [],
   "name": "process-speechcommands.ipynb",
   "provenance": []
  },
  "kernelspec": {
   "display_name": "Python 3 (ipykernel)",
   "language": "python",
   "name": "python3"
  },
  "language_info": {
   "codemirror_mode": {
    "name": "ipython",
    "version": 3
   },
   "file_extension": ".py",
   "mimetype": "text/x-python",
   "name": "python",
   "nbconvert_exporter": "python",
   "pygments_lexer": "ipython3",
   "version": "3.9.6"
  },
  "widgets": {
   "application/vnd.jupyter.widget-state+json": {
    "215cdf901d4541b29d7c69fc7b92894a": {
     "model_module": "@jupyter-widgets/base",
     "model_module_version": "1.2.0",
     "model_name": "LayoutModel",
     "state": {
      "_model_module": "@jupyter-widgets/base",
      "_model_module_version": "1.2.0",
      "_model_name": "LayoutModel",
      "_view_count": null,
      "_view_module": "@jupyter-widgets/base",
      "_view_module_version": "1.2.0",
      "_view_name": "LayoutView",
      "align_content": null,
      "align_items": null,
      "align_self": null,
      "border": null,
      "bottom": null,
      "display": null,
      "flex": null,
      "flex_flow": null,
      "grid_area": null,
      "grid_auto_columns": null,
      "grid_auto_flow": null,
      "grid_auto_rows": null,
      "grid_column": null,
      "grid_gap": null,
      "grid_row": null,
      "grid_template_areas": null,
      "grid_template_columns": null,
      "grid_template_rows": null,
      "height": null,
      "justify_content": null,
      "justify_items": null,
      "left": null,
      "margin": null,
      "max_height": null,
      "max_width": null,
      "min_height": null,
      "min_width": null,
      "object_fit": null,
      "object_position": null,
      "order": null,
      "overflow": null,
      "overflow_x": null,
      "overflow_y": null,
      "padding": null,
      "right": null,
      "top": null,
      "visibility": null,
      "width": null
     }
    },
    "3d5f09e1c89c49429fc510050cf7bda3": {
     "model_module": "@jupyter-widgets/controls",
     "model_module_version": "1.5.0",
     "model_name": "FloatProgressModel",
     "state": {
      "_dom_classes": [],
      "_model_module": "@jupyter-widgets/controls",
      "_model_module_version": "1.5.0",
      "_model_name": "FloatProgressModel",
      "_view_count": null,
      "_view_module": "@jupyter-widgets/controls",
      "_view_module_version": "1.5.0",
      "_view_name": "ProgressView",
      "bar_style": "success",
      "description": "",
      "description_tooltip": null,
      "layout": "IPY_MODEL_974ca6a90fac42ad9f463e3a478946dd",
      "max": 2428923189,
      "min": 0,
      "orientation": "horizontal",
      "style": "IPY_MODEL_cec23e5b61ff414e9de8ad15dbd4194d",
      "value": 2428923189
     }
    },
    "48f155a5cea74be6a68b07ca9ee72864": {
     "model_module": "@jupyter-widgets/controls",
     "model_module_version": "1.5.0",
     "model_name": "DescriptionStyleModel",
     "state": {
      "_model_module": "@jupyter-widgets/controls",
      "_model_module_version": "1.5.0",
      "_model_name": "DescriptionStyleModel",
      "_view_count": null,
      "_view_module": "@jupyter-widgets/base",
      "_view_module_version": "1.2.0",
      "_view_name": "StyleView",
      "description_width": ""
     }
    },
    "849e2d99f5ce420f82ab49db4230a60d": {
     "model_module": "@jupyter-widgets/controls",
     "model_module_version": "1.5.0",
     "model_name": "HBoxModel",
     "state": {
      "_dom_classes": [],
      "_model_module": "@jupyter-widgets/controls",
      "_model_module_version": "1.5.0",
      "_model_name": "HBoxModel",
      "_view_count": null,
      "_view_module": "@jupyter-widgets/controls",
      "_view_module_version": "1.5.0",
      "_view_name": "HBoxView",
      "box_style": "",
      "children": [
       "IPY_MODEL_ee82dcdd0613499d9ac0edddd36e47f2",
       "IPY_MODEL_3d5f09e1c89c49429fc510050cf7bda3",
       "IPY_MODEL_98ea295eed8a49b2b4c6906e3869c6ca"
      ],
      "layout": "IPY_MODEL_afe1f64ac1a642729226488f35d1aa51"
     }
    },
    "91897ed1cf3741df9b31743fdd769b2c": {
     "model_module": "@jupyter-widgets/base",
     "model_module_version": "1.2.0",
     "model_name": "LayoutModel",
     "state": {
      "_model_module": "@jupyter-widgets/base",
      "_model_module_version": "1.2.0",
      "_model_name": "LayoutModel",
      "_view_count": null,
      "_view_module": "@jupyter-widgets/base",
      "_view_module_version": "1.2.0",
      "_view_name": "LayoutView",
      "align_content": null,
      "align_items": null,
      "align_self": null,
      "border": null,
      "bottom": null,
      "display": null,
      "flex": null,
      "flex_flow": null,
      "grid_area": null,
      "grid_auto_columns": null,
      "grid_auto_flow": null,
      "grid_auto_rows": null,
      "grid_column": null,
      "grid_gap": null,
      "grid_row": null,
      "grid_template_areas": null,
      "grid_template_columns": null,
      "grid_template_rows": null,
      "height": null,
      "justify_content": null,
      "justify_items": null,
      "left": null,
      "margin": null,
      "max_height": null,
      "max_width": null,
      "min_height": null,
      "min_width": null,
      "object_fit": null,
      "object_position": null,
      "order": null,
      "overflow": null,
      "overflow_x": null,
      "overflow_y": null,
      "padding": null,
      "right": null,
      "top": null,
      "visibility": null,
      "width": null
     }
    },
    "974ca6a90fac42ad9f463e3a478946dd": {
     "model_module": "@jupyter-widgets/base",
     "model_module_version": "1.2.0",
     "model_name": "LayoutModel",
     "state": {
      "_model_module": "@jupyter-widgets/base",
      "_model_module_version": "1.2.0",
      "_model_name": "LayoutModel",
      "_view_count": null,
      "_view_module": "@jupyter-widgets/base",
      "_view_module_version": "1.2.0",
      "_view_name": "LayoutView",
      "align_content": null,
      "align_items": null,
      "align_self": null,
      "border": null,
      "bottom": null,
      "display": null,
      "flex": null,
      "flex_flow": null,
      "grid_area": null,
      "grid_auto_columns": null,
      "grid_auto_flow": null,
      "grid_auto_rows": null,
      "grid_column": null,
      "grid_gap": null,
      "grid_row": null,
      "grid_template_areas": null,
      "grid_template_columns": null,
      "grid_template_rows": null,
      "height": null,
      "justify_content": null,
      "justify_items": null,
      "left": null,
      "margin": null,
      "max_height": null,
      "max_width": null,
      "min_height": null,
      "min_width": null,
      "object_fit": null,
      "object_position": null,
      "order": null,
      "overflow": null,
      "overflow_x": null,
      "overflow_y": null,
      "padding": null,
      "right": null,
      "top": null,
      "visibility": null,
      "width": null
     }
    },
    "98ea295eed8a49b2b4c6906e3869c6ca": {
     "model_module": "@jupyter-widgets/controls",
     "model_module_version": "1.5.0",
     "model_name": "HTMLModel",
     "state": {
      "_dom_classes": [],
      "_model_module": "@jupyter-widgets/controls",
      "_model_module_version": "1.5.0",
      "_model_name": "HTMLModel",
      "_view_count": null,
      "_view_module": "@jupyter-widgets/controls",
      "_view_module_version": "1.5.0",
      "_view_name": "HTMLView",
      "description": "",
      "description_tooltip": null,
      "layout": "IPY_MODEL_91897ed1cf3741df9b31743fdd769b2c",
      "placeholder": "​",
      "style": "IPY_MODEL_48f155a5cea74be6a68b07ca9ee72864",
      "value": " 2.26G/2.26G [00:13&lt;00:00, 212MB/s]"
     }
    },
    "ad7f772313024c1b968962f64f67c7f5": {
     "model_module": "@jupyter-widgets/controls",
     "model_module_version": "1.5.0",
     "model_name": "DescriptionStyleModel",
     "state": {
      "_model_module": "@jupyter-widgets/controls",
      "_model_module_version": "1.5.0",
      "_model_name": "DescriptionStyleModel",
      "_view_count": null,
      "_view_module": "@jupyter-widgets/base",
      "_view_module_version": "1.2.0",
      "_view_name": "StyleView",
      "description_width": ""
     }
    },
    "afe1f64ac1a642729226488f35d1aa51": {
     "model_module": "@jupyter-widgets/base",
     "model_module_version": "1.2.0",
     "model_name": "LayoutModel",
     "state": {
      "_model_module": "@jupyter-widgets/base",
      "_model_module_version": "1.2.0",
      "_model_name": "LayoutModel",
      "_view_count": null,
      "_view_module": "@jupyter-widgets/base",
      "_view_module_version": "1.2.0",
      "_view_name": "LayoutView",
      "align_content": null,
      "align_items": null,
      "align_self": null,
      "border": null,
      "bottom": null,
      "display": null,
      "flex": null,
      "flex_flow": null,
      "grid_area": null,
      "grid_auto_columns": null,
      "grid_auto_flow": null,
      "grid_auto_rows": null,
      "grid_column": null,
      "grid_gap": null,
      "grid_row": null,
      "grid_template_areas": null,
      "grid_template_columns": null,
      "grid_template_rows": null,
      "height": null,
      "justify_content": null,
      "justify_items": null,
      "left": null,
      "margin": null,
      "max_height": null,
      "max_width": null,
      "min_height": null,
      "min_width": null,
      "object_fit": null,
      "object_position": null,
      "order": null,
      "overflow": null,
      "overflow_x": null,
      "overflow_y": null,
      "padding": null,
      "right": null,
      "top": null,
      "visibility": null,
      "width": null
     }
    },
    "cec23e5b61ff414e9de8ad15dbd4194d": {
     "model_module": "@jupyter-widgets/controls",
     "model_module_version": "1.5.0",
     "model_name": "ProgressStyleModel",
     "state": {
      "_model_module": "@jupyter-widgets/controls",
      "_model_module_version": "1.5.0",
      "_model_name": "ProgressStyleModel",
      "_view_count": null,
      "_view_module": "@jupyter-widgets/base",
      "_view_module_version": "1.2.0",
      "_view_name": "StyleView",
      "bar_color": null,
      "description_width": ""
     }
    },
    "ee82dcdd0613499d9ac0edddd36e47f2": {
     "model_module": "@jupyter-widgets/controls",
     "model_module_version": "1.5.0",
     "model_name": "HTMLModel",
     "state": {
      "_dom_classes": [],
      "_model_module": "@jupyter-widgets/controls",
      "_model_module_version": "1.5.0",
      "_model_name": "HTMLModel",
      "_view_count": null,
      "_view_module": "@jupyter-widgets/controls",
      "_view_module_version": "1.5.0",
      "_view_name": "HTMLView",
      "description": "",
      "description_tooltip": null,
      "layout": "IPY_MODEL_215cdf901d4541b29d7c69fc7b92894a",
      "placeholder": "​",
      "style": "IPY_MODEL_ad7f772313024c1b968962f64f67c7f5",
      "value": "100%"
     }
    }
   }
  }
 },
 "nbformat": 4,
 "nbformat_minor": 1
}
