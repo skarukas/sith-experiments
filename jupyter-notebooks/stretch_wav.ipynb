{
 "cells": [
  {
   "cell_type": "code",
   "execution_count": 1,
   "id": "3bce2fe7",
   "metadata": {},
   "outputs": [
    {
     "name": "stdout",
     "output_type": "stream",
     "text": [
      "Defaulting to user installation because normal site-packages is not writeable\n",
      "Requirement already satisfied: audiotsm in /geode2/home/u080/skarukas/Carbonate/.local/lib/python3.9/site-packages (0.1.2)\n",
      "Requirement already satisfied: numpy in /geode2/soft/hps/rhel7/deeplearning/Python-3.9.6/lib/python3.9/site-packages (from audiotsm) (1.19.3)\n",
      "\u001b[33mWARNING: You are using pip version 21.1.3; however, version 22.0.3 is available.\n",
      "You should consider upgrading via the '/N/soft/rhel7/deeplearning/Python-3.9.6/bin/python3.9 -m pip install --upgrade pip' command.\u001b[0m\n"
     ]
    }
   ],
   "source": [
    "!pip install audiotsm"
   ]
  },
  {
   "cell_type": "code",
   "execution_count": 12,
   "id": "158fb8e0",
   "metadata": {},
   "outputs": [],
   "source": [
    "from audiotsm import phasevocoder\n",
    "from audiotsm.io.wav import WavReader, WavWriter\n",
    "import os\n",
    "from os.path import join\n",
    "import shutil\n",
    "import tqdm"
   ]
  },
  {
   "cell_type": "code",
   "execution_count": 3,
   "id": "7ebb995b",
   "metadata": {},
   "outputs": [],
   "source": [
    "data_dir = \"../data/SpeechCommands/speech_commands_v0.02/\"\n",
    "out_dir = \"../data/SpeechCommands/speech_commands/\""
   ]
  },
  {
   "cell_type": "code",
   "execution_count": 4,
   "id": "7cb1568c",
   "metadata": {},
   "outputs": [],
   "source": [
    "scales = [\n",
    "  '10.00', \n",
    "  '05.00', \n",
    "  '02.50',\n",
    "  '01.25', \n",
    "  #'01.00', \n",
    "  '00.80', \n",
    "  '00.40', \n",
    "  '00.20', \n",
    "  '00.10'\n",
    "  ]"
   ]
  },
  {
   "cell_type": "code",
   "execution_count": 5,
   "id": "50c9c13d",
   "metadata": {},
   "outputs": [],
   "source": [
    "def stretch_wav(in_fname, out_fname, speed):\n",
    "    with WavReader(in_fname) as reader:\n",
    "        with WavWriter(out_fname, reader.channels, reader.samplerate) as writer:\n",
    "            tsm = phasevocoder(reader.channels, speed=speed)\n",
    "            tsm.run(reader, writer)"
   ]
  },
  {
   "cell_type": "code",
   "execution_count": null,
   "id": "59cb49ef",
   "metadata": {},
   "outputs": [
    {
     "name": "stderr",
     "output_type": "stream",
     "text": [
      "../data/SpeechCommands/speech_commands_v0.02/: 100%|█████████████████████████████████████████| 5/5 [00:00<00:00, 3224.90it/s]\n",
      "../data/SpeechCommands/speech_commands_v0.02/no:  46%|████████████████▏                  | 1818/3941 [18:41<24:43,  1.43it/s]"
     ]
    }
   ],
   "source": [
    "for root, dirs, files in os.walk(data_dir):\n",
    "    for name in dirs:\n",
    "        for scale in scales:\n",
    "            sub_dir = root.replace(data_dir, \"\")\n",
    "            root_out = join(out_dir, scale, sub_dir)\n",
    "            os.makedirs(join(root_out, name), exist_ok=True)\n",
    "    \n",
    "    for name in tqdm.tqdm(files, desc=root):\n",
    "        for scale in scales:\n",
    "            sub_dir = root.replace(data_dir, \"\")\n",
    "            root_out = join(out_dir, scale, sub_dir)\n",
    "            in_fname = join(root, name)\n",
    "            out_fname = join(root_out, name)\n",
    "            if os.path.exists(out_fname):\n",
    "                continue\n",
    "            if name.endswith(\".wav\"):\n",
    "                stretch_wav(in_fname, out_fname, float(scale))\n",
    "            else:\n",
    "                shutil.copy(in_fname, out_fname)"
   ]
  },
  {
   "cell_type": "code",
   "execution_count": null,
   "id": "0e1acdda",
   "metadata": {},
   "outputs": [],
   "source": []
  }
 ],
 "metadata": {
  "kernelspec": {
   "display_name": "Python 3 (ipykernel)",
   "language": "python",
   "name": "python3"
  },
  "language_info": {
   "codemirror_mode": {
    "name": "ipython",
    "version": 3
   },
   "file_extension": ".py",
   "mimetype": "text/x-python",
   "name": "python",
   "nbconvert_exporter": "python",
   "pygments_lexer": "ipython3",
   "version": "3.9.6"
  }
 },
 "nbformat": 4,
 "nbformat_minor": 5
}
