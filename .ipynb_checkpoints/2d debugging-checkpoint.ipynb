{
 "cells": [
  {
   "cell_type": "code",
   "execution_count": 139,
   "id": "d114a7fd",
   "metadata": {},
   "outputs": [],
   "source": [
    "import sys\n",
    "import yaml\n",
    "from os.path import join\n",
    "import torch\n",
    "from torch.utils.data import DataLoader\n",
    "from tqdm import tqdm\n",
    "\n",
    "from datasets import TransformedImageDataset, FastMNIST, get_dataset\n",
    "from evaluate import evaluate\n",
    "from util import collate_examples_pad, Logger\n",
    "from models.util import get_model\n",
    "import models.logpolar\n",
    "from importlib import reload\n",
    "\n",
    "import matplotlib.pyplot as plt"
   ]
  },
  {
   "cell_type": "code",
   "execution_count": 140,
   "id": "6ddf4523",
   "metadata": {},
   "outputs": [],
   "source": [
    "experiment_path = \"out/Deep_LP_train/mnist/bilinear_trim_new_442478/standard_trim_1\"\n",
    "data_dir = \"data\""
   ]
  },
  {
   "cell_type": "code",
   "execution_count": 142,
   "id": "79dff27e",
   "metadata": {},
   "outputs": [
    {
     "name": "stdout",
     "output_type": "stream",
     "text": [
      "Using cpu\n"
     ]
    },
    {
     "data": {
      "text/plain": [
       "<All keys matched successfully>"
      ]
     },
     "execution_count": 142,
     "metadata": {},
     "output_type": "execute_result"
    }
   ],
   "source": [
    "## import param file as dict\n",
    "f = open(join(experiment_path, \"train_config.yaml\"))\n",
    "config = yaml.safe_load(f)\n",
    "config['device'] = 'cuda' if torch.cuda.is_available() else 'cpu'\n",
    "print(\"Using\", config['device'])\n",
    "\n",
    "#for l in config['model']['layer_params']:\n",
    "#    l['ntau'] *= 2\n",
    "#    l['max_tau']\n",
    "## get model and load state dict\n",
    "model = get_model(config)\n",
    "# assume model state dict stored as something like MyClassifier.pt\n",
    "state_dict_path = join(experiment_path, config['model']['classname'] + \".pt\")\n",
    "state_dict = torch.load(open(state_dict_path, \"rb\"), map_location=config['device'])\n",
    "model.load_state_dict(state_dict)"
   ]
  },
  {
   "cell_type": "code",
   "execution_count": 143,
   "id": "cafe290e",
   "metadata": {},
   "outputs": [],
   "source": [
    "transform_dict = dict(scale=2)"
   ]
  },
  {
   "cell_type": "code",
   "execution_count": 144,
   "id": "a9bdf12a",
   "metadata": {},
   "outputs": [],
   "source": [
    "dataset = get_dataset(config['val_data_dir'], config['device'])\n",
    "\n",
    "transformed_dataset = TransformedImageDataset(dataset, **transform_dict)\n",
    "#dataset = FastMNIST(data_dir, device=config['device'], train=False)"
   ]
  },
  {
   "cell_type": "code",
   "execution_count": 145,
   "id": "b63f6e1d",
   "metadata": {},
   "outputs": [],
   "source": [
    "def show(x, *args, **kwargs):\n",
    "    im = x.detach().cpu().numpy()\n",
    "    if len(x.shape) == 3:\n",
    "        im = im[0]\n",
    "    plt.imshow(im, *args, **kwargs)\n",
    "    plt.show()"
   ]
  },
  {
   "cell_type": "code",
   "execution_count": 146,
   "id": "e4c31d82",
   "metadata": {},
   "outputs": [
    {
     "data": {
      "image/png": "[encoded data removed]",
      "text/plain": [
       "<Figure size 432x288 with 1 Axes>"
      ]
     },
     "metadata": {
      "needs_background": "light"
     },
     "output_type": "display_data"
    },
    {
     "data": {
      "image/png": "[encoded data removed]",
      "text/plain": [
       "<Figure size 432x288 with 1 Axes>"
      ]
     },
     "metadata": {
      "needs_background": "light"
     },
     "output_type": "display_data"
    }
   ],
   "source": [
    "im = dataset[0][0]\n",
    "im_t = transformed_dataset[0][0]\n",
    "show(im)\n",
    "show(im_t)"
   ]
  },
  {
   "cell_type": "code",
   "execution_count": 147,
   "id": "053a111b",
   "metadata": {},
   "outputs": [
    {
     "data": {
      "text/plain": [
       "DeepLogPolarClassifier(\n",
       "  (lpconv_layers): ModuleList(\n",
       "    (0): LogPolarConv(\n",
       "      (lpconv): _LogPolar_Core(\n",
       "        (logpolar): InterpolatedLogPolarTransform(\n",
       "          ntau=20, tau_range=1:30, ntheta=12, stride=1\n",
       "          (filterbank): ShiftedConv2d(\n",
       "            (pad): ConstantPad2d(padding=(0, 1, 0, 1), value=0)\n",
       "          )\n",
       "        )\n",
       "        (conv): Conv2d(1, 32, kernel_size=(7, 7), stride=(1, 1), bias=False)\n",
       "        (topk): TopKPool()\n",
       "        (depth_pool): MaxPool2d(kernel_size=(14, 1), stride=(14, 1), padding=0, dilation=1, ceil_mode=False)\n",
       "        (spatial_trim): Trim2d(trim_size=(2, 2))\n",
       "      )\n",
       "      (act_func): ReLU()\n",
       "      (dropout): Dropout(p=0.2, inplace=False)\n",
       "    )\n",
       "    (1): LogPolarConv(\n",
       "      (lpconv): _LogPolar_Core(\n",
       "        (logpolar): InterpolatedLogPolarTransform(\n",
       "          ntau=20, tau_range=1:30, ntheta=12, stride=1\n",
       "          (filterbank): ShiftedConv2d(\n",
       "            (pad): ConstantPad2d(padding=(0, 1, 0, 1), value=0)\n",
       "          )\n",
       "        )\n",
       "        (conv): Conv2d(32, 32, kernel_size=(5, 5), stride=(1, 1), bias=False)\n",
       "        (topk): TopKPool()\n",
       "        (depth_pool): MaxPool2d(kernel_size=(16, 1), stride=(16, 1), padding=0, dilation=1, ceil_mode=False)\n",
       "        (spatial_trim): Trim2d(trim_size=(2, 2))\n",
       "      )\n",
       "      (act_func): ReLU()\n",
       "      (dropout): Dropout(p=0.2, inplace=False)\n",
       "    )\n",
       "    (2): LogPolarConv(\n",
       "      (lpconv): _LogPolar_Core(\n",
       "        (logpolar): InterpolatedLogPolarTransform(\n",
       "          ntau=20, tau_range=1:30, ntheta=12, stride=1\n",
       "          (filterbank): ShiftedConv2d(\n",
       "            (pad): ConstantPad2d(padding=(0, 1, 0, 1), value=0)\n",
       "          )\n",
       "        )\n",
       "        (conv): Conv2d(32, 32, kernel_size=(5, 5), stride=(1, 1), bias=False)\n",
       "        (topk): TopKPool()\n",
       "        (depth_pool): MaxPool2d(kernel_size=(16, 1), stride=(16, 1), padding=0, dilation=1, ceil_mode=False)\n",
       "        (spatial_trim): Trim2d(trim_size=(2, 2))\n",
       "      )\n",
       "      (act_func): ReLU()\n",
       "      (dropout): Dropout(p=0.2, inplace=False)\n",
       "    )\n",
       "  )\n",
       "  (transform_linears): ModuleList(\n",
       "    (0): Linear(in_features=384, out_features=32, bias=True)\n",
       "    (1): Linear(in_features=384, out_features=32, bias=True)\n",
       "    (2): Linear(in_features=384, out_features=10, bias=True)\n",
       "  )\n",
       ")"
      ]
     },
     "execution_count": 147,
     "metadata": {},
     "output_type": "execute_result"
    }
   ],
   "source": [
    "model"
   ]
  },
  {
   "cell_type": "code",
   "execution_count": 148,
   "id": "f2e4f847",
   "metadata": {},
   "outputs": [],
   "source": [
    "def add_hook(d, name):\n",
    "    def hook(model, input, output):\n",
    "        d[name] = output.detach().cpu()\n",
    "    return hook\n",
    "\n",
    "def get_activation(model, layer, inp):\n",
    "    act = None\n",
    "    def hook(m, i, o):\n",
    "        nonlocal act\n",
    "        act = o\n",
    "    handle = layer.register_forward_hook(hook)\n",
    "    model(inp)\n",
    "    handle.remove()\n",
    "    return act"
   ]
  },
  {
   "cell_type": "markdown",
   "id": "d2ef0b8a",
   "metadata": {},
   "source": [
    "### Output of first LP-conv layer"
   ]
  },
  {
   "cell_type": "code",
   "execution_count": 149,
   "id": "55ac1703",
   "metadata": {},
   "outputs": [
    {
     "data": {
      "image/png": "[encoded data removed]",
      "text/plain": [
       "<Figure size 432x288 with 1 Axes>"
      ]
     },
     "metadata": {
      "needs_background": "light"
     },
     "output_type": "display_data"
    }
   ],
   "source": [
    "channel = 3\n",
    "layer = model.lpconv_layers[0].lpconv\n",
    "out = get_activation(model, layer, im[None])\n",
    "idx = (0, ..., channel, 0, 0)\n",
    "show(out[idx])"
   ]
  },
  {
   "cell_type": "code",
   "execution_count": 150,
   "id": "0828d64f",
   "metadata": {
    "scrolled": true
   },
   "outputs": [
    {
     "data": {
      "image/png": "[encoded data removed]",
      "text/plain": [
       "<Figure size 432x288 with 1 Axes>"
      ]
     },
     "metadata": {
      "needs_background": "light"
     },
     "output_type": "display_data"
    }
   ],
   "source": [
    "out = get_activation(model, layer, im_t[None])\n",
    "show(out[idx])"
   ]
  },
  {
   "cell_type": "markdown",
   "id": "ff35e264",
   "metadata": {},
   "source": [
    "### Output of second LP"
   ]
  },
  {
   "cell_type": "code",
   "execution_count": 151,
   "id": "8a5b36d7",
   "metadata": {},
   "outputs": [
    {
     "name": "stdout",
     "output_type": "stream",
     "text": [
      "torch.Size([1, 32, 20, 12, 24, 24])\n"
     ]
    },
    {
     "data": {
      "image/png": "[encoded data removed]",
      "text/plain": [
       "<Figure size 432x288 with 1 Axes>"
      ]
     },
     "metadata": {
      "needs_background": "light"
     },
     "output_type": "display_data"
    }
   ],
   "source": [
    "layer = model.lpconv_layers[1].lpconv.logpolar\n",
    "out = get_activation(model, layer, im[None])\n",
    "print(out.shape)\n",
    "idx = (0, channel, 0, 0)\n",
    "show(out[idx])"
   ]
  },
  {
   "cell_type": "code",
   "execution_count": 152,
   "id": "7b97b787",
   "metadata": {},
   "outputs": [
    {
     "data": {
      "image/png": "[encoded data removed]",
      "text/plain": [
       "<Figure size 432x288 with 1 Axes>"
      ]
     },
     "metadata": {
      "needs_background": "light"
     },
     "output_type": "display_data"
    }
   ],
   "source": [
    "out = get_activation(model, layer, im_t[None])\n",
    "show(out[idx])"
   ]
  },
  {
   "cell_type": "markdown",
   "id": "aae4b201",
   "metadata": {},
   "source": [
    "### Output of second LPConv `(NOT MATCHING!!)`"
   ]
  },
  {
   "cell_type": "code",
   "execution_count": 153,
   "id": "97c5f883",
   "metadata": {},
   "outputs": [
    {
     "name": "stdout",
     "output_type": "stream",
     "text": [
      "torch.Size([1, 20, 20, 32, 1, 12])\n"
     ]
    },
    {
     "data": {
      "image/png": "[encoded data removed]",
      "text/plain": [
       "<Figure size 432x288 with 1 Axes>"
      ]
     },
     "metadata": {
      "needs_background": "light"
     },
     "output_type": "display_data"
    }
   ],
   "source": [
    "layer = model.lpconv_layers[1].lpconv\n",
    "out = get_activation(model, layer, im[None])\n",
    "print(out.shape)\n",
    "idx = (0, ..., channel, 0, 0)\n",
    "mx = out[idx].max()\n",
    "mn = out[idx].min()\n",
    "show(out[idx], vmax=mx, vmin=mn)"
   ]
  },
  {
   "cell_type": "code",
   "execution_count": 154,
   "id": "2ed1df60",
   "metadata": {},
   "outputs": [
    {
     "data": {
      "image/png": "[encoded data removed]",
      "text/plain": [
       "<Figure size 432x288 with 1 Axes>"
      ]
     },
     "metadata": {
      "needs_background": "light"
     },
     "output_type": "display_data"
    }
   ],
   "source": [
    "out = get_activation(model, layer, im_t[None])\n",
    "show(out[idx], vmax=mx, vmin=mn)"
   ]
  },
  {
   "cell_type": "code",
   "execution_count": null,
   "id": "3d3be64b",
   "metadata": {},
   "outputs": [],
   "source": []
  }
 ],
 "metadata": {
  "kernelspec": {
   "display_name": "Python 3 (ipykernel)",
   "language": "python",
   "name": "python3"
  },
  "language_info": {
   "codemirror_mode": {
    "name": "ipython",
    "version": 3
   },
   "file_extension": ".py",
   "mimetype": "text/x-python",
   "name": "python",
   "nbconvert_exporter": "python",
   "pygments_lexer": "ipython3",
   "version": "3.9.7"
  }
 },
 "nbformat": 4,
 "nbformat_minor": 5
}
