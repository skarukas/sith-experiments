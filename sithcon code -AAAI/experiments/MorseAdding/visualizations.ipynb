{
 "cells": [
  {
   "cell_type": "code",
   "execution_count": null,
   "metadata": {
    "ExecuteTime": {
     "end_time": "2021-05-25T16:52:08.280257Z",
     "start_time": "2021-05-25T16:52:08.106224Z"
    }
   },
   "outputs": [],
   "source": [
    "%matplotlib inline"
   ]
  },
  {
   "cell_type": "code",
   "execution_count": null,
   "metadata": {
    "ExecuteTime": {
     "end_time": "2021-05-25T16:52:09.041194Z",
     "start_time": "2021-05-25T16:52:08.474265Z"
    }
   },
   "outputs": [],
   "source": [
    "import matplotlib.pyplot as plt\n",
    "import seaborn as sn\n",
    "sn.set_context(\"poster\")\n",
    "\n",
    "import torch\n",
    "from torch import nn as nn\n",
    "ttype = torch.cuda.FloatTensor if torch.cuda.is_available() else torch.FloatTensor\n",
    "ctype = torch.cuda.LongTensor if torch.cuda.is_available() else torch.LongTensor\n",
    "print(ttype)\n",
    "import torch.nn.functional as F\n",
    "from matplotlib import gridspec, patches\n",
    "from sithcon import SITHCon_Layer, _SITHCon_Core, iSITH\n",
    "\n",
    "from tqdm.notebook import tqdm\n",
    "\n",
    "import itertools\n",
    "from csv import DictWriter\n",
    "import os \n",
    "from os.path import join\n",
    "import glob\n",
    "\n",
    "import numpy as np\n",
    "import pandas as pd\n",
    "import pickle\n",
    "from math import factorial\n",
    "import random"
   ]
  },
  {
   "cell_type": "code",
   "execution_count": null,
   "metadata": {
    "ExecuteTime": {
     "end_time": "2021-05-25T16:52:09.046937Z",
     "start_time": "2021-05-25T16:52:09.043521Z"
    }
   },
   "outputs": [],
   "source": [
    "# SHORTER\n",
    "MORSE_CODE_DICT = {'1':'.-', '2':'-...', \n",
    "                    '3':'-.-.', '4':'-..', '5':'.', \n",
    "                    '6':'..-.', '7':'--.', '8':'....', \n",
    "                    '9':'..', '0':'.---',}"
   ]
  },
  {
   "cell_type": "code",
   "execution_count": null,
   "metadata": {
    "ExecuteTime": {
     "end_time": "2021-05-25T16:52:10.137112Z",
     "start_time": "2021-05-25T16:52:10.128795Z"
    }
   },
   "outputs": [],
   "source": [
    "\n",
    "print()\n",
    "morse_code_numpy = {key:np.array([int(x) for x in MORSE_CODE_DICT[key].replace('.', '10').replace('-', '1110')] + [0, 0])\n",
    "                    for key in MORSE_CODE_DICT.keys()}\n",
    "for k in morse_code_numpy.keys():\n",
    "    print(morse_code_numpy[k], k)\n",
    "subset = list(morse_code_numpy.keys())"
   ]
  },
  {
   "cell_type": "code",
   "execution_count": null,
   "metadata": {
    "ExecuteTime": {
     "end_time": "2021-05-25T16:52:11.759354Z",
     "start_time": "2021-05-25T16:52:11.621606Z"
    }
   },
   "outputs": [],
   "source": [
    "def gen_item(samples=10, scale=5, target_scale=.1, display=False):\n",
    "    # We can tests 1s the same length as the items added together or 1 at the end only.\n",
    "    keys = morse_code_numpy.keys()\n",
    "    dim1 = []\n",
    "    dim2 = []\n",
    "    half = int(samples / 2)\n",
    "    added_indexes = [np.random.randint(half),  \n",
    "                     np.random.randint(half, samples)]\n",
    "    \n",
    "    answer = 0\n",
    "    for s in range(samples):\n",
    "        # Grab Random Morse Code Letter\n",
    "        k = random.sample(keys, 1)[0]\n",
    "        mcl = morse_code_numpy[k]\n",
    "        Mmcl = mcl.repeat(scale)\n",
    "        dim1.append(Mmcl[:, np.newaxis])\n",
    "        if s in added_indexes:\n",
    "            \n",
    "            # dim2.append(np.ones(Mmcl.shape[0])[:, np.newaxis])\n",
    "            temp = np.zeros(Mmcl.shape[0])[:, np.newaxis]\n",
    "            temp[-scale:] = 1.0\n",
    "            if display:\n",
    "                    temp = temp * 2.0\n",
    "            #temp[-1] = 1.0 # TRY THIS AT SOME POINT\n",
    "            dim2.append(temp)\n",
    "            answer += int(k)\n",
    "            if display:\n",
    "                dim1[-1] = dim1[-1]*2.0\n",
    "        else:\n",
    "            dim2.append(np.zeros(Mmcl.shape[0])[:, np.newaxis])\n",
    "    inp = np.concatenate([np.concatenate(dim1, axis=0),\n",
    "                          np.concatenate(dim2, axis=0)], axis=1)\n",
    "    \n",
    "    target = np.array([answer])\n",
    "    return inp, target*target_scale\n",
    "inp, tar = gen_item(10, 5, .1, display=True)\n",
    "print(inp.shape)\n",
    "plt.figure(figsize=(10,5))\n",
    "plt.imshow(inp.T,aspect='auto', interpolation='none')\n",
    "plt.title(\"Answer: {:.2f}\".format(tar[0]))\n",
    "plt.yticks([])\n",
    "plt.savefig(join('figs', 'adding_morse_example'), dpi=100)"
   ]
  },
  {
   "cell_type": "code",
   "execution_count": null,
   "metadata": {
    "ExecuteTime": {
     "end_time": "2021-05-12T14:23:49.527309Z",
     "start_time": "2021-05-12T14:23:49.518085Z"
    }
   },
   "outputs": [],
   "source": [
    "items = np.load('generated_adding_morse.npy', allow_pickle=True)"
   ]
  },
  {
   "cell_type": "code",
   "execution_count": null,
   "metadata": {
    "ExecuteTime": {
     "end_time": "2021-05-12T14:23:50.811113Z",
     "start_time": "2021-05-12T14:23:50.800899Z"
    }
   },
   "outputs": [],
   "source": [
    "TCN_perfs = pd.read_pickle(join(\"perf\", \"tcn_morseadding_test.dill\"))\n",
    "SITH_perfs = pd.read_pickle(join(\"perf\", \"sithcon_morseadding_test.dill\"))\n",
    "print(SITH_perfs.head())"
   ]
  },
  {
   "cell_type": "code",
   "execution_count": null,
   "metadata": {
    "ExecuteTime": {
     "end_time": "2021-05-25T16:53:39.210953Z",
     "start_time": "2021-05-25T16:53:39.182577Z"
    }
   },
   "outputs": [],
   "source": [
    "SITH_perfs = None\n",
    "for r in range(5):\n",
    "    if SITH_perfs is None:\n",
    "        SITH_perfs = pd.read_pickle(join(\"perf\", \"sithcon_morseadding_test_{}.dill\".format(r)))\n",
    "        SITH_perfs['run'] = [r]*SITH_perfs.shape[0]\n",
    "    else:\n",
    "        temp =  pd.read_pickle(join(\"perf\", \"sithcon_morseadding_test_{}.dill\".format(r)))\n",
    "        temp['run'] = [r]*temp.shape[0]\n",
    "        SITH_perfs = SITH_perfs.append(temp)\n",
    "\n",
    "print(SITH_perfs)\n",
    "TCN_perfs = None\n",
    "for r in range(5):\n",
    "    if TCN_perfs is None:\n",
    "        TCN_perfs = pd.read_pickle(join(\"perf\", \"TCN_morseadding_test_{}.dill\".format(r)))\n",
    "        TCN_perfs['run'] = [r]*TCN_perfs.shape[0]\n",
    "    else:\n",
    "        temp =  pd.read_pickle(join(\"perf\", \"TCN_morseadding_test_{}.dill\".format(r)))\n",
    "        temp['run'] = [r]*temp.shape[0]\n",
    "        TCN_perfs = TCN_perfs.append(temp)\n",
    "\n",
    "print(TCN_perfs)"
   ]
  },
  {
   "cell_type": "code",
   "execution_count": null,
   "metadata": {
    "ExecuteTime": {
     "end_time": "2021-05-25T16:55:35.835794Z",
     "start_time": "2021-05-25T16:55:35.038163Z"
    }
   },
   "outputs": [],
   "source": [
    "window_size = 20\n",
    "lw=5\n",
    "ms = 15\n",
    "Trainscale = 5\n",
    "with sn.plotting_context(\"notebook\", font_scale=3):\n",
    "    fig = plt.figure(figsize=(11,8), )\n",
    "    spec = gridspec.GridSpec(nrows=1, ncols=1, hspace=.5, wspace=.55,\n",
    "                             figure=fig)\n",
    "    ax = fig.add_subplot(spec[0])\n",
    "    sn.lineplot(data=SITH_perfs, x='rate', y='test_perf', marker='o',\n",
    "            linewidth=lw, ms=ms)\n",
    "    sn.lineplot(data=TCN_perfs, x='rate', y='test_perf', marker='o',\n",
    "            linewidth=lw, ms=ms)\n",
    "    plt.axvline(Trainscale/Trainscale, color='red', linestyle='--',\n",
    "            linewidth=lw, ms=ms)\n",
    "    plt.axhline(.175, color='blue', linestyle='--', linewidth=lw, ms=ms)\n",
    "    plt.axhline(0, color='black',\n",
    "            linewidth=lw, ms=ms)\n",
    "    plt.ylim(-.05, 1.05)\n",
    "    #plt.xlim(.1, 10)\n",
    "    #plt.xscale('log')\n",
    "    plt.grid()\n",
    "    plt.ylabel('Mean Squared Error')\n",
    "    plt.xlabel('Scale')\n",
    "    plt.legend(['SITHCon', 'TCN'])\n",
    "plt.savefig(join('figs', 'morse_addition_test.pdf'), dpi=100)\n",
    "plt.savefig(join('figs', 'morse_addition_test.png'), dpi=100)"
   ]
  },
  {
   "cell_type": "code",
   "execution_count": null,
   "metadata": {
    "ExecuteTime": {
     "end_time": "2021-05-12T14:23:51.455733Z",
     "start_time": "2021-05-12T14:23:51.448393Z"
    }
   },
   "outputs": [],
   "source": [
    "with open(join('perf','display_examples.dill'), 'rb') as handle:\n",
    "    display_examples = pickle.load(handle)"
   ]
  },
  {
   "cell_type": "code",
   "execution_count": null,
   "metadata": {
    "ExecuteTime": {
     "end_time": "2021-05-12T14:23:53.501800Z",
     "start_time": "2021-05-12T14:23:53.495300Z"
    }
   },
   "outputs": [],
   "source": [
    "ystart = -.6\n",
    "height = 2.2\n",
    "boxes = [[[36.7, ystart, 11, height,], [83, ystart, 7, height]],\n",
    "         [[12.5, ystart, 9.5, height,],[76.5, ystart, 17.6, height,]],\n",
    "         [[21, ystart, 11.0, height,],[91, ystart, 17.3, height]],\n",
    "         [[19, ystart, 11.0, height,],[60.8, ystart, 17.1, height,]],\n",
    "         [[-1.4, ystart, 11.4, height,],[85, ystart, 11.2, height]]\n",
    "]"
   ]
  },
  {
   "cell_type": "code",
   "execution_count": null,
   "metadata": {
    "ExecuteTime": {
     "end_time": "2021-05-12T14:24:15.228316Z",
     "start_time": "2021-05-12T14:24:14.846196Z"
    }
   },
   "outputs": [],
   "source": [
    "window_size = 20\n",
    "lw=5\n",
    "ms = 15\n",
    "with sn.plotting_context(\"notebook\", font_scale=3):\n",
    "    fig = plt.figure(figsize=(22,8), )\n",
    "    spec = gridspec.GridSpec(nrows=3, ncols=4, hspace=.5, wspace=.55,\n",
    "                             figure=fig)\n",
    "    for i, de in enumerate(display_examples[1:-1]):\n",
    "        ax = fig.add_subplot(spec[i, :2])\n",
    "        Trainscale = 5\n",
    "\n",
    "        ax.imshow(de[0].T,aspect='auto', interpolation='none')\n",
    "        ax.set_title(\"Answer: {:.2f}\".format(de[1][0]))\n",
    "        ax.set_yticks([])\n",
    "        ax.set_xticks([])\n",
    "        bb = boxes[i+1][0]\n",
    "        ax.set_axis_off()\n",
    "        rect = patches.Rectangle((bb[0], bb[1]),bb[2],bb[3], linewidth=5, \n",
    "                                 edgecolor='r', facecolor='none', clip_on=False)\n",
    "        ax.add_patch(rect)\n",
    "        bb = boxes[i+1][1]\n",
    "        rect = patches.Rectangle((bb[0], bb[1]),bb[2],bb[3], linewidth=5, \n",
    "                                 edgecolor='r', facecolor='none', clip_on=False)\n",
    "        ax.add_patch(rect)\n",
    "    \"\"\"ax = fig.add_subplot(spec[1])\n",
    "    inp, tar = gen_item(10, 5, .1)\n",
    "    print(inp.shape)\n",
    "    ax.imshow(inp.T,aspect='auto', interpolation='none')\n",
    "    ax.set_title(\"Answer: {:.2f}\".format(tar[0]))\n",
    "    ax.set_yticks([])\n",
    "    ax.set_xticks([])\"\"\"\n",
    "    \n",
    "    ax = fig.add_subplot(spec[:, 2:,])\n",
    "    plt.plot(SITH_perfs.rate/Trainscale, SITH_perfs.test_perf, marker='o',\n",
    "            linewidth=lw, ms=ms)\n",
    "    plt.plot(TCN_perfs.rate/Trainscale, TCN_perfs.test_perf, marker='o',\n",
    "            linewidth=lw, ms=ms)\n",
    "    plt.axvline(Trainscale/Trainscale, color='red', linestyle='--',\n",
    "            linewidth=lw, ms=ms)\n",
    "    plt.axhline(.175, color='blue', linestyle='--', linewidth=lw, ms=ms)\n",
    "    plt.axhline(0, color='black',\n",
    "            linewidth=lw, ms=ms)\n",
    "    plt.ylim(-.05, 1.05)\n",
    "    #plt.xlim(.1, 10)\n",
    "    #plt.xscale('log')\n",
    "    plt.grid()\n",
    "    plt.ylabel('Mean Squared Error')\n",
    "    plt.xlabel('Scale')\n",
    "    plt.legend(['SITHCon', 'TCN'])\n",
    "plt.savefig(join('figs', 'morse_addition_test.pdf'), dpi=100)\n",
    "plt.savefig(join('figs', 'morse_addition_test.png'), dpi=100)"
   ]
  },
  {
   "cell_type": "code",
   "execution_count": null,
   "metadata": {},
   "outputs": [],
   "source": []
  }
 ],
 "metadata": {
  "kernelspec": {
   "display_name": "Python 3",
   "language": "python",
   "name": "python3"
  },
  "language_info": {
   "codemirror_mode": {
    "name": "ipython",
    "version": 3
   },
   "file_extension": ".py",
   "mimetype": "text/x-python",
   "name": "python",
   "nbconvert_exporter": "python",
   "pygments_lexer": "ipython3",
   "version": "3.6.10"
  },
  "toc": {
   "nav_menu": {},
   "number_sections": true,
   "sideBar": true,
   "skip_h1_title": false,
   "title_cell": "Table of Contents",
   "title_sidebar": "Contents",
   "toc_cell": false,
   "toc_position": {},
   "toc_section_display": true,
   "toc_window_display": false
  }
 },
 "nbformat": 4,
 "nbformat_minor": 4
}
