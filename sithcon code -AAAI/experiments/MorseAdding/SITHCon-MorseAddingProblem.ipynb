{
 "cells": [
  {
   "cell_type": "code",
   "execution_count": null,
   "metadata": {
    "ExecuteTime": {
     "end_time": "2021-06-01T16:18:08.642510Z",
     "start_time": "2021-06-01T16:18:08.467138Z"
    }
   },
   "outputs": [],
   "source": [
    "%matplotlib inline"
   ]
  },
  {
   "cell_type": "code",
   "execution_count": null,
   "metadata": {
    "ExecuteTime": {
     "end_time": "2021-06-01T16:18:09.212451Z",
     "start_time": "2021-06-01T16:18:08.655769Z"
    }
   },
   "outputs": [],
   "source": [
    "import matplotlib.pyplot as plt\n",
    "import seaborn as sn\n",
    "sn.set_context(\"poster\")\n",
    "\n",
    "import torch\n",
    "from torch import nn as nn\n",
    "ttype = torch.cuda.FloatTensor if torch.cuda.is_available() else torch.FloatTensor\n",
    "ctype = torch.cuda.LongTensor if torch.cuda.is_available() else torch.LongTensor\n",
    "print(ttype)\n",
    "import torch.nn.functional as F\n",
    "from matplotlib import gridspec\n",
    "from sithcon import SITHCon_Layer, _SITHCon_Core, iSITH\n",
    "\n",
    "from tqdm.notebook import tqdm\n",
    "\n",
    "import itertools\n",
    "from csv import DictWriter\n",
    "import os \n",
    "from os.path import join\n",
    "import glob\n",
    "ttype=torch.cuda.FloatTensor\n",
    "import numpy as np\n",
    "import pandas as pd\n",
    "import pickle\n",
    "from math import factorial\n",
    "import random\n",
    "import matplotlib.patches as patches\n",
    "from itertools import combinations_with_replacement as comb\n"
   ]
  },
  {
   "cell_type": "code",
   "execution_count": null,
   "metadata": {
    "ExecuteTime": {
     "end_time": "2021-06-01T16:18:09.215420Z",
     "start_time": "2021-06-01T16:18:09.213381Z"
    }
   },
   "outputs": [],
   "source": [
    "# SHORTER\n",
    "MORSE_CODE_DICT = {'1':'.-', '2':'-...', \n",
    "                    '3':'-.-.', '4':'-..', '5':'.', \n",
    "                    '6':'..-.', '7':'--.', '8':'....', \n",
    "                    '9':'..', '0':'.---',}"
   ]
  },
  {
   "cell_type": "code",
   "execution_count": null,
   "metadata": {
    "ExecuteTime": {
     "end_time": "2021-06-01T16:18:09.224565Z",
     "start_time": "2021-06-01T16:18:09.216411Z"
    }
   },
   "outputs": [],
   "source": [
    "morse_code_numpy = {key:np.array([int(x) for x in MORSE_CODE_DICT[key].replace('.', '10').replace('-', '1110')] + [0, 0])\n",
    "                    for key in MORSE_CODE_DICT.keys()}\n",
    "for k in morse_code_numpy.keys():\n",
    "    print(morse_code_numpy[k], k)\n",
    "subset = list(morse_code_numpy.keys())"
   ]
  },
  {
   "cell_type": "code",
   "execution_count": null,
   "metadata": {
    "ExecuteTime": {
     "end_time": "2021-06-01T16:18:09.415005Z",
     "start_time": "2021-06-01T16:18:09.288918Z"
    }
   },
   "outputs": [],
   "source": [
    "def gen_item(samples=10, scale=5, target_scale=.1, display=False):\n",
    "    # We can tests 1s the same length as the items added together or 1 at the end only.\n",
    "    keys = morse_code_numpy.keys()\n",
    "    dim1 = []\n",
    "    dim2 = []\n",
    "    half = int(samples / 2)\n",
    "    added_indexes = [np.random.randint(half),  \n",
    "                     np.random.randint(half, samples)]\n",
    "    \n",
    "    answer = 0\n",
    "    for s in range(samples):\n",
    "        # Grab Random Morse Code Letter\n",
    "        k = random.sample(keys, 1)[0]\n",
    "        mcl = morse_code_numpy[k]\n",
    "        Mmcl = mcl.repeat(scale)\n",
    "        dim1.append(Mmcl[:, np.newaxis])\n",
    "        if s in added_indexes:\n",
    "            \n",
    "            # dim2.append(np.ones(Mmcl.shape[0])[:, np.newaxis])\n",
    "            temp = np.zeros(Mmcl.shape[0])[:, np.newaxis]\n",
    "            temp[-scale:] = 1.0\n",
    "            if display:\n",
    "                    temp = temp * 2.0\n",
    "            #temp[-1] = 1.0 # TRY THIS AT SOME POINT\n",
    "            dim2.append(temp)\n",
    "            answer += int(k)\n",
    "            if display:\n",
    "                dim1[-1] = dim1[-1]*2.0\n",
    "        else:\n",
    "            dim2.append(np.zeros(Mmcl.shape[0])[:, np.newaxis])\n",
    "    inp = np.concatenate([np.concatenate(dim1, axis=0),\n",
    "                          np.concatenate(dim2, axis=0)], axis=1)\n",
    "    \n",
    "    target = np.array([answer])\n",
    "    return inp, target*target_scale\n",
    "inp, tar = gen_item(10, 5, .1, display=True)\n",
    "print(inp.shape)\n",
    "plt.figure(figsize=(10,5))\n",
    "plt.imshow(inp.T,aspect='auto', interpolation='none')\n",
    "plt.title(\"Answer: {:.2f}\".format(tar[0]))\n",
    "plt.yticks([])\n",
    "plt.savefig(join('figs', 'adding_morse_example'), dpi=100)"
   ]
  },
  {
   "cell_type": "code",
   "execution_count": null,
   "metadata": {
    "ExecuteTime": {
     "end_time": "2021-06-01T16:18:09.618306Z",
     "start_time": "2021-06-01T16:18:09.596730Z"
    }
   },
   "outputs": [],
   "source": [
    "class SITHCon_Classifier(nn.Module):\n",
    "    def __init__(self, out_classes, layer_params, \n",
    "                 act_func=nn.ReLU, batch_norm=False,\n",
    "                 dropout=.2):\n",
    "        super(SITHCon_Classifier, self).__init__()\n",
    "        last_channels = layer_params[-1]['channels']\n",
    "        self.transform_linears = nn.ModuleList([nn.Linear(l['channels'], l['channels'])\n",
    "                                                for l in layer_params])\n",
    "        self.sithcon_layers = nn.ModuleList([SITHCon_Layer(l, act_func) for l in layer_params])\n",
    "        self.to_out = nn.Linear(last_channels, out_classes)\n",
    "        \n",
    "        \n",
    "    def forward(self, inp):\n",
    "        \n",
    "        x = inp\n",
    "        #out = []\n",
    "        for i in range(len(self.sithcon_layers)):\n",
    "            x = self.sithcon_layers[i](x)\n",
    "            \n",
    "            x = F.relu(self.transform_linears[i](x[:,0,:,:].transpose(1,2)))\n",
    "            x = x.unsqueeze(1).transpose(2,3)\n",
    "\n",
    "            #out.append(x.clone())\n",
    "        x = x.transpose(2,3)[:, 0, :, :]\n",
    "        #x = x.transpose(2,3)[:, 0, :, :]\n",
    "        x = self.to_out(x)\n",
    "        return x"
   ]
  },
  {
   "cell_type": "code",
   "execution_count": null,
   "metadata": {},
   "outputs": [],
   "source": []
  },
  {
   "cell_type": "markdown",
   "metadata": {},
   "source": [
    "# Three Layers"
   ]
  },
  {
   "cell_type": "code",
   "execution_count": null,
   "metadata": {
    "ExecuteTime": {
     "end_time": "2021-06-01T16:18:12.167965Z",
     "start_time": "2021-06-01T16:18:12.162196Z"
    }
   },
   "outputs": [],
   "source": [
    "params = [[3000, 400, 35, 23, 2, 6000],]"
   ]
  },
  {
   "cell_type": "code",
   "execution_count": null,
   "metadata": {
    "ExecuteTime": {
     "end_time": "2021-06-01T16:28:03.121415Z",
     "start_time": "2021-06-01T16:28:03.109824Z"
    }
   },
   "outputs": [],
   "source": [
    "def gen_model(p):\n",
    "    sp1 = dict(in_features=2, \n",
    "               tau_min=.1, tau_max=p[0], buff_max=p[5],\n",
    "               dt=1, ntau=p[1], k=p[2], g=0.0, ttype=ttype, \n",
    "               channels=25, kernel_width=p[3], dilation=p[4],\n",
    "               dropout=None, batch_norm=None)\n",
    "    sp2 = dict(in_features=sp1['channels'], \n",
    "               tau_min=.1, tau_max=p[0], buff_max=p[5],\n",
    "               dt=1, ntau=p[1], k=p[2], g=0.0, ttype=ttype, \n",
    "               channels=25, kernel_width=p[3], dilation=p[4], \n",
    "               dropout=None, batch_norm=None)\n",
    "    sp3 = dict(in_features=sp2['channels'], \n",
    "               tau_min=.1, tau_max=p[0], buff_max=p[5],\n",
    "               dt=1, ntau=p[1], k=p[2], g=0.0, ttype=ttype, \n",
    "               channels=25, kernel_width=p[3], dilation=p[4], \n",
    "               dropout=None, batch_norm=None)\n",
    "    layer_params = [sp1, sp2, sp3]\n",
    "    model = SITHCon_Classifier(1, layer_params, act_func=None\n",
    "                              ).cuda()\n",
    "    return model\n",
    "\n",
    "def test_model(model, X, Y):\n",
    "    model.eval()\n",
    "    evald = []\n",
    "    evaldDict = {'test_perf':[],\n",
    "                 'rate':[],\n",
    "                 'tau_max':[],\n",
    "                 'ntau':[],\n",
    "                 'k':[]}\n",
    "    \n",
    "    # BIG NOTE\n",
    "    # BIG NOTE\n",
    "    # BIG NOTE\n",
    "    # Generate the test items once, use in all models at all scales. \n",
    "    model.eval()\n",
    "    evald = []\n",
    "    evaldDict = {'test_perf':[],\n",
    "                 'rate':[]}\n",
    "    for nr in range(1,20):\n",
    "        losses = []\n",
    "        for iv, tar in items:\n",
    "\n",
    "            iv = ttype(iv).unsqueeze(0).unsqueeze(0).transpose(-1,-2).unsqueeze(-1)\n",
    "            iv = iv.repeat(1,1,1,1,nr)\n",
    "            iv = iv.reshape(1,1,2,-1)\n",
    "            tv = torch.FloatTensor(tar).to(device)\n",
    "            out = model(iv)\n",
    "\n",
    "            loss = loss_func(out[:, -1, :],\n",
    "                                 tv)\n",
    "            losses.append(loss.detach().cpu().numpy())\n",
    "        print(nr, np.mean(losses))\n",
    "        evaldDict['test_perf'].append(np.mean(losses))\n",
    "        evaldDict['rate'].append(nr)\n",
    "        evaldDict['tau_max'].append(model.sithcon_layers[0].sithcon.sith.tau_max)\n",
    "        evaldDict['ntau'].append(model.sithcon_layers[0].sithcon.sith.ntau)\n",
    "        evaldDict['k'].append(model.sithcon_layers[0].sithcon.sith.k)\n",
    "    return evaldDict\n",
    "\n",
    "def save_outcome(outcome, filename):\n",
    "    dat = pd.DataFrame(outcome)\n",
    "    dat.to_csv(join('perf',filename))"
   ]
  },
  {
   "cell_type": "code",
   "execution_count": null,
   "metadata": {
    "ExecuteTime": {
     "end_time": "2021-06-01T16:28:08.837847Z",
     "start_time": "2021-06-01T16:28:08.831321Z"
    }
   },
   "outputs": [],
   "source": [
    "params = [[3000, 400, 35, 23, 2, 6000],]"
   ]
  },
  {
   "cell_type": "code",
   "execution_count": null,
   "metadata": {},
   "outputs": [],
   "source": []
  },
  {
   "cell_type": "code",
   "execution_count": null,
   "metadata": {
    "ExecuteTime": {
     "end_time": "2021-06-01T16:28:10.884884Z",
     "start_time": "2021-06-01T16:28:10.771829Z"
    },
    "scrolled": true
   },
   "outputs": [],
   "source": [
    "params = [[3000, 400, 35, 23, 2, 6000],]\n",
    "model = gen_model(params[0])\n",
    "tot_weights = 0\n",
    "for p in model.parameters():\n",
    "    tot_weights += p.numel()\n",
    "print(\"Total Weights:\", tot_weights)\n",
    "print(model)"
   ]
  },
  {
   "cell_type": "code",
   "execution_count": null,
   "metadata": {
    "ExecuteTime": {
     "end_time": "2021-06-01T16:25:12.516635Z",
     "start_time": "2021-06-01T16:25:12.511012Z"
    }
   },
   "outputs": [],
   "source": []
  },
  {
   "cell_type": "code",
   "execution_count": null,
   "metadata": {
    "ExecuteTime": {
     "end_time": "2021-06-01T16:20:44.537463Z",
     "start_time": "2021-06-01T16:20:44.528305Z"
    }
   },
   "outputs": [],
   "source": [
    "        self.c = (tau_max/tau_min)**(1./(ntau-1))-1\n"
   ]
  },
  {
   "cell_type": "code",
   "execution_count": null,
   "metadata": {
    "ExecuteTime": {
     "end_time": "2021-06-01T16:20:45.048552Z",
     "start_time": "2021-06-01T16:20:45.042497Z"
    }
   },
   "outputs": [],
   "source": [
    "    loss_func = nn.MSELoss()\n"
   ]
  },
  {
   "cell_type": "code",
   "execution_count": null,
   "metadata": {
    "ExecuteTime": {
     "end_time": "2021-06-01T16:20:57.439666Z",
     "start_time": "2021-06-01T16:20:45.084001Z"
    }
   },
   "outputs": [],
   "source": [
    "Trainscale = 5\n",
    "epochs = 40\n",
    "trials_per_epoch = 1000\n",
    "batch_size = 32\n",
    "device='cuda'\n",
    "runs = 5\n",
    "for r in range(runs):\n",
    "    model = gen_model(params[0])\n",
    "    model.load_state_dict(torch.load(join('perf','SITHCon_morseadding_run_{}.pt'.format(r))))\n",
    "    loss_func = nn.MSELoss()\n",
    "    optimizer = torch.optim.Adam(model.parameters())\n",
    "\n",
    "\n",
    "    progress_bar = tqdm(range(int(epochs)), bar_format='{l_bar}{bar:5}{r_bar}{bar:-5b}')\n",
    "\n",
    "    for epoch_idx in progress_bar:\n",
    "        perfs = []\n",
    "        losses = []\n",
    "        model.train()\n",
    "        for batch_idx in range(trials_per_epoch):\n",
    "            optimizer.zero_grad()\n",
    "            loss = 0\n",
    "            for i in range(batch_size):\n",
    "                iv, tar = gen_item(10,Trainscale, .1)\n",
    "                iv = ttype(iv).unsqueeze(0).unsqueeze(0).transpose(-1,-2)\n",
    "                tv = ttype(tar)\n",
    "                out = model(iv)\n",
    "                loss += loss_func(out[:, -1, :],\n",
    "                                 tv)\n",
    "            loss = loss / batch_size\n",
    "            loss.backward()\n",
    "            optimizer.step()\n",
    "\n",
    "            perfs.append(0)\n",
    "            #perfs = perfs[int(-loss_buffer_size/batch_size):]\n",
    "            losses.append(loss.detach().cpu().numpy())\n",
    "            #losses = losses[int(-loss_buffer_size/batch_size):]\n",
    "\n",
    "\n",
    "            s = \"{}:{:2} Loss: {:.4f}, Perf: {:.4f}\"\n",
    "            format_list = [epoch_idx, batch_idx, np.mean(losses), \n",
    "                           np.sum(perfs)/((len(perfs)))]\n",
    "            s = s.format(*format_list)\n",
    "            progress_bar.set_description(s)\n",
    "    torch.save(model.state_dict(), join('perf', 'SITHCon_morseadding_run2_{}.pt'.format(r)))"
   ]
  },
  {
   "cell_type": "markdown",
   "metadata": {},
   "source": [
    "# Test"
   ]
  },
  {
   "cell_type": "code",
   "execution_count": null,
   "metadata": {
    "ExecuteTime": {
     "end_time": "2021-06-01T16:21:06.591175Z",
     "start_time": "2021-06-01T16:21:06.567987Z"
    }
   },
   "outputs": [],
   "source": [
    "items = np.load('generated_adding_morse.npy', allow_pickle=True)"
   ]
  },
  {
   "cell_type": "code",
   "execution_count": null,
   "metadata": {
    "ExecuteTime": {
     "end_time": "2021-06-01T16:21:06.909694Z",
     "start_time": "2021-06-01T16:21:06.896432Z"
    }
   },
   "outputs": [],
   "source": [
    "model.load_state_dict(torch.load(join('perf','SITHCon_morseadding_run_{}.pt'.format(0))))\n"
   ]
  },
  {
   "cell_type": "code",
   "execution_count": null,
   "metadata": {
    "ExecuteTime": {
     "end_time": "2021-06-01T16:21:16.271717Z",
     "start_time": "2021-06-01T16:21:07.825436Z"
    },
    "scrolled": false
   },
   "outputs": [],
   "source": [
    "runs = 5\n",
    "device='cuda'\n",
    "for r in range(4,5):\n",
    "    model.load_state_dict(torch.load(join('perf','SITHCon_morseadding_run_{}.pt'.format(r))))\n",
    "    model.eval()\n",
    "    evald = []\n",
    "    evaldDict = {'test_perf':[],\n",
    "                 'rate':[]}\n",
    "    \n",
    "    with torch.no_grad():\n",
    "        for nr in [1,3,4,5,6,12,25,50]:\n",
    "        #for nr in range(1,40,):\n",
    "            losses = []\n",
    "            perfs = []\n",
    "            for iv, tar in items:\n",
    "\n",
    "                iv = ttype(iv).unsqueeze(0).unsqueeze(0).transpose(-1,-2).unsqueeze(-1)\n",
    "                iv = iv.repeat(1,1,1,1,nr)\n",
    "                iv = iv.reshape(1,1,2,-1)\n",
    "                tv = torch.FloatTensor(tar).to(device)\n",
    "                out = model(iv)\n",
    "\n",
    "                loss = loss_func(out[:, -1, :],\n",
    "                                     tv)\n",
    "                losses.append(loss.detach().cpu().numpy())\n",
    "            print(nr, np.mean(losses))\n",
    "            evaldDict['test_perf'].append(np.mean(losses))\n",
    "            evaldDict['rate'].append(nr)\n",
    "            evald.append([nr, np.mean(losses)])\n",
    "        scale_perfs = pd.DataFrame(evaldDict)\n",
    "        scale_perfs.to_pickle(join(\"perf\", \"sithcon_morseadding_test_{}.dill\".format(r)))"
   ]
  },
  {
   "cell_type": "code",
   "execution_count": null,
   "metadata": {
    "ExecuteTime": {
     "end_time": "2021-06-02T13:42:23.045914Z",
     "start_time": "2021-06-02T13:42:22.921114Z"
    },
    "scrolled": true
   },
   "outputs": [],
   "source": [
    "params = [[3000, 400, 35, 23, 2, 6000],]\n",
    "model = gen_model(params[0])\n",
    "tot_weights = 0\n",
    "for p in model.parameters():\n",
    "    tot_weights += p.numel()\n",
    "print(\"Total Weights:\", tot_weights)\n",
    "print(model)\n",
    "c = model.sithcon_layers[0].sithcon.sith.c\n",
    "print(c)\n",
    "ntau = 300\n",
    "m = .1\n",
    "maxt = m*(c+1)**(ntau-1)\n",
    "params.append([maxt, ntau, 35, 23, 2, maxt*3])\n",
    "ntau = 350\n",
    "maxt = m*(c+1)**(ntau-1)\n",
    "params.append([maxt, ntau, 35, 23, 2, maxt*3])\n",
    "ntau = 450\n",
    "maxt = m*(c+1)**(ntau-1)\n",
    "params.append([maxt, ntau, 35, 23, 2, maxt*3])\n",
    "ntau = 500\n",
    "maxt = m*(c+1)**(ntau-1)\n",
    "params.append([maxt, ntau, 35, 23, 2, maxt*3])"
   ]
  },
  {
   "cell_type": "code",
   "execution_count": null,
   "metadata": {
    "ExecuteTime": {
     "end_time": "2021-06-02T14:42:18.329305Z",
     "start_time": "2021-06-02T13:46:23.977995Z"
    },
    "scrolled": true
   },
   "outputs": [],
   "source": [
    "perfs = []\n",
    "for p in params[-1:]:\n",
    "    \n",
    "    model = gen_model(p)\n",
    "    model.load_state_dict(torch.load(join('perf','SITHCon_morseadding_run_{}.pt'.format(0))))\n",
    "    model.eval()\n",
    "    evald = []\n",
    "    evaldDict = {'test_perf':[],\n",
    "                 'rate':[]}\n",
    "\n",
    "    with torch.no_grad():\n",
    "        for nr in [150]:\n",
    "        #for nr in range(1,40,):\n",
    "            losses = []\n",
    "            perfs = []\n",
    "            for iv, tar in items:\n",
    "                iv = ttype(iv).unsqueeze(0).unsqueeze(0).transpose(-1,-2).unsqueeze(-1)\n",
    "                iv = iv.repeat(1,1,1,1,nr)\n",
    "                iv = iv.reshape(1,1,2,-1)\n",
    "                tv = torch.FloatTensor(tar).to(device)\n",
    "                out = model(iv)\n",
    "\n",
    "                loss = loss_func(out[:, -1, :],\n",
    "                                     tv)\n",
    "                losses.append(loss.detach().cpu().numpy())\n",
    "            print(nr, np.mean(losses))\n",
    "            evaldDict['test_perf'].append(np.mean(losses))\n",
    "            evaldDict['rate'].append(nr)\n",
    "            evald.append([nr, np.mean(losses)])\n",
    "    scale_perfs = pd.DataFrame(evaldDict)\n",
    "    perfs.append(scale_perfs)    "
   ]
  },
  {
   "cell_type": "code",
   "execution_count": null,
   "metadata": {},
   "outputs": [],
   "source": []
  }
 ],
 "metadata": {
  "kernelspec": {
   "display_name": "Python 3",
   "language": "python",
   "name": "python3"
  },
  "language_info": {
   "codemirror_mode": {
    "name": "ipython",
    "version": 3
   },
   "file_extension": ".py",
   "mimetype": "text/x-python",
   "name": "python",
   "nbconvert_exporter": "python",
   "pygments_lexer": "ipython3",
   "version": "3.6.10"
  },
  "toc": {
   "nav_menu": {},
   "number_sections": true,
   "sideBar": false,
   "skip_h1_title": false,
   "title_cell": "Table of Contents",
   "title_sidebar": "Contents",
   "toc_cell": false,
   "toc_position": {
    "height": "47.7167px",
    "left": "1045.97px",
    "top": "52px",
    "width": "161.033px"
   },
   "toc_section_display": false,
   "toc_window_display": true
  }
 },
 "nbformat": 4,
 "nbformat_minor": 4
}
