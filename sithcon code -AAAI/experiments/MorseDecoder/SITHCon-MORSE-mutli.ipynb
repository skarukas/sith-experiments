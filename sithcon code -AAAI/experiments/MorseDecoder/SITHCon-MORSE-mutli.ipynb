{
 "cells": [
  {
   "cell_type": "code",
   "execution_count": null,
   "metadata": {
    "ExecuteTime": {
     "end_time": "2021-09-30T03:46:25.074773Z",
     "start_time": "2021-09-30T03:46:24.896062Z"
    }
   },
   "outputs": [],
   "source": [
    "%matplotlib inline"
   ]
  },
  {
   "cell_type": "code",
   "execution_count": null,
   "metadata": {
    "ExecuteTime": {
     "end_time": "2021-09-30T03:46:25.784852Z",
     "start_time": "2021-09-30T03:46:25.119981Z"
    }
   },
   "outputs": [],
   "source": [
    "import matplotlib.pyplot as plt\n",
    "import seaborn as sn\n",
    "sn.set_context(\"poster\")\n",
    "\n",
    "import torch\n",
    "from torch import nn as nn\n",
    "ttype = torch.cuda.FloatTensor if torch.cuda.is_available() else torch.FloatTensor\n",
    "ctype = torch.cuda.LongTensor if torch.cuda.is_available() else torch.LongTensor\n",
    "print(ttype)\n",
    "import torch.nn.functional as F\n",
    "from matplotlib import gridspec\n",
    "from sithcon import SITHCon_Layer, _SITHCon_Core, iSITH\n",
    "\n",
    "from tqdm.notebook import tqdm\n",
    "\n",
    "import itertools\n",
    "from csv import DictWriter\n",
    "import os \n",
    "from os.path import join\n",
    "import glob\n",
    "\n",
    "import numpy as np\n",
    "import pandas as pd\n",
    "import pickle\n",
    "from math import factorial\n",
    "import random"
   ]
  },
  {
   "cell_type": "code",
   "execution_count": null,
   "metadata": {
    "ExecuteTime": {
     "end_time": "2021-09-30T03:46:25.790237Z",
     "start_time": "2021-09-30T03:46:25.786129Z"
    }
   },
   "outputs": [],
   "source": [
    "MORSE_CODE_DICT = { 'A':'.-', 'B':'-...', \n",
    "                    'C':'-.-.', 'D':'-..', 'E':'.', \n",
    "                    'F':'..-.', 'G':'--.', 'H':'....', \n",
    "                    'I':'..', 'J':'.---', 'K':'-.-', \n",
    "                    'L':'.-..', 'M':'--', 'N':'-.', \n",
    "                    'O':'---', 'P':'.--.', 'Q':'--.-', \n",
    "                    'R':'.-.', 'S':'...', 'T':'-', \n",
    "                    'U':'..-', 'V':'...-', 'W':'.--', \n",
    "                    'X':'-..-', 'Y':'-.--', 'Z':'--..', \n",
    "                    '1':'.----', '2':'..---', '3':'...--', \n",
    "                    '4':'....-', '5':'.....', '6':'-....', \n",
    "                    '7':'--...', '8':'---..', '9':'----.', \n",
    "                    '0':'-----', ', ':'--..--', '.':'.-.-.-', \n",
    "                    '?':'..--..', '/':'-..-.', '-':'-....-', \n",
    "                    '(':'-.--.', ')':'-.--.-'} "
   ]
  },
  {
   "cell_type": "code",
   "execution_count": null,
   "metadata": {
    "ExecuteTime": {
     "end_time": "2021-09-30T03:46:26.086075Z",
     "start_time": "2021-09-30T03:46:26.030784Z"
    }
   },
   "outputs": [],
   "source": [
    "print(MORSE_CODE_DICT['?'], MORSE_CODE_DICT['?'].replace('.', '10').replace('-', '1110'))\n",
    "print(len(MORSE_CODE_DICT))\n",
    "morse_code_numpy = {key:np.array([int(x) for x in MORSE_CODE_DICT[key].replace('.', '10').replace('-', '1110')] + [0, 0])\n",
    "                    for key in MORSE_CODE_DICT.keys()}\n",
    "for k in morse_code_numpy.keys():\n",
    "    #if len(morse_code_numpy[k]) == 12:\n",
    "    #    print(morse_code_numpy[k], k)\n",
    "    print(morse_code_numpy[k], k)\n",
    "print(len(morse_code_numpy))\n",
    "subset = list(morse_code_numpy.keys())\n",
    "#subset = ['3', '7', 'Y', 'Q', 'J',\n",
    "#          'M', 'R', 'U', 'H', 'D']"
   ]
  },
  {
   "cell_type": "code",
   "execution_count": null,
   "metadata": {
    "ExecuteTime": {
     "end_time": "2021-09-30T03:46:31.170973Z",
     "start_time": "2021-09-30T03:46:29.339632Z"
    }
   },
   "outputs": [],
   "source": [
    "id2key = subset\n",
    "key2id = {}\n",
    "for idx, s in enumerate(subset):\n",
    "    key2id[s] = idx\n",
    "\n",
    "X = [ttype(morse_code_numpy[k])for k in subset]\n",
    "Y = torch.LongTensor(np.arange(0,len(X)))\n",
    "print(Y.max())\n",
    "print(X, Y)"
   ]
  },
  {
   "cell_type": "code",
   "execution_count": null,
   "metadata": {
    "ExecuteTime": {
     "end_time": "2021-09-30T03:46:31.523411Z",
     "start_time": "2021-09-30T03:46:31.515880Z"
    }
   },
   "outputs": [],
   "source": [
    "class SITHCon_Classifier(nn.Module):\n",
    "    def __init__(self, out_classes, layer_params, \n",
    "                 act_func=nn.ReLU, batch_norm=False,\n",
    "                 dropout=.2):\n",
    "        super(SITHCon_Classifier, self).__init__()\n",
    "        last_channels = layer_params[-1]['channels']\n",
    "        self.transform_linears = nn.ModuleList([nn.Linear(l['channels'], l['channels'])\n",
    "                                                for l in layer_params])\n",
    "        self.sithcon_layers = nn.ModuleList([SITHCon_Layer(l, act_func) for l in layer_params])\n",
    "        self.to_out = nn.Linear(last_channels, out_classes)\n",
    "        \n",
    "        \n",
    "    def forward(self, inp):\n",
    "        \n",
    "        x = inp\n",
    "        #out = []\n",
    "        for i in range(len(self.sithcon_layers)):\n",
    "            x = self.sithcon_layers[i](x)\n",
    "            \n",
    "            x = F.relu(self.transform_linears[i](x[:,0,:,:].transpose(1,2)))\n",
    "            x = x.unsqueeze(1).transpose(2,3)\n",
    "\n",
    "            #out.append(x.clone())\n",
    "        x = x.transpose(2,3)[:, 0, :, :]\n",
    "        #x = x.transpose(2,3)[:, 0, :, :]\n",
    "        x = self.to_out(x)\n",
    "        return x"
   ]
  },
  {
   "cell_type": "code",
   "execution_count": null,
   "metadata": {
    "ExecuteTime": {
     "end_time": "2021-09-30T03:46:32.143750Z",
     "start_time": "2021-09-30T03:46:32.138456Z"
    }
   },
   "outputs": [],
   "source": [
    "permute = np.arange(0, 43)\n",
    "print(max(permute))"
   ]
  },
  {
   "cell_type": "code",
   "execution_count": null,
   "metadata": {},
   "outputs": [],
   "source": []
  },
  {
   "cell_type": "markdown",
   "metadata": {},
   "source": [
    "# Three Layers"
   ]
  },
  {
   "cell_type": "code",
   "execution_count": null,
   "metadata": {
    "ExecuteTime": {
     "end_time": "2021-09-30T03:46:34.627359Z",
     "start_time": "2021-09-30T03:46:34.619265Z"
    },
    "scrolled": true
   },
   "outputs": [],
   "source": [
    "def gen_model(p):\n",
    "    sp1 = dict(in_features=1, \n",
    "               tau_min=.1, tau_max=p[0], buff_max=p[5],\n",
    "               dt=1, ntau=p[1], k=p[2], g=0.0, ttype=ttype, \n",
    "               channels=25, kernel_width=p[3], dilation=p[4],\n",
    "               dropout=None, batch_norm=None)\n",
    "    sp2 = dict(in_features=sp1['channels'], \n",
    "               tau_min=.1, tau_max=p[0], buff_max=p[5],\n",
    "               dt=1, ntau=p[1], k=p[2], g=0.0, ttype=ttype, \n",
    "               channels=25, kernel_width=p[3], dilation=p[4], \n",
    "               dropout=None, batch_norm=None)\n",
    "    sp3 = dict(in_features=sp2['channels'], \n",
    "               tau_min=.1, tau_max=p[0], buff_max=p[5],\n",
    "               dt=1, ntau=p[1], k=p[2], g=0.0, ttype=ttype, \n",
    "               channels=25, kernel_width=p[3], dilation=p[4], \n",
    "               dropout=None, batch_norm=None)\n",
    "    layer_params = [sp1, sp2, sp3]\n",
    "    model = SITHCon_Classifier(len(X), layer_params, act_func=None).cuda()\n",
    "    return model\n"
   ]
  },
  {
   "cell_type": "code",
   "execution_count": null,
   "metadata": {
    "ExecuteTime": {
     "end_time": "2021-09-30T03:46:37.528623Z",
     "start_time": "2021-09-30T03:46:37.434986Z"
    },
    "scrolled": true
   },
   "outputs": [],
   "source": [
    "params = [[4000, 400, 35, 23, 2, 6500],]\n",
    "model = gen_model(params[0])\n",
    "tot_weights = 0\n",
    "for p in model.parameters():\n",
    "    tot_weights += p.numel()\n",
    "print(\"Total Weights:\", tot_weights)\n",
    "c = model.sithcon_layers[0].sithcon.sith.c\n",
    "print(c)\n",
    "ntau = 320\n",
    "m = .1\n",
    "maxt = m*(c+1)**(ntau-1)\n",
    "print(maxt)\n",
    "params.append([maxt, ntau, 35, 23, 2, maxt*3])"
   ]
  },
  {
   "cell_type": "code",
   "execution_count": null,
   "metadata": {
    "ExecuteTime": {
     "end_time": "2021-09-30T03:46:47.574888Z",
     "start_time": "2021-09-30T03:46:47.570069Z"
    }
   },
   "outputs": [],
   "source": [
    "training_lens = [1,4,10,25,100]"
   ]
  },
  {
   "cell_type": "code",
   "execution_count": null,
   "metadata": {
    "ExecuteTime": {
     "end_time": "2021-09-30T04:16:34.938487Z",
     "start_time": "2021-09-30T03:46:48.040373Z"
    }
   },
   "outputs": [],
   "source": [
    "runs = 5\n",
    "epochs = 150000\n",
    "Trainscale = 10\n",
    "device='cuda'\n",
    "\n",
    "batch_size = 10\n",
    "batches = int(np.ceil(43 / batch_size))\n",
    "for r in range(runs):\n",
    "    model = gen_model(params[0]).cuda()\n",
    "    \n",
    "    loss_func = torch.nn.CrossEntropyLoss()\n",
    "    optimizer = torch.optim.Adam(model.parameters())\n",
    "    perf_file = join('perf','sithconmulti_morsedecoder_run_TEST{}.csv'.format(r))\n",
    "    \n",
    "\n",
    "    progress_bar = tqdm(range(int(epochs)), bar_format='{l_bar}{bar:5}{r_bar}{bar:-5b}')\n",
    "    times_100 = 0\n",
    "\n",
    "    for epoch_idx in progress_bar:\n",
    "        perfs = []\n",
    "        losses = []\n",
    "        model.train()\n",
    "        for batch_idx in range(batches):\n",
    "            optimizer.zero_grad()\n",
    "            loss = 0\n",
    "            permute = np.arange(0, 43)\n",
    "            np.random.shuffle(permute)\n",
    "            for i in range(0, int(min(len(X) - (batch_idx*batch_size), \n",
    "                                  batch_size))\n",
    "                           ):\n",
    "                Trainscale = training_lens[i % len(training_lens)]\n",
    "                iv = X[permute[batch_idx*batch_size + i]]\n",
    "                iv = iv.unsqueeze(0).unsqueeze(0).unsqueeze(0).to(device)\n",
    "                iv = iv.unsqueeze(-1)\n",
    "                iv = iv.repeat(1,1,1,1,Trainscale)\n",
    "                iv = iv.reshape(1,1,1,-1)\n",
    "                tv = Y[permute[batch_idx*batch_size + i]].to(device)\n",
    "                out = model(iv)\n",
    "                loss += loss_func(out[:, -1, :],\n",
    "                                  torch.cuda.LongTensor([tv]))\n",
    "                perfs.append((torch.argmax(out[:, -1, :], dim=-1) == \n",
    "                              tv).sum().item())\n",
    "\n",
    "            loss = loss / min(len(X) - (batch_idx*batch_size), \n",
    "                              batch_size)\n",
    "            loss.backward()\n",
    "            optimizer.step()\n",
    "\n",
    "\n",
    "            #perfs = perfs[int(-loss_buffer_size/batch_size):]\n",
    "            losses.append(loss.detach().cpu().numpy())\n",
    "            #losses = losses[int(-loss_buffer_size/batch_size):]\n",
    "\n",
    "\n",
    "            s = \"{}:{:2} Loss: {:.4f}, Perf: {:.4f}\"\n",
    "            format_list = [epoch_idx, batch_idx, np.mean(losses), \n",
    "                           np.sum(perfs)/((len(perfs)))]\n",
    "            s = s.format(*format_list)\n",
    "            progress_bar.set_description(s)\n",
    "        if (np.sum(perfs)/((len(perfs))) == 1.0) & (np.mean(losses) < .11):\n",
    "            times_100 += 1\n",
    "            if times_100 >= 3:\n",
    "                break\n",
    "    torch.save(model.state_dict(), perf_file[:-4]+\".pt\")\n"
   ]
  },
  {
   "cell_type": "code",
   "execution_count": null,
   "metadata": {
    "ExecuteTime": {
     "end_time": "2021-08-06T16:36:22.475671Z",
     "start_time": "2021-08-06T16:36:22.446604Z"
    }
   },
   "outputs": [],
   "source": [
    "torch.save(model.state_dict(), perf_file[:-4]+\".pt\")"
   ]
  },
  {
   "cell_type": "code",
   "execution_count": null,
   "metadata": {
    "ExecuteTime": {
     "end_time": "2021-08-09T03:40:23.754083Z",
     "start_time": "2021-08-09T03:38:46.913859Z"
    },
    "scrolled": true
   },
   "outputs": [],
   "source": [
    "runs = 5\n",
    "device = 'cuda'\n",
    "for r in range(runs):\n",
    "    model.load_state_dict(torch.load(join('perf','sithconmulti_morsedecoder_run_{}.pt'.format(r))))\n",
    "    model.eval()\n",
    "    with torch.no_grad():\n",
    "        evald = []\n",
    "        evaldDict = {'test_perf':[],\n",
    "                     'rate':[]}\n",
    "        for nr in [1,2,3,4,5,6,7,8,9,10,12,13,15,18,20,25,50,75,90,100,125,250,500,1000]:\n",
    "        #for nr in range(1,20):\n",
    "            perfs = []\n",
    "            for batch_idx, iv in enumerate(X):\n",
    "                iv = iv.unsqueeze(0).unsqueeze(0).unsqueeze(0).to(device)\n",
    "                iv = iv.unsqueeze(-1)\n",
    "                iv = iv.repeat(1,1,1,1,nr)\n",
    "                iv = iv.reshape(1,1,1,-1)\n",
    "                tv = Y[batch_idx].to(device)\n",
    "                out = model(iv)\n",
    "\n",
    "                perfs.append((torch.argmax(out[:, -1, :], dim=-1) == \n",
    "                              tv).sum().item())\n",
    "                #print(torch.argmax(out, dim=-1), \n",
    "                #              tv)\n",
    "            evaldDict['test_perf'].append(sum(perfs)/len(perfs))\n",
    "            evaldDict['rate'].append(nr)\n",
    "            print(nr, sum(perfs)/len(perfs))\n",
    "            evald.append({'scale':nr, \n",
    "                          'perf':sum(perfs)/len(perfs)})\n",
    "        scale_perfs = pd.DataFrame(evald)\n",
    "        scale_perfs.to_pickle(join(\"perf\", \"sithconmulti_morse_ttest_{}.dill\".format(r)))"
   ]
  },
  {
   "cell_type": "code",
   "execution_count": null,
   "metadata": {
    "ExecuteTime": {
     "end_time": "2021-08-09T03:40:31.571081Z",
     "start_time": "2021-08-09T03:40:31.216203Z"
    }
   },
   "outputs": [],
   "source": [
    "sn.lineplot(data=scale_perfs, x='scale', y='perf')\n",
    "plt.xscale('log')\n",
    "for x in training_lens:\n",
    "    \n",
    "    plt.axvline(x, color='red', linestyle='--')"
   ]
  },
  {
   "cell_type": "code",
   "execution_count": null,
   "metadata": {},
   "outputs": [],
   "source": []
  }
 ],
 "metadata": {
  "kernelspec": {
   "display_name": "Python 3",
   "language": "python",
   "name": "python3"
  },
  "language_info": {
   "codemirror_mode": {
    "name": "ipython",
    "version": 3
   },
   "file_extension": ".py",
   "mimetype": "text/x-python",
   "name": "python",
   "nbconvert_exporter": "python",
   "pygments_lexer": "ipython3",
   "version": "3.6.10"
  },
  "toc": {
   "nav_menu": {},
   "number_sections": true,
   "sideBar": true,
   "skip_h1_title": false,
   "title_cell": "Table of Contents",
   "title_sidebar": "Contents",
   "toc_cell": false,
   "toc_position": {},
   "toc_section_display": true,
   "toc_window_display": false
  }
 },
 "nbformat": 4,
 "nbformat_minor": 4
}
