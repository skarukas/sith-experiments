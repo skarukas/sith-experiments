{
 "cells": [
  {
   "cell_type": "code",
   "execution_count": null,
   "metadata": {
    "ExecuteTime": {
     "end_time": "2021-05-18T14:36:04.982194Z",
     "start_time": "2021-05-18T14:36:04.811265Z"
    }
   },
   "outputs": [],
   "source": [
    "%matplotlib inline"
   ]
  },
  {
   "cell_type": "code",
   "execution_count": null,
   "metadata": {
    "ExecuteTime": {
     "end_time": "2021-05-18T14:36:05.574882Z",
     "start_time": "2021-05-18T14:36:05.021401Z"
    }
   },
   "outputs": [],
   "source": [
    "import matplotlib.pyplot as plt\n",
    "import seaborn as sn\n",
    "sn.set_context(\"poster\")\n",
    "\n",
    "import torch\n",
    "from torch import nn as nn\n",
    "ttype = torch.cuda.FloatTensor if torch.cuda.is_available() else torch.FloatTensor\n",
    "ctype = torch.cuda.LongTensor if torch.cuda.is_available() else torch.LongTensor\n",
    "print(ttype)\n",
    "import torch.nn.functional as F\n",
    "from matplotlib import gridspec\n",
    "from sithcon import SITHCon_Layer, _SITHCon_Core, iSITH\n",
    "\n",
    "from tqdm.notebook import tqdm\n",
    "\n",
    "import itertools\n",
    "from csv import DictWriter\n",
    "import os \n",
    "from os.path import join\n",
    "import glob\n",
    "\n",
    "import numpy as np\n",
    "import pandas as pd\n",
    "import pickle\n",
    "from math import factorial\n",
    "import random"
   ]
  },
  {
   "cell_type": "code",
   "execution_count": null,
   "metadata": {
    "ExecuteTime": {
     "end_time": "2021-05-18T14:36:05.579246Z",
     "start_time": "2021-05-18T14:36:05.575980Z"
    }
   },
   "outputs": [],
   "source": [
    "MORSE_CODE_DICT = { 'A':'.-', 'B':'-...', \n",
    "                    'C':'-.-.', 'D':'-..', 'E':'.', \n",
    "                    'F':'..-.', 'G':'--.', 'H':'....', \n",
    "                    'I':'..', 'J':'.---', 'K':'-.-', \n",
    "                    'L':'.-..', 'M':'--', 'N':'-.', \n",
    "                    'O':'---', 'P':'.--.', 'Q':'--.-', \n",
    "                    'R':'.-.', 'S':'...', 'T':'-', \n",
    "                    'U':'..-', 'V':'...-', 'W':'.--', \n",
    "                    'X':'-..-', 'Y':'-.--', 'Z':'--..', \n",
    "                    '1':'.----', '2':'..---', '3':'...--', \n",
    "                    '4':'....-', '5':'.....', '6':'-....', \n",
    "                    '7':'--...', '8':'---..', '9':'----.', \n",
    "                    '0':'-----', ', ':'--..--', '.':'.-.-.-', \n",
    "                    '?':'..--..', '/':'-..-.', '-':'-....-', \n",
    "                    '(':'-.--.', ')':'-.--.-'} "
   ]
  },
  {
   "cell_type": "code",
   "execution_count": null,
   "metadata": {
    "ExecuteTime": {
     "end_time": "2021-05-18T14:36:05.592491Z",
     "start_time": "2021-05-18T14:36:05.580334Z"
    }
   },
   "outputs": [],
   "source": [
    "43/15"
   ]
  },
  {
   "cell_type": "code",
   "execution_count": null,
   "metadata": {
    "ExecuteTime": {
     "end_time": "2021-05-18T14:36:13.944941Z",
     "start_time": "2021-05-18T14:36:13.931907Z"
    }
   },
   "outputs": [],
   "source": [
    "print(MORSE_CODE_DICT['?'], MORSE_CODE_DICT['?'].replace('.', '10').replace('-', '1110'))\n",
    "print()\n",
    "morse_code_numpy = {key:np.array([0]+[int(x) for x in MORSE_CODE_DICT[key].replace('.', '10').replace('-', '1110')] + [0, 0])\n",
    "                    for key in MORSE_CODE_DICT.keys()}\n",
    "for k in morse_code_numpy.keys():\n",
    "    #if len(morse_code_numpy[k]) == 12:\n",
    "    #    print(morse_code_numpy[k], k)\n",
    "    print(morse_code_numpy[k], k)\n",
    "subset = list(morse_code_numpy.keys())\n",
    "#subset = ['3', '7', 'Y', 'Q', 'J',\n",
    "#          'M', 'R', 'U', 'H', 'D']"
   ]
  },
  {
   "cell_type": "code",
   "execution_count": null,
   "metadata": {
    "ExecuteTime": {
     "end_time": "2021-05-18T14:36:14.160661Z",
     "start_time": "2021-05-18T14:36:14.151936Z"
    }
   },
   "outputs": [],
   "source": [
    "morse_code_numpy[k][np.newaxis].shape"
   ]
  },
  {
   "cell_type": "code",
   "execution_count": null,
   "metadata": {
    "ExecuteTime": {
     "end_time": "2021-05-18T14:36:15.219336Z",
     "start_time": "2021-05-18T14:36:14.497375Z"
    }
   },
   "outputs": [],
   "source": [
    "window_size = 20\n",
    "lw=5\n",
    "ms = 15\n",
    "with sn.plotting_context(\"notebook\", font_scale=4):\n",
    "    fig = plt.figure(figsize=(30,15), )\n",
    "    spec = gridspec.GridSpec(nrows=15, ncols=15, hspace=.3, wspace=.1,\n",
    "                             figure=fig)\n",
    "    \n",
    "    \n",
    "    for x, k in enumerate(morse_code_numpy.keys()):\n",
    "        ax = fig.add_subplot(spec[x%15, int(x/15)])\n",
    "        \n",
    "        ax.imshow(morse_code_numpy[k][np.newaxis], aspect='auto')\n",
    "        #ax.step(np.arange(0, morse_code_numpy[k].shape[0]), morse_code_numpy[k])\n",
    "        ax.set_xticks([])\n",
    "        ax.set_yticks([])\n"
   ]
  },
  {
   "cell_type": "code",
   "execution_count": null,
   "metadata": {
    "ExecuteTime": {
     "end_time": "2021-05-18T14:44:07.905946Z",
     "start_time": "2021-05-18T14:44:07.876849Z"
    }
   },
   "outputs": [],
   "source": [
    "Trainscale = 10\n",
    "SITH_perfs = None\n",
    "for r in range(5):\n",
    "    if SITH_perfs is None:\n",
    "        SITH_perfs = pd.read_pickle(join(\"perf\", \"sithcon_morse_test_{}.dill\".format(r)))\n",
    "        SITH_perfs['run'] = [r]*SITH_perfs.shape[0]\n",
    "    else:\n",
    "        temp =  pd.read_pickle(join(\"perf\", \"sithcon_morse_test_{}.dill\".format(r)))\n",
    "        temp['run'] = [r]*temp.shape[0]\n",
    "        SITH_perfs = SITH_perfs.append(temp)\n",
    "SITH_perfs['adj_scale'] = SITH_perfs.scale / Trainscale\n",
    "print(SITH_perfs)\n",
    "TCN_perfs = None\n",
    "for r in range(5):\n",
    "    if TCN_perfs is None:\n",
    "        TCN_perfs = pd.read_pickle(join(\"perf\", \"tcn_morse_test_{}.dill\".format(r)))\n",
    "        TCN_perfs['run'] = [r]*TCN_perfs.shape[0]\n",
    "    else:\n",
    "        temp =  pd.read_pickle(join(\"perf\", \"tcn_morse_test_{}.dill\".format(r)))\n",
    "        temp['run'] = [r]*temp.shape[0]\n",
    "        TCN_perfs = TCN_perfs.append(temp)\n",
    "TCN_perfs['adj_scale'] = TCN_perfs.scale / Trainscale\n",
    "print(SITH_perfs)"
   ]
  },
  {
   "cell_type": "code",
   "execution_count": null,
   "metadata": {},
   "outputs": [],
   "source": []
  },
  {
   "cell_type": "code",
   "execution_count": null,
   "metadata": {
    "ExecuteTime": {
     "end_time": "2021-05-25T17:27:03.689082Z",
     "start_time": "2021-05-25T17:27:00.653928Z"
    }
   },
   "outputs": [],
   "source": [
    "\n",
    "window_size = 20\n",
    "lw=8\n",
    "ms = 20\n",
    "with sn.plotting_context(\"notebook\", font_scale=2):\n",
    "    fig = plt.figure(figsize=(20,10), )\n",
    "\n",
    "    spec = gridspec.GridSpec(nrows=15, ncols=10, hspace=1, wspace=.5,\n",
    "                             figure=fig)\n",
    "    \n",
    "    for x, k in enumerate(morse_code_numpy.keys()):\n",
    "        ax = fig.add_subplot(spec[int(x/10), x%10])\n",
    "        #if (int(x/15)==1) & ((x%15)==0):\n",
    "        #    ax.set_ylabel('Morse\\nSignals')\n",
    "        ax.imshow(morse_code_numpy[k][np.newaxis], aspect='auto')\n",
    "        #ax.set_ylabel(k)\n",
    "        ax.set_ylabel(k, rotation=0, labelpad=4, ha='right', va='center')\n",
    "        #ax.step(np.arange(0, morse_code_numpy[k].shape[0]), morse_code_numpy[k])\n",
    "        #ax.set_ylim(-.05, 1.5)\n",
    "        ax.set_xticks([])\n",
    "        ax.set_yticks([])\n",
    "    \n",
    "    \n",
    "    \n",
    "    Trainscale = 10\n",
    "    ax = fig.add_subplot(spec[5:, :])\n",
    "    ax.axhline(0, color='black',\n",
    "            linewidth=lw, ms=ms, label='_nolegend_')\n",
    "    ax.axvline(Trainscale/Trainscale, color='red', linestyle='--',\n",
    "            linewidth=lw, ms=ms, label='_nolegend_')\n",
    "    #ax.plot(SITH_perfs.scale/Trainscale, SITH_perfs.perf, marker='o',\n",
    "    #        linewidth=lw, ms=ms)\n",
    "    sn.lineplot(data=SITH_perfs, x='adj_scale', y='perf', ax=ax,\n",
    "                markers=True, linewidth=lw, ms=ms, ci='sd')\n",
    "    sn.lineplot(data=TCN_perfs, x='adj_scale', y='perf', ax=ax,\n",
    "                markers=True, linewidth=lw, ms=ms, ci='sd')\n",
    "    #ax.plot(TCN_perfs.scale/Trainscale, TCN_perfs.perf, marker='o',\n",
    "    #        linewidth=lw, ms=ms)\n",
    "    \n",
    "    \n",
    "    ax.set_ylim(-.05, 1.05)\n",
    "    #plt.xlim(.1, 10)\n",
    "    #plt.xscale('log')\n",
    "    ax.grid()\n",
    "    ax.set_ylabel('Accuracy')\n",
    "    ax.set_xlabel('Scale')\n",
    "    ax.legend(['SITHCon', 'TCN'])\n",
    "plt.savefig(join('figs', 'morse_decoder_Full.png'), dpi=100)\n",
    "plt.savefig(join('figs', 'morse_decoder_Full.pdf'), dpi=100)"
   ]
  },
  {
   "cell_type": "code",
   "execution_count": null,
   "metadata": {},
   "outputs": [],
   "source": []
  },
  {
   "cell_type": "code",
   "execution_count": null,
   "metadata": {},
   "outputs": [],
   "source": []
  },
  {
   "cell_type": "code",
   "execution_count": null,
   "metadata": {},
   "outputs": [],
   "source": []
  },
  {
   "cell_type": "code",
   "execution_count": null,
   "metadata": {
    "ExecuteTime": {
     "end_time": "2021-05-07T15:39:12.614125Z",
     "start_time": "2021-05-07T15:39:12.607284Z"
    }
   },
   "outputs": [],
   "source": [
    "MORSE_CODE_DICT = { 'A':'.-', 'B':'-...', \n",
    "                    'C':'-.-.', 'D':'-..', 'E':'.', \n",
    "                    'F':'..-.', 'G':'--.', 'H':'....', \n",
    "                    'I':'..', 'J':'.---', 'K':'-.-', \n",
    "                    'L':'.-..', 'M':'--', 'N':'-.', \n",
    "                    'O':'---', 'P':'.--.', 'Q':'--.-', \n",
    "                    'R':'.-.', 'S':'...', 'T':'-', \n",
    "                    'U':'..-', 'V':'...-', 'W':'.--', \n",
    "                    'X':'-..-', 'Y':'-.--', 'Z':'--..', \n",
    "                    '1':'.----', '2':'..---', '3':'...--', \n",
    "                    '4':'....-', '5':'.....', '6':'-....', \n",
    "                    '7':'--...', '8':'---..', '9':'----.', \n",
    "                    '0':'-----', ', ':'--..--', '.':'.-.-.-', \n",
    "                    '?':'..--..', '/':'-..-.', '-':'-....-', \n",
    "                    '(':'-.--.', ')':'-.--.-'} "
   ]
  },
  {
   "cell_type": "code",
   "execution_count": null,
   "metadata": {
    "ExecuteTime": {
     "end_time": "2021-05-13T14:21:57.543606Z",
     "start_time": "2021-05-13T14:21:56.621482Z"
    }
   },
   "outputs": [],
   "source": [
    "\n",
    "morse_code_numpy = {key:np.array([0] + [int(x) for x in MORSE_CODE_DICT[key].replace('.', '10').replace('-', '1110')] + [0, 0])\n",
    "                    for key in MORSE_CODE_DICT.keys()}\n",
    "\n",
    "subset = list(morse_code_numpy.keys())\n",
    "#subset = ['3', '7', 'Y', 'Q', 'J',\n",
    "#          'M', 'R', 'U', 'H', 'D']\n",
    "id2key = subset\n",
    "key2id = {}\n",
    "for idx, s in enumerate(subset):\n",
    "    key2id[s] = idx\n",
    "\n",
    "X = [ttype(morse_code_numpy[k])for k in subset]\n",
    "Y = torch.LongTensor(np.arange(0,len(X)))\n"
   ]
  },
  {
   "cell_type": "code",
   "execution_count": null,
   "metadata": {
    "ExecuteTime": {
     "end_time": "2021-05-13T14:23:58.389451Z",
     "start_time": "2021-05-13T14:23:58.365754Z"
    }
   },
   "outputs": [],
   "source": []
  },
  {
   "cell_type": "code",
   "execution_count": null,
   "metadata": {
    "ExecuteTime": {
     "end_time": "2021-05-13T14:23:58.684106Z",
     "start_time": "2021-05-13T14:23:58.612498Z"
    }
   },
   "outputs": [],
   "source": [
    "plt.step(range(iv1.shape[0]), iv1.cpu().numpy())\n",
    "plt.step(range(iv2.shape[0]), iv2.cpu().numpy())\n"
   ]
  },
  {
   "cell_type": "code",
   "execution_count": null,
   "metadata": {
    "ExecuteTime": {
     "end_time": "2021-05-13T14:23:58.909893Z",
     "start_time": "2021-05-13T14:23:58.901701Z"
    }
   },
   "outputs": [],
   "source": [
    "class SITHCon_Classifier(nn.Module):\n",
    "    def __init__(self, out_classes, layer_params, \n",
    "                 act_func=nn.ReLU, batch_norm=False,\n",
    "                 dropout=.2):\n",
    "        super(SITHCon_Classifier, self).__init__()\n",
    "        last_channels = layer_params[-1]['channels']\n",
    "        self.transform_linears = nn.ModuleList([nn.Linear(l['channels'], l['channels'])\n",
    "                                                for l in layer_params])\n",
    "        self.sithcon_layers = nn.ModuleList([SITHCon_Layer(l, act_func) for l in layer_params])\n",
    "        self.to_out = nn.Linear(last_channels, out_classes)\n",
    "        \n",
    "        \n",
    "    def forward(self, inp):\n",
    "        \n",
    "        x = inp\n",
    "        #out = []\n",
    "        for i in range(len(self.sithcon_layers)):\n",
    "            x = self.sithcon_layers[i](x)\n",
    "            \n",
    "            x = F.relu(self.transform_linears[i](x[:,0,:,:].transpose(1,2)))\n",
    "            x = x.unsqueeze(1).transpose(2,3)\n",
    "\n",
    "            #out.append(x.clone())\n",
    "        x = x.transpose(2,3)[:, 0, :, :]\n",
    "        #x = x.transpose(2,3)[:, 0, :, :]\n",
    "        x = self.to_out(x)\n",
    "        return x"
   ]
  },
  {
   "cell_type": "code",
   "execution_count": null,
   "metadata": {
    "ExecuteTime": {
     "end_time": "2021-05-13T14:24:00.506764Z",
     "start_time": "2021-05-13T14:24:00.493668Z"
    }
   },
   "outputs": [],
   "source": [
    "def gen_model(p):\n",
    "    sp1 = dict(in_features=1, \n",
    "               tau_min=.1, tau_max=3000, buff_max=6000,\n",
    "               dt=1, ntau=p[0], k=p[1], g=0.0, ttype=ttype, \n",
    "               channels=25, kernel_width=p[2], dilation=p[3],\n",
    "               dropout=None, batch_norm=None)\n",
    "    sp2 = dict(in_features=sp1['channels'], \n",
    "               tau_min=.1, tau_max=3000, buff_max=6000,\n",
    "               dt=1, ntau=p[0], k=p[1], g=0.0, ttype=ttype, \n",
    "               channels=25, kernel_width=p[2], dilation=p[3], \n",
    "               dropout=None, batch_norm=None)\n",
    "    sp3 = dict(in_features=sp2['channels'], \n",
    "               tau_min=.1, tau_max=3000, buff_max=6000,\n",
    "               dt=1, ntau=p[0], k=p[1], g=0.0, ttype=ttype, \n",
    "               channels=25, kernel_width=p[2], dilation=p[3], \n",
    "               dropout=None, batch_norm=None)\n",
    "    layer_params = [sp1, sp2, sp3]\n",
    "    model = SITHCon_Classifier(len(X), layer_params, act_func=None,#nn.ReLU\n",
    "                              ).cuda()\n",
    "    return model\n",
    "\n",
    "def test_model(model, X, Y):\n",
    "    model.eval()\n",
    "    evald = []\n",
    "    evaldDict = {'test_perf':[],\n",
    "                 'rate':[],\n",
    "                 'tau_max':[],\n",
    "                 'ntau':[],\n",
    "                 'k':[],\n",
    "                 'dilation':[],\n",
    "                 'channels':[]}\n",
    "    for nr in [1,2,5,6,7,8,9,10,11,12,13,14,15,16,17,18,19,20,30,40]:\n",
    "    #for nr in range(1,40,):\n",
    "        perfs = []\n",
    "        for batch_idx, iv in enumerate(X):\n",
    "            iv = iv.unsqueeze(0).unsqueeze(0).unsqueeze(0).to(device)\n",
    "            iv = iv.unsqueeze(-1)\n",
    "            iv = iv.repeat(1,1,1,1,nr)\n",
    "            iv = iv.reshape(1,1,1,-1)\n",
    "            tv = Y[batch_idx].to(device)\n",
    "            out = model(iv)\n",
    "            loss = loss_func(out[:, -1, :],\n",
    "                             torch.cuda.LongTensor([tv]))\n",
    "\n",
    "\n",
    "            perfs.append((torch.argmax(out[:, -1, :], dim=-1) == \n",
    "                          tv).sum().item()*1.0)\n",
    "        evaldDict['test_perf'].append(sum(perfs)/len(perfs))\n",
    "        evaldDict['rate'].append(nr)\n",
    "        evaldDict['tau_max'].append(model.sithcon_layers[0].sithcon.sith.tau_max)\n",
    "        evaldDict['ntau'].append(model.sithcon_layers[0].sithcon.sith.ntau)\n",
    "        evaldDict['k'].append(model.sithcon_layers[0].sithcon.sith.k)\n",
    "        evaldDict['dilation'].append(model.sithcon_layers[0].sithcon.dilation)\n",
    "        evaldDict['channels'].append(model.sithcon_layers[0].sithcon.channels)\n",
    "\n",
    "    return evaldDict\n",
    "\n",
    "def save_outcome(outcome, filename):\n",
    "    dat = pd.DataFrame(outcome)\n",
    "    dat.to_csv(join('perf',filename))"
   ]
  },
  {
   "cell_type": "code",
   "execution_count": null,
   "metadata": {
    "ExecuteTime": {
     "end_time": "2021-05-13T14:24:00.962072Z",
     "start_time": "2021-05-13T14:24:00.955731Z"
    }
   },
   "outputs": [],
   "source": [
    "pal = plt.rcParams['axes.prop_cycle'].by_key()['color']"
   ]
  },
  {
   "cell_type": "markdown",
   "metadata": {},
   "source": [
    "# START "
   ]
  },
  {
   "cell_type": "code",
   "execution_count": null,
   "metadata": {
    "ExecuteTime": {
     "end_time": "2021-05-13T14:24:02.348933Z",
     "start_time": "2021-05-13T14:24:02.235253Z"
    }
   },
   "outputs": [],
   "source": [
    "\n",
    "i = 0\n",
    "p = [400, 35, 23, 2]\n",
    "model = gen_model(p)\n"
   ]
  },
  {
   "cell_type": "code",
   "execution_count": null,
   "metadata": {
    "ExecuteTime": {
     "end_time": "2021-05-13T14:31:41.539185Z",
     "start_time": "2021-05-13T14:31:41.531735Z"
    }
   },
   "outputs": [],
   "source": [
    "nr = 10\n",
    "view_letter = 15\n",
    "iv = X[view_letter]\n",
    "iv = iv.unsqueeze(0).unsqueeze(0).unsqueeze(0)\n",
    "iv = iv.unsqueeze(-1)\n",
    "iv1 = iv.repeat(1,1,1,1,nr)\n",
    "iv2 = iv.repeat(1,1,1,1,nr*2)\n",
    "iv_5 = iv.repeat(1,1,1,1,int(nr/2))\n",
    "iv1 = iv1.reshape(-1)\n",
    "iv2 = iv2.reshape(-1)\n",
    "iv_5 = iv_5.reshape(-1)"
   ]
  },
  {
   "cell_type": "code",
   "execution_count": null,
   "metadata": {
    "ExecuteTime": {
     "end_time": "2021-05-13T14:31:42.253858Z",
     "start_time": "2021-05-13T14:31:42.243888Z"
    }
   },
   "outputs": [],
   "source": [
    "\n",
    "\n",
    "inp = X[view_letter].unsqueeze(0).unsqueeze(0).unsqueeze(0)\n",
    "inp = inp.unsqueeze(-1)\n",
    "inp = inp.repeat(1,1,1,1,Trainscale)\n",
    "inp = inp.reshape(1,1,1,-1)\n",
    "outN = model.sithcon_layers[0].sithcon.sith(inp)\n",
    "out = outN.transpose(3,1)\n",
    "coutN = model.sithcon_layers[0].sithcon.conv(out.reshape(-1, 1, out.shape[2], out.shape[3]))\n",
    "\n",
    "\n",
    "inp = X[view_letter].unsqueeze(0).unsqueeze(0).unsqueeze(0)\n",
    "inp = inp.unsqueeze(-1)\n",
    "inp = inp.repeat(1,1,1,1,Trainscale*2)\n",
    "inp = inp.reshape(1,1,1,-1)\n",
    "outS = model.sithcon_layers[0].sithcon.sith(inp)\n",
    "out = outS.transpose(3,1)\n",
    "coutS = model.sithcon_layers[0].sithcon.conv(out.reshape(-1, 1, out.shape[2], out.shape[3]))\n",
    "\n",
    "inp = X[view_letter].unsqueeze(0).unsqueeze(0).unsqueeze(0)\n",
    "inp = inp.unsqueeze(-1)\n",
    "inp = inp.repeat(1,1,1,1,int(Trainscale/2))\n",
    "inp = inp.reshape(1,1,1,-1)\n",
    "outF = model.sithcon_layers[0].sithcon.sith(inp)\n",
    "out = outF.transpose(3,1)\n",
    "coutF = model.sithcon_layers[0].sithcon.conv(out.reshape(-1, 1, out.shape[2], out.shape[3]))\n"
   ]
  },
  {
   "cell_type": "code",
   "execution_count": null,
   "metadata": {
    "ExecuteTime": {
     "end_time": "2021-05-13T14:56:03.331187Z",
     "start_time": "2021-05-13T14:56:02.054771Z"
    }
   },
   "outputs": [],
   "source": [
    "linew = 10\n",
    "Trainscale=5\n",
    "view_channel = 10\n",
    "view_times = [-1, -1]\n",
    "view_letter = 15\n",
    "Testscale = 20\n",
    "relu = nn.ReLU()\n",
    "with sn.plotting_context(\"notebook\", font_scale=4.8):\n",
    "    fig = plt.figure(figsize=(65,15), )\n",
    "    spec = gridspec.GridSpec(nrows=1, ncols=4, hspace=.1, wspace=.15,\n",
    "                             figure=fig)\n",
    "    ax = fig.add_subplot(spec[0])\n",
    "\n",
    "    ax.step(range(-iv_5.shape[0], 0),\n",
    "            iv_5.cpu()+2.2,\n",
    "            linewidth=linew,\n",
    "            color=pal[2])\n",
    "    ax.step(range(-iv1.shape[0], 0),\n",
    "            iv1.cpu()+1.1,\n",
    "            linewidth=linew,\n",
    "            color=pal[0])\n",
    "    ax.step(range(-iv2.shape[0], 0),\n",
    "            iv2.cpu(),\n",
    "            linewidth=linew,\n",
    "            color=pal[1])\n",
    "    ax.axvline(0, color='red', linewidth=12)\n",
    "    ax.legend(['Fast Scale', 'Normal Scale', 'Slow Scale'])\n",
    "    ax.grid()\n",
    "    ax.set_yticks([0, .55, 1.1,(3.3/2), 2.2])\n",
    "\n",
    "    ax.set_yticklabels([\"\"])\n",
    "    ax.set_xticks(np.arange(-iv2.shape[0], 1, 50),)\n",
    "    ax.set_xticklabels([\"\"]*6+[\"Now\"])\n",
    "    ax.set_ylabel('Input Signals')\n",
    "    ax.set_xlabel('Time')\n",
    "    \n",
    "    ax = fig.add_subplot(spec[1])\n",
    "    \n",
    "\n",
    "    ax.plot(np.arange(-outN.shape[1], 0),\n",
    "            outN[0, :, 0, -1].detach().cpu().numpy()[::-1]+1.1,\n",
    "            linewidth=linew)\n",
    "    ax.plot(np.arange(-outS.shape[1], 0),\n",
    "            outS[0, :, 0, -1].detach().cpu().numpy()[::-1],\n",
    "            linewidth=linew)    \n",
    "    ax.plot(np.arange(-outF.shape[1], 0),\n",
    "            outF[0, :, 0, -1].detach().cpu().numpy()[::-1]+2.2,\n",
    "            linewidth=linew)\n",
    "    ax.axvline(0, color='red', linewidth=12)\n",
    "    ax.grid()\n",
    "    ax.set_yticks([0, .55, 1.1,(3.3/2), 2.2])\n",
    "    ax.set_yticklabels([\"\"])\n",
    "    ax.set_xticks(np.arange(-outN.shape[1], 1, 50),)\n",
    "    ax.set_xticklabels([\"\"]*8+[\"Now\"])\n",
    "    ax.set_ylabel('SITH Output')\n",
    "    ax.set_xlabel(r\"Compressed Time\")\n",
    "    \n",
    "    ax = fig.add_subplot(spec[2])\n",
    "    c=9\n",
    "    #ax.axhline(2.2, color='black', linewidth=int(linew/4))\n",
    "    #ax.axhline(1.1, color='black', linewidth=int(linew/4))\n",
    "    #ax.axhline(0, color='black', linewidth=int(linew/4))    \n",
    "    ax.plot(np.arange(-coutN.shape[-1], 0), \n",
    "            coutN[-1, c, 0, :].detach().cpu().numpy()[::-1]+1.1,\n",
    "            linewidth=linew);\n",
    "    \n",
    "    ax.plot(np.arange(-coutS.shape[-1], 0), \n",
    "            coutS[-1, c, 0, :].detach().cpu().numpy()[::-1],\n",
    "            linewidth=linew);\n",
    "    \n",
    "    ax.plot(np.arange(-coutF.shape[-1], 0), \n",
    "            coutF[-1, c, 0, :].detach().cpu().numpy()[::-1]+2.2,\n",
    "            linewidth=linew);\n",
    "    \n",
    "    #ax.axvline(0, color='red', linewidth=12)    \n",
    "    ax.grid()\n",
    "    ax.set_xlabel('')\n",
    "    ax.set_yticks([0, .55, 1.1,(3.3/2), 2.2])\n",
    "    ax.set_yticklabels([\"\"])\n",
    "    ax.set_xticklabels([\"\"])\n",
    "    ax.set_ylabel('Conv Output')\n",
    "    ax.set_xlabel('Conv Index')\n",
    "    \n",
    "    ax = fig.add_subplot(spec[3])\n",
    "    ax.set_yticklabels([\"\"])\n",
    "    ax.set_xticklabels([\"\"])\n",
    "    ax.set_ylabel('MaxPool Output')\n",
    "    ax.set_xlabel('Scales')\n",
    "    ax.axhline(1.1, linewidth=linew)\n",
    "    ax.axhline(0, linewidth=linew)\n",
    "    ax.plot(np.arange(-coutN.shape[-1], 0), \n",
    "            coutN[-1, c, 0, :].detach().cpu().numpy()[::-1]+1.1,\n",
    "            linewidth=10);\n",
    "\n",
    "    ax.plot(np.arange(-coutS.shape[-1], 0), \n",
    "            coutS[-1, c, 0, :].detach().cpu().numpy()[::-1],\n",
    "            linewidth=10);\n",
    "\n",
    "    ax.plot(np.arange(-coutF.shape[-1], 0), \n",
    "            coutF[-1, c, 0, :].detach().cpu().numpy()[::-1]+2.2,\n",
    "            linewidth=10);\n",
    "    ax.axhline(2.2, linewidth=linew)\n",
    "    ax.grid()\n",
    "\n",
    "plt.savefig(join('figs', '3scale_whySITHworks.png'), dpi=150,  transparent=True)\n",
    "plt.savefig(join('figs', '3scale_whySITHworks.pdf'), dpi=150,  transparent=True)\n",
    "plt.savefig(join('figs', '3scale_whySITHworks.svg'), dpi=150,  transparent=True)"
   ]
  },
  {
   "cell_type": "code",
   "execution_count": null,
   "metadata": {
    "ExecuteTime": {
     "end_time": "2021-05-13T14:29:10.000652Z",
     "start_time": "2021-05-13T14:29:09.995630Z"
    }
   },
   "outputs": [],
   "source": [
    "coutF.shape"
   ]
  },
  {
   "cell_type": "code",
   "execution_count": null,
   "metadata": {
    "ExecuteTime": {
     "end_time": "2021-05-13T14:25:09.240875Z",
     "start_time": "2021-05-13T14:25:08.836470Z"
    }
   },
   "outputs": [],
   "source": [
    "linew = 4\n",
    "Trainscale=5\n",
    "view_channel = 4\n",
    "view_times = [-1, -1]\n",
    "view_letter = 15\n",
    "Testscale = 20\n",
    "relu = nn.ReLU()\n",
    "with sn.plotting_context(\"notebook\", font_scale=4.8):\n",
    "    fig = plt.figure(figsize=(60,15), )\n",
    "    spec = gridspec.GridSpec(nrows=1, ncols=3, hspace=.1, wspace=.1,\n",
    "                             figure=fig)\n",
    "    ax = fig.add_subplot(spec[0])\n",
    "\n",
    "    ax.step(range(iv_5.shape[0]),\n",
    "            iv_5.cpu()+2.2,\n",
    "            linewidth=5,\n",
    "            color=pal[2])\n",
    "    ax.step(range(iv1.shape[0]),\n",
    "            iv1.cpu()+1.1,\n",
    "            linewidth=5,\n",
    "            color=pal[0])\n",
    "    ax.step(range(iv2.shape[0]),\n",
    "            iv2.cpu(),\n",
    "            linewidth=5,\n",
    "            color=pal[1])\n",
    "    ax.legend(['Fast Scale', 'Normal Scale', 'Slow Scale'])\n",
    "    ax.grid()\n",
    "    ax.set_yticklabels([\"\"])\n",
    "    ax.set_xticklabels([\"\"])\n",
    "    ax.set_ylabel('Input Signals')\n",
    "    ax.set_xlabel('Input Images')\n",
    "    \n",
    "    ax = fig.add_subplot(spec[1])\n",
    "    ax.plot(outN[0, :, 0, -1].detach().cpu().numpy()+1.1,\n",
    "       linewidth=10)\n",
    "    ax.plot(outS[0, :, 0, -1].detach().cpu().numpy(),\n",
    "       linewidth=10)    \n",
    "    ax.plot(outF[0, :, 0, -1].detach().cpu().numpy()+2.2,\n",
    "       linewidth=10)\n",
    "    ax.grid()\n",
    "    ax.set_yticklabels([\"\"])\n",
    "    ax.set_xticklabels([\"\"])\n",
    "    ax.set_ylabel('SITH Output')\n",
    "    ax.set_xlabel(\"2d-Conv Output\")\n",
    "    \n",
    "    ax = fig.add_subplot(spec[2])\n",
    "    c=5\n",
    "    ax.plot(np.arange(0, coutN.shape[0]), \n",
    "            coutN[:, c, 0, :].detach().cpu().T.max(0)[0]+1.1,\n",
    "            linewidth=10);\n",
    "    ax.plot(np.arange(0, coutS.shape[0]), \n",
    "            coutS[:, c, 0, :].detach().cpu().T.max(0)[0],\n",
    "            linewidth=10);\n",
    "    ax.plot(np.arange(0, coutF.shape[0]), \n",
    "            coutF[:, c, 0, :].detach().cpu().T.max(0)[0]+2.2,\n",
    "            linewidth=10);\n",
    "    ax.grid()\n",
    "    ax.set_xlabel('2d-MaxPool Output')\n",
    "    ax.set_yticklabels([\"\"])\n",
    "    ax.set_xticklabels([\"\"])\n",
    "    ax.set_ylabel('MaxPool Output')\n",
    "\n",
    "plt.savefig(join('figs', 'words_i_need.svg'), dpi=150,  transparent=True)"
   ]
  },
  {
   "cell_type": "code",
   "execution_count": null,
   "metadata": {
    "ExecuteTime": {
     "end_time": "2021-05-13T14:24:14.764158Z",
     "start_time": "2021-05-13T14:24:14.752801Z"
    }
   },
   "outputs": [],
   "source": [
    "inp = X[view_letter].unsqueeze(0).unsqueeze(0)\n",
    "inp = inp.unsqueeze(-1)\n",
    "inp = inp.repeat(1,1,1,Trainscale)\n",
    "inp = inp.reshape(1,1,-1)\n",
    "coutN = conv_layer(inp)\n",
    "print(outN.shape)\n",
    "#coutN = model.sithcon_layers[0].sithcon.conv(out.reshape(-1, 1, out.shape[2], out.shape[3]))\n",
    "\n",
    "\n",
    "inp = X[view_letter].unsqueeze(0).unsqueeze(0)\n",
    "inp = inp.unsqueeze(-1)\n",
    "inp = inp.repeat(1,1,1,Trainscale*2)\n",
    "inp = inp.reshape(1,1,-1)\n",
    "coutS = conv_layer(inp)\n",
    "print(outN.shape)\n",
    "\n",
    "inp = X[view_letter].unsqueeze(0).unsqueeze(0)\n",
    "inp = inp.unsqueeze(-1)\n",
    "inp = inp.repeat(1,1,1,int(Trainscale/2))\n",
    "inp = inp.reshape(1,1,-1)\n",
    "coutF = conv_layer(inp)\n"
   ]
  },
  {
   "cell_type": "code",
   "execution_count": null,
   "metadata": {},
   "outputs": [],
   "source": []
  },
  {
   "cell_type": "code",
   "execution_count": null,
   "metadata": {
    "ExecuteTime": {
     "end_time": "2021-05-10T19:50:42.817732Z",
     "start_time": "2021-05-10T19:50:42.563572Z"
    }
   },
   "outputs": [],
   "source": [
    "linew = 4\n",
    "Trainscale=5\n",
    "view_channel = 4\n",
    "view_times = [-1, -1]\n",
    "view_letter = 15\n",
    "Testscale = 20\n",
    "relu = nn.ReLU()\n",
    "with sn.plotting_context(\"notebook\", font_scale=4.8):\n",
    "    fig = plt.figure(figsize=(40,15), )\n",
    "    spec = gridspec.GridSpec(nrows=1, ncols=2, hspace=.1, wspace=.1,\n",
    "                             figure=fig)\n",
    "    ax = fig.add_subplot(spec[0])\n",
    "\n",
    "    ax.step(range(iv_5.shape[0]),\n",
    "            iv_5.cpu()+2.2,\n",
    "            linewidth=5,\n",
    "            color=pal[2])\n",
    "    ax.step(range(iv1.shape[0]),\n",
    "            iv1.cpu()+1.1,\n",
    "            linewidth=5,\n",
    "            color=pal[0])\n",
    "    ax.step(range(iv2.shape[0]),\n",
    "            iv2.cpu(),\n",
    "            linewidth=5,\n",
    "            color=pal[1])\n",
    "    ax.legend(['Fast Scale', 'Normal Scale', 'Slow Scale'])\n",
    "    ax.grid()\n",
    "    ax.set_yticklabels([\"\"])\n",
    "    ax.set_xticklabels([\"\"])\n",
    "    ax.set_ylabel('Input Signals')\n",
    "    ax.set_xlabel('Time')\n",
    "    \n",
    "    ax = fig.add_subplot(spec[1])\n",
    "    ax.plot(outN[0, :, 0, -1].detach().cpu().numpy()+1.1,\n",
    "       linewidth=10)\n",
    "    ax.plot(outS[0, :, 0, -1].detach().cpu().numpy(),\n",
    "       linewidth=10)    \n",
    "    ax.plot(outF[0, :, 0, -1].detach().cpu().numpy()+2.2,\n",
    "       linewidth=10)\n",
    "    ax.grid()\n",
    "    ax.set_yticklabels([\"\"])\n",
    "    ax.set_xticklabels([\"\"])\n",
    "    ax.set_ylabel('SITH Output')\n",
    "    ax.set_xlabel(r\"$\\tau^*$ Index\")\n",
    "\n",
    "plt.savefig(join('figs', '3scale_whySITHworks.png'), dpi=150)\n",
    "plt.savefig(join('figs', '3scale_whySITHworks.pdf'), dpi=150)"
   ]
  },
  {
   "cell_type": "code",
   "execution_count": null,
   "metadata": {},
   "outputs": [],
   "source": []
  }
 ],
 "metadata": {
  "kernelspec": {
   "display_name": "Python 3",
   "language": "python",
   "name": "python3"
  },
  "language_info": {
   "codemirror_mode": {
    "name": "ipython",
    "version": 3
   },
   "file_extension": ".py",
   "mimetype": "text/x-python",
   "name": "python",
   "nbconvert_exporter": "python",
   "pygments_lexer": "ipython3",
   "version": "3.6.10"
  },
  "toc": {
   "nav_menu": {},
   "number_sections": true,
   "sideBar": true,
   "skip_h1_title": false,
   "title_cell": "Table of Contents",
   "title_sidebar": "Contents",
   "toc_cell": false,
   "toc_position": {},
   "toc_section_display": true,
   "toc_window_display": false
  }
 },
 "nbformat": 4,
 "nbformat_minor": 4
}
