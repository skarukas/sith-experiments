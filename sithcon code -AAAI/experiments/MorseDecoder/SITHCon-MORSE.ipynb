{
 "cells": [
  {
   "cell_type": "code",
   "execution_count": null,
   "metadata": {
    "ExecuteTime": {
     "end_time": "2021-08-10T15:32:04.051529Z",
     "start_time": "2021-08-10T15:32:03.880663Z"
    }
   },
   "outputs": [],
   "source": [
    "%matplotlib inline"
   ]
  },
  {
   "cell_type": "code",
   "execution_count": null,
   "metadata": {
    "ExecuteTime": {
     "end_time": "2021-08-10T15:32:04.633151Z",
     "start_time": "2021-08-10T15:32:04.070564Z"
    }
   },
   "outputs": [],
   "source": [
    "import matplotlib.pyplot as plt\n",
    "import seaborn as sn\n",
    "sn.set_context(\"poster\")\n",
    "\n",
    "import torch\n",
    "from torch import nn as nn\n",
    "print(torch.cuda.is_available() )\n",
    "ttype = torch.cuda.FloatTensor if torch.cuda.is_available() else torch.FloatTensor\n",
    "ctype = torch.cuda.LongTensor if torch.cuda.is_available() else torch.LongTensor\n",
    "print(ttype)\n",
    "import torch.nn.functional as F\n",
    "from matplotlib import gridspec\n",
    "from sithcon import SITHCon_Layer, _SITHCon_Core, iSITH\n",
    "\n",
    "from tqdm.notebook import tqdm\n",
    "\n",
    "import itertools\n",
    "from csv import DictWriter\n",
    "import os \n",
    "from os.path import join\n",
    "import glob\n",
    "\n",
    "import numpy as np\n",
    "import pandas as pd\n",
    "import pickle\n",
    "from math import factorial\n",
    "import random"
   ]
  },
  {
   "cell_type": "code",
   "execution_count": null,
   "metadata": {
    "ExecuteTime": {
     "end_time": "2021-08-10T15:32:04.637690Z",
     "start_time": "2021-08-10T15:32:04.634390Z"
    }
   },
   "outputs": [],
   "source": [
    "MORSE_CODE_DICT = { 'A':'.-', 'B':'-...', \n",
    "                    'C':'-.-.', 'D':'-..', 'E':'.', \n",
    "                    'F':'..-.', 'G':'--.', 'H':'....', \n",
    "                    'I':'..', 'J':'.---', 'K':'-.-', \n",
    "                    'L':'.-..', 'M':'--', 'N':'-.', \n",
    "                    'O':'---', 'P':'.--.', 'Q':'--.-', \n",
    "                    'R':'.-.', 'S':'...', 'T':'-', \n",
    "                    'U':'..-', 'V':'...-', 'W':'.--', \n",
    "                    'X':'-..-', 'Y':'-.--', 'Z':'--..', \n",
    "                    '1':'.----', '2':'..---', '3':'...--', \n",
    "                    '4':'....-', '5':'.....', '6':'-....', \n",
    "                    '7':'--...', '8':'---..', '9':'----.', \n",
    "                    '0':'-----', ', ':'--..--', '.':'.-.-.-', \n",
    "                    '?':'..--..', '/':'-..-.', '-':'-....-', \n",
    "                    '(':'-.--.', ')':'-.--.-'} "
   ]
  },
  {
   "cell_type": "code",
   "execution_count": null,
   "metadata": {
    "ExecuteTime": {
     "end_time": "2021-08-10T15:32:05.577134Z",
     "start_time": "2021-08-10T15:32:04.638735Z"
    },
    "scrolled": true
   },
   "outputs": [],
   "source": [
    "morse_code_numpy = {key:np.array([int(x) for x in MORSE_CODE_DICT[key].replace('.', '10').replace('-', '1110')] + [0, 0])\n",
    "                    for key in MORSE_CODE_DICT.keys()}\n",
    "\n",
    "for k in morse_code_numpy.keys():\n",
    "    print(morse_code_numpy[k], k)\n",
    "subset = list(morse_code_numpy.keys())\n",
    "\n",
    "id2key = subset\n",
    "key2id = {}\n",
    "for idx, s in enumerate(subset):\n",
    "    key2id[s] = idx\n",
    "    print(len(morse_code_numpy[s])*10)\n",
    "\n",
    "X = [ttype(morse_code_numpy[k])for k in subset]\n",
    "Y = torch.LongTensor(np.arange(0,len(X)))\n",
    "print(X, Y)"
   ]
  },
  {
   "cell_type": "code",
   "execution_count": null,
   "metadata": {
    "ExecuteTime": {
     "end_time": "2021-08-10T15:32:05.582628Z",
     "start_time": "2021-08-10T15:32:05.578188Z"
    }
   },
   "outputs": [],
   "source": [
    "class SITHCon_Classifier(nn.Module):\n",
    "    def __init__(self, out_classes, layer_params, \n",
    "                 act_func=nn.ReLU, batch_norm=False,\n",
    "                 dropout=.2):\n",
    "        super(SITHCon_Classifier, self).__init__()\n",
    "        last_channels = layer_params[-1]['channels']\n",
    "        self.transform_linears = nn.ModuleList([nn.Linear(l['channels'], l['channels'])\n",
    "                                                for l in layer_params])\n",
    "        self.sithcon_layers = nn.ModuleList([SITHCon_Layer(l, act_func) for l in layer_params])\n",
    "        self.to_out = nn.Linear(last_channels, out_classes)\n",
    "        \n",
    "        \n",
    "    def forward(self, inp):\n",
    "        \n",
    "        x = inp\n",
    "        #out = []\n",
    "        for i in range(len(self.sithcon_layers)):\n",
    "            x = self.sithcon_layers[i](x)\n",
    "            \n",
    "            x = F.relu(self.transform_linears[i](x[:,0,:,:].transpose(1,2)))\n",
    "            x = x.unsqueeze(1).transpose(2,3)\n",
    "\n",
    "            #out.append(x.clone())\n",
    "        x = x.transpose(2,3)[:, 0, :, :]\n",
    "        #x = x.transpose(2,3)[:, 0, :, :]\n",
    "        x = self.to_out(x)\n",
    "        return x"
   ]
  },
  {
   "cell_type": "code",
   "execution_count": null,
   "metadata": {
    "ExecuteTime": {
     "end_time": "2021-08-10T15:32:05.594837Z",
     "start_time": "2021-08-10T15:32:05.583395Z"
    }
   },
   "outputs": [],
   "source": [
    "def gen_model(p):\n",
    "    sp1 = dict(in_features=1, \n",
    "               tau_min=.1, tau_max=p[0], buff_max=p[5],\n",
    "               dt=1, ntau=p[1], k=p[2], g=0.0, ttype=ttype, \n",
    "               channels=25, kernel_width=p[3], dilation=p[4],\n",
    "               dropout=None, batch_norm=None)\n",
    "    sp2 = dict(in_features=sp1['channels'], \n",
    "               tau_min=.1, tau_max=p[0], buff_max=p[5],\n",
    "               dt=1, ntau=p[1], k=p[2], g=0.0, ttype=ttype, \n",
    "               channels=25, kernel_width=p[3], dilation=p[4], \n",
    "               dropout=None, batch_norm=None)\n",
    "    sp3 = dict(in_features=sp2['channels'], \n",
    "               tau_min=.1, tau_max=p[0], buff_max=p[5],\n",
    "               dt=1, ntau=p[1], k=p[2], g=0.0, ttype=ttype, \n",
    "               channels=25, kernel_width=p[3], dilation=p[4], \n",
    "               dropout=None, batch_norm=None)\n",
    "    layer_params = [sp1, sp2, sp3]\n",
    "    model = SITHCon_Classifier(len(X), layer_params, act_func=None).cuda()\n",
    "    return model\n"
   ]
  },
  {
   "cell_type": "code",
   "execution_count": null,
   "metadata": {
    "ExecuteTime": {
     "end_time": "2021-08-10T15:32:05.700854Z",
     "start_time": "2021-08-10T15:32:05.595769Z"
    }
   },
   "outputs": [],
   "source": [
    "params = [[4000, 400, 35, 23, 2, 6500],]\n",
    "model = gen_model(params[0])\n",
    "tot_weights = 0\n",
    "for p in model.parameters():\n",
    "    tot_weights += p.numel()\n",
    "print(\"Total Weights:\", tot_weights)\n",
    "c = model.sithcon_layers[0].sithcon.sith.c\n",
    "print(c)\n",
    "ntau = 320\n",
    "m = .1\n",
    "maxt = m*(c+1)**(ntau-1)\n",
    "print(maxt)\n",
    "params.append([maxt, ntau, 35, 23, 2, maxt*3])"
   ]
  },
  {
   "cell_type": "markdown",
   "metadata": {},
   "source": [
    "# Two Layers"
   ]
  },
  {
   "cell_type": "code",
   "execution_count": null,
   "metadata": {
    "ExecuteTime": {
     "end_time": "2021-08-10T15:32:06.184611Z",
     "start_time": "2021-08-10T15:32:06.015705Z"
    }
   },
   "outputs": [],
   "source": [
    "p = [400, 35, 23, 2]\n",
    "\n",
    "sp1 = dict(in_features=1, \n",
    "           tau_min=.1, tau_max=4000, buff_max=6500,\n",
    "           dt=1, ntau=p[0], k=p[1], g=0.0, ttype=ttype, \n",
    "           channels=35, kernel_width=p[2], dilation=p[3],\n",
    "           dropout=None, batch_norm=None)\n",
    "sp2 = dict(in_features=sp1['channels'], \n",
    "           tau_min=.1, tau_max=4000, buff_max=6500,\n",
    "           dt=1, ntau=p[0], k=p[1], g=0.0, ttype=ttype, \n",
    "           channels=35, kernel_width=p[2], dilation=p[3], \n",
    "           dropout=None, batch_norm=None)\n",
    "sp3 = dict(in_features=sp2['channels'], \n",
    "           tau_min=.1, tau_max=4000, buff_max=6500,\n",
    "           dt=1, ntau=p[0], k=p[1], g=0.0, ttype=ttype, \n",
    "           channels=35, kernel_width=p[2], dilation=p[3], \n",
    "           dropout=None, batch_norm=None)\n",
    "\n",
    "# TWO LAYERS\n",
    "layer_params = [sp1, sp2]#, sp3]\n",
    "\n",
    "\n",
    "model = SITHCon_Classifier(len(X), layer_params, act_func=nn.ReLU).cuda()\n",
    "model\n",
    "tot_weights = 0\n",
    "for p in model.parameters():\n",
    "    tot_weights += p.numel()\n",
    "print(\"Total Weights:\", tot_weights)\n",
    "print(model)"
   ]
  },
  {
   "cell_type": "code",
   "execution_count": null,
   "metadata": {
    "ExecuteTime": {
     "end_time": "2021-08-10T15:32:10.990129Z",
     "start_time": "2021-08-10T15:32:06.833719Z"
    }
   },
   "outputs": [],
   "source": [
    "runs = 5\n",
    "epochs = 1000\n",
    "\n",
    "for r in range(runs):\n",
    "    model = gen_model(params[1]).cuda()\n",
    "\n",
    "\n",
    "    \n",
    "    #model.load_state_dict(torch.load(join('perf','sithcon_morsedecoder_run_{}.pt'.format(r))))\n",
    "    perf_file = join('perf','sithcon_morsedecoder_run_smol_{}.csv'.format(r))\n",
    "    loss_func = torch.nn.CrossEntropyLoss()\n",
    "    optimizer = torch.optim.Adam(model.parameters())\n",
    "    Trainscale = 10\n",
    "    device='cuda'\n",
    "    batch_size = 8\n",
    "    batches = int(np.ceil(43 / batch_size))\n",
    "    progress_bar = tqdm(range(int(epochs)), bar_format='{l_bar}{bar:5}{r_bar}{bar:-5b}')\n",
    "    times_100 = 0\n",
    "    for epoch_idx in progress_bar:\n",
    "        perfs = []\n",
    "        losses = []\n",
    "        model.train()\n",
    "        for batch_idx in range(batches):\n",
    "            optimizer.zero_grad()\n",
    "            loss = 0\n",
    "            permute = np.arange(0, 43)\n",
    "            for i in range(0, int(min(len(X) - (batch_idx*batch_size), \n",
    "                                  batch_size))\n",
    "                           ):\n",
    "                iv = X[permute[batch_idx*batch_size + i]]\n",
    "                iv = iv.unsqueeze(0).unsqueeze(0).unsqueeze(0).to(device)\n",
    "                iv = iv.unsqueeze(-1)\n",
    "                iv = iv.repeat(1,1,1,1,Trainscale)\n",
    "                iv = iv.reshape(1,1,1,-1)\n",
    "                tv = Y[permute[batch_idx*batch_size + i]].to(device)\n",
    "                optimizer.zero_grad()\n",
    "                out = model(iv)\n",
    "                loss += loss_func(out[:, -1, :],\n",
    "                                 torch.cuda.LongTensor([tv]))\n",
    "                perfs.append((torch.argmax(out[:, -1, :], dim=-1) == \n",
    "                          tv).sum().item())\n",
    "            loss = loss / min(len(X) - (batch_idx*batch_size), \n",
    "                              batch_size)\n",
    "            loss.backward()\n",
    "            optimizer.step()\n",
    "\n",
    "\n",
    "            #perfs = perfs[int(-loss_buffer_size/batch_size):]\n",
    "            losses.append(loss.detach().cpu().numpy())\n",
    "            #losses = losses[int(-loss_buffer_size/batch_size):]\n",
    "\n",
    "\n",
    "            s = \"{}:{:2} Loss: {:.4f}, Perf: {:.4f}\"\n",
    "            format_list = [epoch_idx, batch_idx, np.mean(losses), \n",
    "                           np.sum(perfs)/((len(perfs)))]\n",
    "            s = s.format(*format_list)\n",
    "            progress_bar.set_description(s)\n",
    "        if (np.sum(perfs)/((len(perfs))) == 1.0) & (np.mean(losses) < .11):\n",
    "            times_100 += 1\n",
    "            if times_100 >= 10:\n",
    "                break\n",
    "        else:\n",
    "            times_100 = 0\n",
    "    torch.save(model.state_dict(), perf_file[:-4]+\".pt\")"
   ]
  },
  {
   "cell_type": "markdown",
   "metadata": {},
   "source": [
    "# TEST\n"
   ]
  },
  {
   "cell_type": "code",
   "execution_count": null,
   "metadata": {
    "ExecuteTime": {
     "end_time": "2021-06-04T18:41:53.375047Z",
     "start_time": "2021-06-04T18:41:53.242941Z"
    }
   },
   "outputs": [],
   "source": [
    "params = [[4000, 400, 35, 23, 2, 6500],]\n",
    "model = gen_model(params[0])\n",
    "tot_weights = 0\n",
    "for p in model.parameters():\n",
    "    tot_weights += p.numel()\n",
    "print(\"Total Weights:\", tot_weights)\n",
    "c = model.sithcon_layers[0].sithcon.sith.c\n",
    "print(c)\n"
   ]
  },
  {
   "cell_type": "code",
   "execution_count": null,
   "metadata": {
    "ExecuteTime": {
     "end_time": "2021-06-04T18:42:09.571539Z",
     "start_time": "2021-06-04T18:42:06.403777Z"
    }
   },
   "outputs": [],
   "source": [
    "ntau =550\n",
    "m = .1\n",
    "maxt = m*(c+1)**(ntau-1)\n",
    "print(maxt)\n",
    "params.append([maxt, ntau, 35, 23, 2, maxt*3])\n",
    "model = gen_model(params[1])"
   ]
  },
  {
   "cell_type": "code",
   "execution_count": null,
   "metadata": {
    "ExecuteTime": {
     "end_time": "2021-06-04T18:42:11.751885Z",
     "start_time": "2021-06-04T18:42:11.744959Z"
    }
   },
   "outputs": [],
   "source": [
    "model.load_state_dict(torch.load(join('perf','sithcon_morsedecoder_run_smol_{}.pt'.format(0))))"
   ]
  },
  {
   "cell_type": "code",
   "execution_count": null,
   "metadata": {
    "ExecuteTime": {
     "end_time": "2021-06-04T18:43:10.588029Z",
     "start_time": "2021-06-04T18:42:13.655636Z"
    }
   },
   "outputs": [],
   "source": [
    "runs = 5\n",
    "device = 'cuda'\n",
    "for r in range(runs):\n",
    "    #model.load_state_dict(torch.load(join('perf','sithcon_morsedecoder_run_{}.pt'.format(r))))\n",
    "    model.eval()\n",
    "    with torch.no_grad():\n",
    "\n",
    "        evald = []\n",
    "        evaldDict = {'perf':[],\n",
    "                     'scale':[]}\n",
    "        for nr in [1,2,4,5,8,10,12,25,50,100,125,250,500,1000]:\n",
    "        #for nr in range(1,40,):\n",
    "            perfs = []\n",
    "            for batch_idx, iv in enumerate(X):\n",
    "                iv = iv.unsqueeze(0).unsqueeze(0).unsqueeze(0).to(device)\n",
    "                iv = iv.unsqueeze(-1)\n",
    "                iv = iv.repeat(1,1,1,1,nr)\n",
    "                iv = iv.reshape(1,1,1,-1)\n",
    "                tv = Y[batch_idx].to(device)\n",
    "                out = model(iv)\n",
    "\n",
    "                perfs.append((torch.argmax(out[:, -1, :], dim=-1) == \n",
    "                              tv).sum().item())\n",
    "            evaldDict['perf'].append(sum(perfs)/len(perfs))\n",
    "            evaldDict['scale'].append(nr)\n",
    "            print(nr, sum(perfs)/len(perfs))\n",
    "            evald.append([nr, sum(perfs)/(len(perfs)*1.0)])\n",
    "        scale_perfs = pd.DataFrame(evaldDict)\n",
    "        #scale_perfs.to_pickle(join(\"perf\", \"sithcon_morse_test_{}.dill\".format(r)))"
   ]
  },
  {
   "cell_type": "code",
   "execution_count": null,
   "metadata": {
    "ExecuteTime": {
     "end_time": "2021-05-27T19:54:47.229384Z",
     "start_time": "2021-05-27T19:54:45.555721Z"
    }
   },
   "outputs": [],
   "source": [
    "model.load_state_dict(torch.load(join('perf','sithcon_morsedecoder_run_{}.pt'.format(0))))\n",
    "model.eval()\n",
    "with torch.no_grad():\n",
    "\n",
    "    evald = []\n",
    "    evaldDict = {'perf':[],\n",
    "                 'scale':[]}\n",
    "    for nr in [1,2,4,8,10,12,25,50,100,125,250,500,1000]:\n",
    "    #for nr in range(1,40,):\n",
    "        perfs = []\n",
    "        for batch_idx, iv in enumerate(X):\n",
    "            iv = iv.unsqueeze(0).unsqueeze(0).unsqueeze(0).to(device)\n",
    "            iv = iv.unsqueeze(-1)\n",
    "            iv = iv.repeat(1,1,1,1,nr)\n",
    "            iv = iv.reshape(1,1,1,-1)\n",
    "            tv = Y[batch_idx].to(device)\n",
    "            out = model(iv)\n",
    "\n",
    "            perfs.append((torch.argmax(out[:, -1, :], dim=-1) == \n",
    "                          tv).sum().item())\n",
    "        evaldDict['perf'].append(sum(perfs)/len(perfs))\n",
    "        evaldDict['scale'].append(nr)\n",
    "        print(nr, sum(perfs)/len(perfs))\n",
    "        evald.append([nr, sum(perfs)/(len(perfs)*1.0)])\n",
    "    scale_perfs = pd.DataFrame(evaldDict)"
   ]
  },
  {
   "cell_type": "code",
   "execution_count": null,
   "metadata": {
    "ExecuteTime": {
     "end_time": "2021-05-24T19:48:25.052852Z",
     "start_time": "2021-05-24T19:48:24.706351Z"
    }
   },
   "outputs": [],
   "source": [
    "scale_perfs['adjscale'] = scale_perfs.scale / 10.\n",
    "sn.lineplot(data=scale_perfs, x='scale', y='perf')\n",
    "plt.xscale('log')\n",
    "plt.grid()\n"
   ]
  },
  {
   "cell_type": "code",
   "execution_count": null,
   "metadata": {},
   "outputs": [],
   "source": []
  }
 ],
 "metadata": {
  "kernelspec": {
   "display_name": "Python 3",
   "language": "python",
   "name": "python3"
  },
  "language_info": {
   "codemirror_mode": {
    "name": "ipython",
    "version": 3
   },
   "file_extension": ".py",
   "mimetype": "text/x-python",
   "name": "python",
   "nbconvert_exporter": "python",
   "pygments_lexer": "ipython3",
   "version": "3.6.10"
  },
  "toc": {
   "nav_menu": {},
   "number_sections": true,
   "sideBar": true,
   "skip_h1_title": false,
   "title_cell": "Table of Contents",
   "title_sidebar": "Contents",
   "toc_cell": false,
   "toc_position": {},
   "toc_section_display": true,
   "toc_window_display": false
  }
 },
 "nbformat": 4,
 "nbformat_minor": 4
}
