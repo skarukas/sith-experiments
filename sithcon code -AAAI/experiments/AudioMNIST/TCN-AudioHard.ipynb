{
 "cells": [
  {
   "cell_type": "code",
   "execution_count": null,
   "metadata": {
    "ExecuteTime": {
     "end_time": "2021-05-23T13:52:47.438917Z",
     "start_time": "2021-05-23T13:52:47.262772Z"
    }
   },
   "outputs": [],
   "source": [
    "%matplotlib inline"
   ]
  },
  {
   "cell_type": "code",
   "execution_count": null,
   "metadata": {
    "ExecuteTime": {
     "end_time": "2021-05-23T13:52:48.109192Z",
     "start_time": "2021-05-23T13:52:47.478632Z"
    }
   },
   "outputs": [],
   "source": [
    "import matplotlib.pyplot as plt\n",
    "import seaborn as sn\n",
    "sn.set_context(\"poster\")\n",
    "\n",
    "import torch\n",
    "from torch import nn as nn\n",
    "ttype = torch.cuda.FloatTensor if torch.cuda.is_available() else torch.FloatTensor\n",
    "ctype = torch.cuda.LongTensor if torch.cuda.is_available() else torch.LongTensor\n",
    "print(ttype)\n",
    "import torch.nn.functional as F\n",
    "from matplotlib import gridspec\n",
    "from sithcon import SITHCon_Layer, _SITHCon_Core, iSITH\n",
    "\n",
    "from tqdm.notebook import tqdm\n",
    "\n",
    "import itertools\n",
    "from csv import DictWriter\n",
    "import os \n",
    "from os.path import join\n",
    "import glob\n",
    "\n",
    "import numpy as np\n",
    "import pandas as pd\n",
    "import pickle\n",
    "from math import factorial\n",
    "import random"
   ]
  },
  {
   "cell_type": "code",
   "execution_count": null,
   "metadata": {
    "ExecuteTime": {
     "end_time": "2021-05-23T13:52:48.112573Z",
     "start_time": "2021-05-23T13:52:48.110467Z"
    }
   },
   "outputs": [],
   "source": [
    "full_path = join('/media', 'root', 'easystore', 'experiments', \n",
    "                 'audiomnist', '01.00', 'AudioMNIST', 'data')"
   ]
  },
  {
   "cell_type": "code",
   "execution_count": null,
   "metadata": {
    "ExecuteTime": {
     "end_time": "2021-05-23T13:53:06.268379Z",
     "start_time": "2021-05-23T13:52:48.113876Z"
    },
    "scrolled": true
   },
   "outputs": [],
   "source": [
    "all_files = pd.read_csv(join('data','files_info.csv'))\n",
    "all_dat = []\n",
    "for f in glob.glob(join(full_path, \"*\")):\n",
    "    print(f)\n",
    "    all_dat.append(np.load(join(full_path, f)))\n",
    "all_dat = np.concatenate(all_dat, axis=0)"
   ]
  },
  {
   "cell_type": "code",
   "execution_count": null,
   "metadata": {
    "ExecuteTime": {
     "end_time": "2021-05-23T13:53:06.274984Z",
     "start_time": "2021-05-23T13:53:06.269485Z"
    }
   },
   "outputs": [],
   "source": [
    "all_files['ind_idx'] = all_files.dat_idx[:]\n",
    "all_files.dat_idx =  (all_files.subjid - 1)*500 + all_files.dat_idx"
   ]
  },
  {
   "cell_type": "code",
   "execution_count": null,
   "metadata": {
    "ExecuteTime": {
     "end_time": "2021-05-23T13:53:14.813265Z",
     "start_time": "2021-05-23T13:53:14.608698Z"
    }
   },
   "outputs": [],
   "source": [
    "trainX = all_dat[list(all_files.loc[(all_files.rec_split<9)&(all_files.subjid!=60), 'dat_idx'])]\n",
    "trainY = np.array(all_files.loc[(all_files.rec_split<9)&(all_files.subjid!=60), 'digit'])\n",
    "testX = all_dat[list(all_files.loc[(all_files.rec_split==9)&(all_files.subjid!=60), 'dat_idx'])]\n",
    "testY = np.array(all_files.loc[(all_files.rec_split==9)&(all_files.subjid!=60), 'digit'])\n",
    "print(trainX.shape, trainY.shape, testX.shape, testY.shape)"
   ]
  },
  {
   "cell_type": "code",
   "execution_count": null,
   "metadata": {
    "ExecuteTime": {
     "end_time": "2021-05-23T13:53:18.062215Z",
     "start_time": "2021-05-23T13:53:15.366278Z"
    }
   },
   "outputs": [],
   "source": [
    "batch_size = 16\n",
    "dataset = torch.utils.data.TensorDataset(torch.Tensor(trainX).cuda(), \n",
    "                                         torch.LongTensor(trainY).cuda())\n",
    "dataset = torch.utils.data.DataLoader(dataset, batch_size=batch_size, shuffle=True)\n",
    "\n",
    "dataset_valid = torch.utils.data.TensorDataset(torch.Tensor(testX).cuda(), \n",
    "                                               torch.LongTensor(testY).cuda())\n",
    "dataset_valid = torch.utils.data.DataLoader(dataset_valid, batch_size=batch_size, shuffle=False)"
   ]
  },
  {
   "cell_type": "markdown",
   "metadata": {},
   "source": [
    "# Classes "
   ]
  },
  {
   "cell_type": "code",
   "execution_count": null,
   "metadata": {
    "ExecuteTime": {
     "end_time": "2021-05-23T13:53:32.471349Z",
     "start_time": "2021-05-23T13:53:32.460708Z"
    }
   },
   "outputs": [],
   "source": [
    "import torch\n",
    "import torch.nn as nn\n",
    "from torch.nn.utils import weight_norm\n",
    "\n",
    "\n",
    "class Chomp1d(nn.Module):\n",
    "    def __init__(self, chomp_size):\n",
    "        super(Chomp1d, self).__init__()\n",
    "        self.chomp_size = chomp_size\n",
    "\n",
    "    def forward(self, x):\n",
    "        return x[:, :, :-self.chomp_size].contiguous()\n",
    "\n",
    "\n",
    "class TemporalBlock(nn.Module):\n",
    "    def __init__(self, n_inputs, n_outputs, kernel_size, stride, dilation, padding, dropout=0.2):\n",
    "        super(TemporalBlock, self).__init__()\n",
    "        self.conv1 = weight_norm(nn.Conv1d(n_inputs, n_outputs, kernel_size,\n",
    "                                           stride=stride, padding=padding, dilation=dilation))\n",
    "        self.chomp1 = Chomp1d(padding)\n",
    "        self.relu1 = nn.ReLU()\n",
    "        self.dropout1 = nn.Dropout(dropout)\n",
    "\n",
    "        self.conv2 = weight_norm(nn.Conv1d(n_outputs, n_outputs, kernel_size,\n",
    "                                           stride=stride, padding=padding, dilation=dilation))\n",
    "        self.chomp2 = Chomp1d(padding)\n",
    "        self.relu2 = nn.ReLU()\n",
    "        self.dropout2 = nn.Dropout(dropout)\n",
    "\n",
    "        self.net = nn.Sequential(self.conv1, self.chomp1, self.relu1, self.dropout1,\n",
    "                                 self.conv2, self.chomp2, self.relu2, self.dropout2)\n",
    "        self.downsample = nn.Conv1d(n_inputs, n_outputs, 1) if n_inputs != n_outputs else None\n",
    "        self.relu = nn.ReLU()\n",
    "        self.init_weights()\n",
    "\n",
    "    def init_weights(self):\n",
    "        self.conv1.weight.data.normal_(0, 0.01)\n",
    "        self.conv2.weight.data.normal_(0, 0.01)\n",
    "        if self.downsample is not None:\n",
    "            self.downsample.weight.data.normal_(0, 0.01)\n",
    "\n",
    "    def forward(self, x):\n",
    "        out = self.net(x)\n",
    "        res = x if self.downsample is None else self.downsample(x)\n",
    "        return self.relu(out + res)\n",
    "\n",
    "\n",
    "class TemporalConvNet(nn.Module):\n",
    "    def __init__(self, num_inputs, num_channels, kernel_size=2, dropout=0.2):\n",
    "        super(TemporalConvNet, self).__init__()\n",
    "        layers = []\n",
    "        num_levels = len(num_channels)\n",
    "        for i in range(num_levels):\n",
    "            dilation_size = 2 ** i\n",
    "            in_channels = num_inputs if i == 0 else num_channels[i-1]\n",
    "            out_channels = num_channels[i]\n",
    "            layers += [TemporalBlock(in_channels, out_channels, kernel_size, stride=1, dilation=dilation_size,\n",
    "                                     padding=(kernel_size-1) * dilation_size, dropout=dropout)]\n",
    "\n",
    "        self.network = nn.Sequential(*layers)\n",
    "\n",
    "    def forward(self, x):\n",
    "        return self.network(x)\n",
    "class TCN(nn.Module):\n",
    "    def __init__(self, input_size, output_size, num_channels, kernel_size, dropout):\n",
    "        super(TCN, self).__init__()\n",
    "        self.tcn = TemporalConvNet(input_size, num_channels, kernel_size=kernel_size, dropout=dropout)\n",
    "        self.linear = nn.Linear(num_channels[-1], output_size)\n",
    "        self.init_weights()\n",
    "\n",
    "    def init_weights(self):\n",
    "        self.linear.weight.data.normal_(0, 0.01)\n",
    "\n",
    "    def forward(self, x):\n",
    "        y1 = self.tcn(x)\n",
    "        return self.linear(y1[:, :, -1])"
   ]
  },
  {
   "cell_type": "markdown",
   "metadata": {},
   "source": [
    "# Functions"
   ]
  },
  {
   "cell_type": "code",
   "execution_count": null,
   "metadata": {
    "ExecuteTime": {
     "end_time": "2021-05-23T15:16:06.867592Z",
     "start_time": "2021-05-23T15:16:06.858277Z"
    }
   },
   "outputs": [],
   "source": [
    "def gen_model(p):\n",
    "    model = TCN(50, 10, [25]*8, kernel_size=16, dropout=0.0).cuda()\n",
    "    return model\n",
    "\n",
    "def train(model, ttype, train_loader, test_loader, optimizer, loss_func, epoch, perf_file,\n",
    "          loss_buffer_size=100, batch_size=4, device='cuda',\n",
    "          prog_bar=None, last_test_perf=0):\n",
    "    \n",
    "    assert(loss_buffer_size%batch_size==0)\n",
    "    perfs = []\n",
    "    losses = []\n",
    "    best_test_perf = last_test_perf\n",
    "    \n",
    "    for batch_idx, (data, target) in enumerate(train_loader):\n",
    "        model.train()\n",
    "        data = data.to(device)\n",
    "        target = target.to(device)\n",
    "        optimizer.zero_grad()\n",
    "        out = model(data)\n",
    "        loss = loss_func(out,\n",
    "                         target)\n",
    "\n",
    "        loss.backward()\n",
    "        optimizer.step()\n",
    "        perfs.append((torch.argmax(out, dim=-1) == \n",
    "                      target).sum().item())\n",
    "        perfs = perfs[int(-loss_buffer_size/batch_size):]\n",
    "                          \n",
    "        losses.append(loss.detach().cpu().numpy())\n",
    "        losses = losses[int(-loss_buffer_size/batch_size):]\n",
    "        \n",
    "        if ((batch_idx*batch_size)%loss_buffer_size == 0) & (batch_idx != 0):\n",
    "            loss_track = {}\n",
    "            last_test_perf = np.mean(perfs) / (batch_size)\n",
    "            #last_test_perf = test_model(model, 'cuda', test_loader, \n",
    "            #                            batch_size)\n",
    "            loss_track['avg_loss'] = np.mean(losses)\n",
    "            #loss_track['last_test'] = last_test_perf\n",
    "            loss_track['training_perf'] = np.mean(perfs) / (batch_size)\n",
    "            loss_track['epoch'] = epoch\n",
    "            loss_track['batch_idx'] = batch_idx\n",
    "            with open(perf_file, 'a+') as fp:\n",
    "                csv_writer = DictWriter(fp, fieldnames=list(loss_track.keys()))\n",
    "                if fp.tell() == 0:\n",
    "                    csv_writer.writeheader()\n",
    "                csv_writer.writerow(loss_track)\n",
    "                fp.flush()\n",
    "            if best_test_perf < last_test_perf:\n",
    "                torch.save(model.state_dict(), perf_file[:-4]+\".pt\")\n",
    "                best_test_perf = last_test_perf\n",
    "        if not (prog_bar is None):\n",
    "            # Update progress_bar\n",
    "            s = \"{}:{} Loss: {:.5f}, Tperf: {:.4f}, valid: {:.4f}\"\n",
    "            format_list = [epoch,batch_idx*batch_size, np.mean(losses), \n",
    "                           np.mean(perfs) / (batch_size),\n",
    "                           last_test_perf]         \n",
    "            s = s.format(*format_list)\n",
    "            prog_bar.set_description(s)\n",
    "    return best_test_perf\n",
    "def test_model(model, device, test_loader, batch_size):\n",
    "    # Test the Model\n",
    "    perfs = []\n",
    "    tot = 0.0\n",
    "    total_num = 0.0\n",
    "    with torch.no_grad():\n",
    "        for data, target in test_loader:\n",
    "            data = data.to(device)\n",
    "            batch = data.shape[0]\n",
    "            target = target.to(device)\n",
    "            out = model(data)\n",
    "            total_num += batch\n",
    "            tot += (torch.argmax(out, \n",
    "                                 dim=-1) == target).sum().item()\n",
    "            \n",
    "    perf = tot / total_num\n",
    "    return perf\n",
    "\n",
    "def save_outcome(outcome, filename):\n",
    "    dat = pd.DataFrame(outcome)\n",
    "    dat.to_csv(join('perf',filename))"
   ]
  },
  {
   "cell_type": "markdown",
   "metadata": {},
   "source": [
    "# Go!"
   ]
  },
  {
   "cell_type": "code",
   "execution_count": null,
   "metadata": {
    "ExecuteTime": {
     "end_time": "2021-05-23T15:16:07.904190Z",
     "start_time": "2021-05-23T15:16:07.902125Z"
    }
   },
   "outputs": [],
   "source": [
    "params = [\n",
    "          [None],\n",
    "          ]\n"
   ]
  },
  {
   "cell_type": "code",
   "execution_count": null,
   "metadata": {
    "ExecuteTime": {
     "end_time": "2021-05-23T16:24:26.384516Z",
     "start_time": "2021-05-23T15:16:13.047779Z"
    }
   },
   "outputs": [],
   "source": [
    "runs = 5\n",
    "for r in range(runs):\n",
    "    for i, p in enumerate(params):\n",
    "        model = gen_model(p)\n",
    "\n",
    "        tot_weights = 0\n",
    "        for p in model.parameters():\n",
    "            tot_weights += p.numel()\n",
    "        print(\"Total Weights:\", tot_weights)\n",
    "\n",
    "        loss_func = torch.nn.CrossEntropyLoss()\n",
    "        optimizer = torch.optim.Adam(model.parameters())\n",
    "        epochs = 10\n",
    "        Trainscale = 10\n",
    "        device='cuda'\n",
    "        progress_bar = tqdm(range(int(epochs)), bar_format='{l_bar}{bar:5}{r_bar}{bar:-5b}')\n",
    "        epochperfs = []\n",
    "        times_100 = 0\n",
    "        last_test = 0\n",
    "        for epoch_idx in progress_bar:\n",
    "            perfs = []\n",
    "            losses = []\n",
    "            model.train()\n",
    "            last_test = train(model, ttype, dataset, dataset_valid, \n",
    "                              optimizer, loss_func, batch_size=batch_size, loss_buffer_size=992,\n",
    "                              epoch=epoch_idx, perf_file=join('perf','tcn_audioHARD_05232021_{}.csv'.format(r)),\n",
    "                              prog_bar=progress_bar, last_test_perf=last_test)\n",
    "            "
   ]
  },
  {
   "cell_type": "code",
   "execution_count": null,
   "metadata": {
    "ExecuteTime": {
     "end_time": "2021-05-03T13:54:56.648928Z",
     "start_time": "2021-05-03T13:54:56.617925Z"
    }
   },
   "outputs": [],
   "source": [
    "model.load_state_dict(torch.load('perf/tcn_audioHARD_5032021_0.pt'))"
   ]
  },
  {
   "cell_type": "code",
   "execution_count": null,
   "metadata": {
    "ExecuteTime": {
     "end_time": "2021-05-23T21:03:47.364331Z",
     "start_time": "2021-05-23T20:41:47.229485Z"
    },
    "scrolled": true
   },
   "outputs": [],
   "source": [
    "for r in range(5):\n",
    "    model.load_state_dict(torch.load('perf/tcn_audioHARD_05232021_{}.pt'.format(r)))\n",
    "    model.eval()\n",
    "    scales = [\n",
    "              '10.00', \n",
    "              '05.00', \n",
    "              '02.50',\n",
    "              '01.25', \n",
    "              '01.00', \n",
    "              '00.80', \n",
    "              '00.40', \n",
    "              '00.20', \n",
    "              '00.10'\n",
    "              ]\n",
    "    scale_perf = []\n",
    "    for scale in scales:\n",
    "        test_paths = join('/media', 'root', 'easystore', 'experiments', \n",
    "                         'audiomnist', scale, 'AudioMNIST', 'data')\n",
    "        full_file = glob.glob(join(test_paths, \"*\"))\n",
    "        subj_perfs = []\n",
    "        for filename in full_file:\n",
    "            test_dat = np.load(filename)\n",
    "\n",
    "            testX = test_dat[list(all_files.loc[(all_files.rec_split==9)&\n",
    "                                                (all_files.subjid==int(filename.split(\"_\")[-2])), 'ind_idx'])]\n",
    "            testY = np.array(all_files.loc[(all_files.rec_split==9)&\n",
    "                                           (all_files.subjid==int(filename.split(\"_\")[-2])), 'digit'])\n",
    "            dataset_test = torch.utils.data.TensorDataset(torch.Tensor(testX).cuda(), \n",
    "                                                           torch.LongTensor(testY).cuda())\n",
    "            dataset_test = torch.utils.data.DataLoader(dataset_test, batch_size=batch_size, shuffle=False)\n",
    "            last_test_perf = test_model(model, 'cuda',\n",
    "                                        dataset_test, batch_size)\n",
    "            subj_perfs.append(last_test_perf)\n",
    "        scoredict = {'perf':np.mean(subj_perfs),\n",
    "                           'scal':float(scale)}\n",
    "        print(scoredict)\n",
    "        scale_perf.append(scoredict)\n",
    "    scale_perfs = pd.DataFrame(scale_perf)\n",
    "    scale_perfs.to_pickle(join(\"perf\", \"tcn_hard_test_{}.dill\".format(r)))"
   ]
  }
 ],
 "metadata": {
  "kernelspec": {
   "display_name": "Python 3",
   "language": "python",
   "name": "python3"
  },
  "language_info": {
   "codemirror_mode": {
    "name": "ipython",
    "version": 3
   },
   "file_extension": ".py",
   "mimetype": "text/x-python",
   "name": "python",
   "nbconvert_exporter": "python",
   "pygments_lexer": "ipython3",
   "version": "3.6.10"
  },
  "toc": {
   "nav_menu": {},
   "number_sections": true,
   "sideBar": true,
   "skip_h1_title": false,
   "title_cell": "Table of Contents",
   "title_sidebar": "Contents",
   "toc_cell": false,
   "toc_position": {},
   "toc_section_display": true,
   "toc_window_display": false
  }
 },
 "nbformat": 4,
 "nbformat_minor": 4
}
