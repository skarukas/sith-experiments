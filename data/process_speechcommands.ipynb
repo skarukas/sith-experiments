{
  "cells": [
    {
      "cell_type": "code",
      "execution_count": 1,
      "metadata": {
        "id": "iMa31HDeWcz9"
      },
      "outputs": [],
      "source": [
        "import torch\n",
        "from torchaudio.datasets import SPEECHCOMMANDS\n",
        "import os\n",
        "import torchaudio\n",
        "from os.path import join\n",
        "import matplotlib.pyplot as plt\n",
        "from IPython.display import Audio\n",
        "import librosa\n",
        "from math import log2\n",
        "import numpy as np"
      ]
    },
    {
      "cell_type": "markdown",
      "metadata": {
        "id": "I19jxK0hdkHO"
      },
      "source": [
        "## Load Data (Google Speech Commands V2)"
      ]
    },
    {
      "cell_type": "code",
      "execution_count": 2,
      "metadata": {
        "id": "n5V9vTCBWnFE"
      },
      "outputs": [],
      "source": [
        "# modified version of \n",
        "#.  https://pytorch.org/tutorials/intermediate/speech_command_classification_with_torchaudio_tutorial.html\n",
        "\n",
        "class SubsetSC(SPEECHCOMMANDS):\n",
        "    def __init__(self, subset: str = None):\n",
        "        super().__init__(\"./\", download=True)\n",
        "\n",
        "        def load_list(filename):\n",
        "            filepath = os.path.join(self._path, filename)\n",
        "            with open(filepath) as fileobj:\n",
        "                return [os.path.join(self._path, line.strip()) for line in fileobj]\n",
        "\n",
        "        if subset == \"validation\":\n",
        "            self._walker = load_list(\"validation_list.txt\")\n",
        "        elif subset == \"testing\":\n",
        "            self._walker = load_list(\"testing_list.txt\")\n",
        "        elif subset == \"training\":\n",
        "            excludes = load_list(\"validation_list.txt\") + load_list(\"testing_list.txt\")\n",
        "            excludes = set(map(os.path.abspath, excludes))\n",
        "            self._walker = [w for w in self._walker if os.path.abspath(w) not in excludes]\n",
        "    \n",
        "    def __getitem__(self, idx):\n",
        "      fname = self._walker[idx]\n",
        "      x = torchaudio.load(fname)[0]\n",
        "      split = fname.split(\"/\")\n",
        "      word = split[-2]\n",
        "      id = split[-1].rstrip(\".wav\")\n",
        "      return (x, word, id)"
      ]
    },
    {
      "cell_type": "code",
      "execution_count": 3,
      "metadata": {
        "colab": {
          "base_uri": "https://localhost:8080/",
          "height": 66,
          "referenced_widgets": [
            "bf6c4ccfe96e41979fe3fc14f297091e",
            "b2b32c33de9647d0a9c20b4388dc92c6",
            "fbeb335c6aa2469f93e9fead445d9ced",
            "58a1297729784e7294f5c49e7df2e0cd",
            "039b78712d3c4aa9bc8ff4818ee0c6aa",
            "ff4a30c77c6c452d849bcb85a7a9afd7",
            "5e7d97375bb74a4782957097c2bcb48d",
            "5ed7979439de40de8dd866593aa87119",
            "f1a1e7ce5dc742cba3c8663c9680543a",
            "8258ea1826e54c7595c79b840cc04ca0",
            "ef58b8a1d3b3410088dba741c7f0847b"
          ]
        },
        "id": "3CV-LwmuWrPr",
        "outputId": "6df447b1-4384-4d5d-ad8d-9f1cf4cc736d"
      },
      "outputs": [
        {
          "data": {
            "application/vnd.jupyter.widget-view+json": {
              "model_id": "bf6c4ccfe96e41979fe3fc14f297091e",
              "version_major": 2,
              "version_minor": 0
            },
            "text/plain": [
              "  0%|          | 0.00/2.26G [00:00<?, ?B/s]"
            ]
          },
          "metadata": {},
          "output_type": "display_data"
        },
        {
          "name": "stdout",
          "output_type": "stream",
          "text": [
            "84843 9981 11005\n"
          ]
        }
      ],
      "source": [
        "train = SubsetSC(\"training\")\n",
        "val = SubsetSC(\"validation\")\n",
        "test = SubsetSC(\"testing\")\n",
        "print(len(train), len(val), len(test))"
      ]
    },
    {
      "cell_type": "code",
      "execution_count": 4,
      "metadata": {
        "colab": {
          "base_uri": "https://localhost:8080/"
        },
        "id": "RsDNKJsCW-WI",
        "outputId": "a549f007-dc34-45a9-a0d5-41225f415ef5"
      },
      "outputs": [
        {
          "data": {
            "text/plain": [
              "(tensor([[-0.0658, -0.0709, -0.0753,  ..., -0.0700, -0.0731, -0.0704]]),\n",
              " 'backward',\n",
              " '0165e0e8_nohash_0')"
            ]
          },
          "execution_count": 4,
          "metadata": {},
          "output_type": "execute_result"
        }
      ],
      "source": [
        "train[0]"
      ]
    },
    {
      "cell_type": "markdown",
      "metadata": {
        "id": "NY4ZKkXIdmrV"
      },
      "source": [
        "### Process Data"
      ]
    },
    {
      "cell_type": "code",
      "execution_count": 5,
      "metadata": {
        "colab": {
          "base_uri": "https://localhost:8080/"
        },
        "id": "gIfJ8D2CaX9W",
        "outputId": "5033fb34-3efe-4967-b0cf-07321189ed47"
      },
      "outputs": [
        {
          "name": "stdout",
          "output_type": "stream",
          "text": [
            "Creating constant-q filter with 8 bins per octave\n"
          ]
        }
      ],
      "source": [
        "fmin = 100\n",
        "fmax = 6000\n",
        "bins = 50\n",
        "hop_length = 64\n",
        "bins_per_octave = int(bins / log2(fmax/fmin) + 0.5)\n",
        "print(f\"Creating constant-q filter with {bins_per_octave} bins per octave\")\n",
        "transform = lambda x: librosa.cqt(x, sr=16000, hop_length=hop_length, fmin=fmin, n_bins=bins, bins_per_octave=bins_per_octave)"
      ]
    },
    {
      "cell_type": "code",
      "execution_count": 26,
      "metadata": {
        "id": "eFxBQl7weg_N"
      },
      "outputs": [],
      "source": [
        "def save_data(data, dir):\n",
        "  x, word, id = data\n",
        "  X = torch.tensor(transform(x.numpy()[0]))\n",
        "  item = (X, word)\n",
        "  word_dir = join(dir, word)\n",
        "  os.makedirs(word_dir, exist_ok=True)\n",
        "  f = open(join(word_dir, id + \".pt\"), \"wb\")\n",
        "  torch.save(item, f)"
      ]
    },
    {
      "cell_type": "code",
      "execution_count": 27,
      "metadata": {
        "colab": {
          "base_uri": "https://localhost:8080/",
          "height": 75
        },
        "id": "SBFr9o2PkwJn",
        "outputId": "cd079e51-c3ba-4b33-f48f-0cb26aaf1d6d"
      },
      "outputs": [
        {
          "data": {
            "text/html": [
              "\n",
              "                <audio controls=\"controls\" >\n",
              "                    <source src=\"data:audio/wav;base64,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\" type=\"audio/wav\" />\n",
              "                    Your browser does not support the audio element.\n",
              "                </audio>\n",
              "              "
            ],
            "text/plain": [
              "<IPython.lib.display.Audio object>"
            ]
          },
          "execution_count": 27,
          "metadata": {},
          "output_type": "execute_result"
        }
      ],
      "source": [
        "idx = 9000\n",
        "x = train[idx][0][0].numpy()\n",
        "Audio(x, rate=16000)"
      ]
    },
    {
      "cell_type": "code",
      "execution_count": 28,
      "metadata": {
        "colab": {
          "base_uri": "https://localhost:8080/",
          "height": 284
        },
        "id": "qmlh4zFajyB1",
        "outputId": "69cb7546-65cb-44a9-82dc-aa36943836e9"
      },
      "outputs": [
        {
          "data": {
            "text/plain": [
              "<matplotlib.image.AxesImage at 0x7f2ef599ef50>"
            ]
          },
          "execution_count": 28,
          "metadata": {},
          "output_type": "execute_result"
        },
        {
          "data": {
            "image/png": "[encoded data removed]",
            "text/plain": [
              "<Figure size 432x288 with 1 Axes>"
            ]
          },
          "metadata": {
            "needs_background": "light"
          },
          "output_type": "display_data"
        }
      ],
      "source": [
        "transformed = np.abs(transform(x))\n",
        "plt.imshow(transformed, aspect=\"auto\")"
      ]
    },
    {
      "cell_type": "code",
      "execution_count": 29,
      "metadata": {
        "colab": {
          "base_uri": "https://localhost:8080/"
        },
        "id": "q828xB00fi9F",
        "outputId": "8c1e5e9e-9107-4955-8f16-6b3dc6aac59b"
      },
      "outputs": [
        {
          "name": "stderr",
          "output_type": "stream",
          "text": [
            "/usr/local/lib/python3.7/dist-packages/librosa/core/spectrum.py:224: UserWarning: n_fft=128 is too small for input signal of length=107\n",
            "  n_fft, y.shape[-1]\n"
          ]
        }
      ],
      "source": [
        "# TODO: this part is currently too slow\n",
        "for x in train:\n",
        "  save_data(x, \"processed/train\")\n",
        "\n",
        "for x in val:\n",
        "  save_data(x, \"processed/val\")\n",
        "\n",
        "for x in test:\n",
        "  save_data(x, \"processed/test\")"
      ]
    }
  ],
  "metadata": {
    "colab": {
      "name": "process-speechcommands.ipynb",
      "provenance": []
    },
    "kernelspec": {
      "display_name": "Python 3",
      "name": "python3"
    },
    "language_info": {
      "name": "python"
    },
    "widgets": {
      "application/vnd.jupyter.widget-state+json": {
        "039b78712d3c4aa9bc8ff4818ee0c6aa": {
          "model_module": "@jupyter-widgets/controls",
          "model_module_version": "1.5.0",
          "model_name": "HTMLModel",
          "state": {
            "_dom_classes": [],
            "_model_module": "@jupyter-widgets/controls",
            "_model_module_version": "1.5.0",
            "_model_name": "HTMLModel",
            "_view_count": null,
            "_view_module": "@jupyter-widgets/controls",
            "_view_module_version": "1.5.0",
            "_view_name": "HTMLView",
            "description": "",
            "description_tooltip": null,
            "layout": "IPY_MODEL_ef58b8a1d3b3410088dba741c7f0847b",
            "placeholder": "​",
            "style": "IPY_MODEL_8258ea1826e54c7595c79b840cc04ca0",
            "value": " 2.26G/2.26G [00:27&lt;00:00, 21.9MB/s]"
          }
        },
        "58a1297729784e7294f5c49e7df2e0cd": {
          "model_module": "@jupyter-widgets/controls",
          "model_module_version": "1.5.0",
          "model_name": "FloatProgressModel",
          "state": {
            "_dom_classes": [],
            "_model_module": "@jupyter-widgets/controls",
            "_model_module_version": "1.5.0",
            "_model_name": "FloatProgressModel",
            "_view_count": null,
            "_view_module": "@jupyter-widgets/controls",
            "_view_module_version": "1.5.0",
            "_view_name": "ProgressView",
            "bar_style": "success",
            "description": "",
            "description_tooltip": null,
            "layout": "IPY_MODEL_f1a1e7ce5dc742cba3c8663c9680543a",
            "max": 2428923189,
            "min": 0,
            "orientation": "horizontal",
            "style": "IPY_MODEL_5ed7979439de40de8dd866593aa87119",
            "value": 2428923189
          }
        },
        "5e7d97375bb74a4782957097c2bcb48d": {
          "model_module": "@jupyter-widgets/base",
          "model_module_version": "1.2.0",
          "model_name": "LayoutModel",
          "state": {
            "_model_module": "@jupyter-widgets/base",
            "_model_module_version": "1.2.0",
            "_model_name": "LayoutModel",
            "_view_count": null,
            "_view_module": "@jupyter-widgets/base",
            "_view_module_version": "1.2.0",
            "_view_name": "LayoutView",
            "align_content": null,
            "align_items": null,
            "align_self": null,
            "border": null,
            "bottom": null,
            "display": null,
            "flex": null,
            "flex_flow": null,
            "grid_area": null,
            "grid_auto_columns": null,
            "grid_auto_flow": null,
            "grid_auto_rows": null,
            "grid_column": null,
            "grid_gap": null,
            "grid_row": null,
            "grid_template_areas": null,
            "grid_template_columns": null,
            "grid_template_rows": null,
            "height": null,
            "justify_content": null,
            "justify_items": null,
            "left": null,
            "margin": null,
            "max_height": null,
            "max_width": null,
            "min_height": null,
            "min_width": null,
            "object_fit": null,
            "object_position": null,
            "order": null,
            "overflow": null,
            "overflow_x": null,
            "overflow_y": null,
            "padding": null,
            "right": null,
            "top": null,
            "visibility": null,
            "width": null
          }
        },
        "5ed7979439de40de8dd866593aa87119": {
          "model_module": "@jupyter-widgets/controls",
          "model_module_version": "1.5.0",
          "model_name": "ProgressStyleModel",
          "state": {
            "_model_module": "@jupyter-widgets/controls",
            "_model_module_version": "1.5.0",
            "_model_name": "ProgressStyleModel",
            "_view_count": null,
            "_view_module": "@jupyter-widgets/base",
            "_view_module_version": "1.2.0",
            "_view_name": "StyleView",
            "bar_color": null,
            "description_width": ""
          }
        },
        "8258ea1826e54c7595c79b840cc04ca0": {
          "model_module": "@jupyter-widgets/controls",
          "model_module_version": "1.5.0",
          "model_name": "DescriptionStyleModel",
          "state": {
            "_model_module": "@jupyter-widgets/controls",
            "_model_module_version": "1.5.0",
            "_model_name": "DescriptionStyleModel",
            "_view_count": null,
            "_view_module": "@jupyter-widgets/base",
            "_view_module_version": "1.2.0",
            "_view_name": "StyleView",
            "description_width": ""
          }
        },
        "b2b32c33de9647d0a9c20b4388dc92c6": {
          "model_module": "@jupyter-widgets/base",
          "model_module_version": "1.2.0",
          "model_name": "LayoutModel",
          "state": {
            "_model_module": "@jupyter-widgets/base",
            "_model_module_version": "1.2.0",
            "_model_name": "LayoutModel",
            "_view_count": null,
            "_view_module": "@jupyter-widgets/base",
            "_view_module_version": "1.2.0",
            "_view_name": "LayoutView",
            "align_content": null,
            "align_items": null,
            "align_self": null,
            "border": null,
            "bottom": null,
            "display": null,
            "flex": null,
            "flex_flow": null,
            "grid_area": null,
            "grid_auto_columns": null,
            "grid_auto_flow": null,
            "grid_auto_rows": null,
            "grid_column": null,
            "grid_gap": null,
            "grid_row": null,
            "grid_template_areas": null,
            "grid_template_columns": null,
            "grid_template_rows": null,
            "height": null,
            "justify_content": null,
            "justify_items": null,
            "left": null,
            "margin": null,
            "max_height": null,
            "max_width": null,
            "min_height": null,
            "min_width": null,
            "object_fit": null,
            "object_position": null,
            "order": null,
            "overflow": null,
            "overflow_x": null,
            "overflow_y": null,
            "padding": null,
            "right": null,
            "top": null,
            "visibility": null,
            "width": null
          }
        },
        "bf6c4ccfe96e41979fe3fc14f297091e": {
          "model_module": "@jupyter-widgets/controls",
          "model_module_version": "1.5.0",
          "model_name": "HBoxModel",
          "state": {
            "_dom_classes": [],
            "_model_module": "@jupyter-widgets/controls",
            "_model_module_version": "1.5.0",
            "_model_name": "HBoxModel",
            "_view_count": null,
            "_view_module": "@jupyter-widgets/controls",
            "_view_module_version": "1.5.0",
            "_view_name": "HBoxView",
            "box_style": "",
            "children": [
              "IPY_MODEL_fbeb335c6aa2469f93e9fead445d9ced",
              "IPY_MODEL_58a1297729784e7294f5c49e7df2e0cd",
              "IPY_MODEL_039b78712d3c4aa9bc8ff4818ee0c6aa"
            ],
            "layout": "IPY_MODEL_b2b32c33de9647d0a9c20b4388dc92c6"
          }
        },
        "ef58b8a1d3b3410088dba741c7f0847b": {
          "model_module": "@jupyter-widgets/base",
          "model_module_version": "1.2.0",
          "model_name": "LayoutModel",
          "state": {
            "_model_module": "@jupyter-widgets/base",
            "_model_module_version": "1.2.0",
            "_model_name": "LayoutModel",
            "_view_count": null,
            "_view_module": "@jupyter-widgets/base",
            "_view_module_version": "1.2.0",
            "_view_name": "LayoutView",
            "align_content": null,
            "align_items": null,
            "align_self": null,
            "border": null,
            "bottom": null,
            "display": null,
            "flex": null,
            "flex_flow": null,
            "grid_area": null,
            "grid_auto_columns": null,
            "grid_auto_flow": null,
            "grid_auto_rows": null,
            "grid_column": null,
            "grid_gap": null,
            "grid_row": null,
            "grid_template_areas": null,
            "grid_template_columns": null,
            "grid_template_rows": null,
            "height": null,
            "justify_content": null,
            "justify_items": null,
            "left": null,
            "margin": null,
            "max_height": null,
            "max_width": null,
            "min_height": null,
            "min_width": null,
            "object_fit": null,
            "object_position": null,
            "order": null,
            "overflow": null,
            "overflow_x": null,
            "overflow_y": null,
            "padding": null,
            "right": null,
            "top": null,
            "visibility": null,
            "width": null
          }
        },
        "f1a1e7ce5dc742cba3c8663c9680543a": {
          "model_module": "@jupyter-widgets/base",
          "model_module_version": "1.2.0",
          "model_name": "LayoutModel",
          "state": {
            "_model_module": "@jupyter-widgets/base",
            "_model_module_version": "1.2.0",
            "_model_name": "LayoutModel",
            "_view_count": null,
            "_view_module": "@jupyter-widgets/base",
            "_view_module_version": "1.2.0",
            "_view_name": "LayoutView",
            "align_content": null,
            "align_items": null,
            "align_self": null,
            "border": null,
            "bottom": null,
            "display": null,
            "flex": null,
            "flex_flow": null,
            "grid_area": null,
            "grid_auto_columns": null,
            "grid_auto_flow": null,
            "grid_auto_rows": null,
            "grid_column": null,
            "grid_gap": null,
            "grid_row": null,
            "grid_template_areas": null,
            "grid_template_columns": null,
            "grid_template_rows": null,
            "height": null,
            "justify_content": null,
            "justify_items": null,
            "left": null,
            "margin": null,
            "max_height": null,
            "max_width": null,
            "min_height": null,
            "min_width": null,
            "object_fit": null,
            "object_position": null,
            "order": null,
            "overflow": null,
            "overflow_x": null,
            "overflow_y": null,
            "padding": null,
            "right": null,
            "top": null,
            "visibility": null,
            "width": null
          }
        },
        "fbeb335c6aa2469f93e9fead445d9ced": {
          "model_module": "@jupyter-widgets/controls",
          "model_module_version": "1.5.0",
          "model_name": "HTMLModel",
          "state": {
            "_dom_classes": [],
            "_model_module": "@jupyter-widgets/controls",
            "_model_module_version": "1.5.0",
            "_model_name": "HTMLModel",
            "_view_count": null,
            "_view_module": "@jupyter-widgets/controls",
            "_view_module_version": "1.5.0",
            "_view_name": "HTMLView",
            "description": "",
            "description_tooltip": null,
            "layout": "IPY_MODEL_5e7d97375bb74a4782957097c2bcb48d",
            "placeholder": "​",
            "style": "IPY_MODEL_ff4a30c77c6c452d849bcb85a7a9afd7",
            "value": "100%"
          }
        },
        "ff4a30c77c6c452d849bcb85a7a9afd7": {
          "model_module": "@jupyter-widgets/controls",
          "model_module_version": "1.5.0",
          "model_name": "DescriptionStyleModel",
          "state": {
            "_model_module": "@jupyter-widgets/controls",
            "_model_module_version": "1.5.0",
            "_model_name": "DescriptionStyleModel",
            "_view_count": null,
            "_view_module": "@jupyter-widgets/base",
            "_view_module_version": "1.2.0",
            "_view_name": "StyleView",
            "description_width": ""
          }
        }
      }
    }
  },
  "nbformat": 4,
  "nbformat_minor": 0
}
